{
 "cells": [
  {
   "cell_type": "markdown",
   "metadata": {},
   "source": [
    "## INTRODUCCIÓN A XML\n",
    "_Antonio Sarasa, Enrique Martín_"
   ]
  },
  {
   "cell_type": "markdown",
   "metadata": {},
   "source": [
    "__XML (Extensible Markup Language)__ es un metalenguaje que permite definir lenguajes de marcado. Los lenguajes de marcado permiten describir la estructura de los contenidos de un documento.\n",
    "\n",
    "Un __lenguaje de marcado__ está formado por un conjunto de etiquetas que se encierran entre corchetes angulares,<>, y se usan en pares:\n",
    "\n",
    "          <etiqueta> y </etiqueta>\n",
    "\n",
    "No existen conjuntos prefijados de etiquetas, se definen en cada lenguaje de marcado. Cada par de etiquetas delimita el comienzo y el final de una porción de documento a la que se refiere la etiqueta. Por ejemplo:\n",
    "\n",
    "```\n",
    "<asignatura>Bases de datos</asignatura>\n",
    "```\n",
    "Un __documento XML__ es aquel que se crea utilizando un lenguaje de marcado. Por ejemplo:\n",
    "\n",
    "```\n",
    "<banco>\n",
    "    <cuenta>\n",
    "        <numero_cuenta>C-101</numero_cuenta>\n",
    "        <nombre_sucursal>Centro</nombre_sucursal>\n",
    "        <saldo>500</saldo>\n",
    "    </cuenta>\n",
    "    <cliente>\n",
    "        <nombre_cliente>González</nombre_cliente>\n",
    "        <calle_cliente>Arenal</calle_cliente>\n",
    "        <ciudad_cliente>La Granja</ciudad_cliente>\n",
    "    </cliente>\n",
    "    <impositor>\n",
    "        <numero_cuenta> C-101</numero_cuenta>\n",
    "        <nombre_cliente>González</nombre_cliente>\n",
    "    </impositor>\n",
    "</banco>\n",
    "```"
   ]
  },
  {
   "cell_type": "markdown",
   "metadata": {},
   "source": [
    "## Estructura básica de un documento XML"
   ]
  },
  {
   "cell_type": "markdown",
   "metadata": {},
   "source": [
    "Todo documento XML está formado por:\n",
    "* __Prologo__. Consta de dos declaraciones: \n",
    "   * La declaración XML que indica la versión de XML utilizada y el tipo de codificación de caracteres.\n",
    "               <?xml version=“1.0” encoding=“UTF-8”?>\n",
    "   *  La declaración de tipo de documento que asocia el documento a una DTD o XSD respecto a la cual el documento es conforme. \n",
    "   \n",
    "* __Elementos__. Es un par de etiquetas de comienzo y final coincidentes que delimita una porción de información.\n",
    "                  <título>introducción</título>\n",
    "\n",
    "   * Existen elementos vacíos que no contienen contenido.Se representan indistintamente como:\n",
    "\n",
    "            <Nombre etiqueta/> o <Nombre etiqueta> </Nombre etiqueta>\n",
    "\n",
    "   * Los elementos se pueden anidar. Un texto aparece en el contexto de un elemento si aparece entre la etiqueta de inicio y final de dicho elemento. Las etiquetas se anidan correctamente si toda etiqueta de inicio tiene un única etiqueta de finalización coincidente que está en el contexto del mismo elemento padre.\n",
    "\n",
    "   * Un elemento puede aparecer varias veces en un documento XML.\n",
    "   * El texto en un documento XML puede estar mezclado con los subelementos de otro elemento.\n",
    "\n",
    "          <cuenta>Esta cuenta se usa muy rara vez, por no decir nunca\n",
    "              <numero_cuenta> C-102 </numero_cuenta>\n",
    "              <nombre_sucursal>Navacerrada</nombre_sucursal>\n",
    "              <saldo>400</saldo>\n",
    "          </cuenta>\n",
    "   \n",
    "  * Todo documento XML tiene un único elemento raíz que engloba al resto de elementos del documento. En el primer ejemplo el elemento ```<banco>``` era la raíz.\n",
    "\n",
    "   \n",
    "* __Atributos__. Las etiquetas de los elementos pueden incluir 1 o más atributos que representan propiedades de los elementos de la forma Nombre atributo=“Valor atributo” \n",
    "          <cuenta tipo_cuenta=“corriente”>\n",
    "\n",
    "   * Los atributos pueden aparecer solamente una vez en una etiqueta dada.\n",
    "\n",
    "* __Comentarios__. Es un texto que se escribe entre <!–- y -->. \n",
    "   * La cadena “--” no puede aparecer dentro de un comentario. \n",
    "   * Los comentarios pueden aparecer en cualquier sitio salvo dentro de declaraciones, etiquetas y dentro de otros comentarios.\n",
    "\n",
    "* __Espacio de nombres__. Es un mecanismo que permite especificar nombre únicos globalmente para que se usen como marcas de elementos en los documentos XML. \n",
    "   * Para ello se antepone a la etiqueta o atributo un identificador de recursos universal. \n",
    "   * En el ejemplo del banco podría ser http:///www.BancoPrincipal.com .\n",
    "   * Para abreviarlo se declaran abreviaturas del espacio de nombres mediante el atributo __xmlns__\n",
    "       \n",
    "         <banco xmlns:BP=\"http://www.BancoPrincipal.com\">\n",
    "              ...\n",
    "              <BP:sucursal>\n",
    "                  <BP:nombre_sucursal>Centro</BP:nombre_sucursal>\n",
    "                  <BP:ciudad_sucursal>Centro</BP:ciudad_sucursal>   \n",
    "              </BP:sucursal>\n",
    "              ...\n",
    "         </banco>\n",
    "         \n",
    "   * Un documento puede tener más de un espacio de nombres declarado como parte del elemento raíz, de manera que se puede asociar elementos diferentes con espacios de nombres distintos.\n",
    "   \n",
    "   * Se puede definir un espacio de nombres predeterminado mediante el uso del atributo __xmlns__ en el elemento raíz. Los elementos sin un prefijo de espacio de nombres explícito pertenecen entonces al espacio de nombres predeterminado.\n",
    "\n",
    "Observar que a veces es necesario almacenar valores que contienen los caracteres de inicio (`<`)  final (`>`) de etiqueta  sin que se interpreten como etiquetas XML, es decir como texto normal. Para ello se usa la construcción `CDATA`:\n",
    "              \n",
    "    <![CDATA[Aquí podemos incluir etiquetas <XML> sin problema]]>"
   ]
  },
  {
   "cell_type": "markdown",
   "metadata": {},
   "source": [
    " ## EJEMPLO"
   ]
  },
  {
   "cell_type": "markdown",
   "metadata": {},
   "source": [
    "Considerar que se quiere representar mediante un documento XML la siguiente información:\n",
    "\n",
    "__Persona 1:__\n",
    "\n",
    "Nombre: Roberto Casas\n",
    "\n",
    "Email: ro.casas@direccion.com\n",
    "\n",
    "Amigos: Leire, Pepe\n",
    "\n",
    "__Persona 2:__\n",
    "\n",
    "Nombre: Leire García\n",
    "\n",
    "Email: le.gracia@direccion.com,le.garcia@hotmail.com \n",
    "\n",
    "Amigos: Ricky\n",
    "\n",
    "\n",
    "__Persona 3:__\n",
    "\n",
    "Nombre: José Manzaneda\n",
    "\n",
    "Email: j.manzaneda@direccion.com , jman@hotmail.com \n",
    "\n",
    "Amigos: Ricky\n",
    "\n",
    "Enemigos: Leire\n",
    "\n",
    "Esta información se podría representar mediante un documento de la forma:\n",
    "\n",
    "     <?xml version=\"1.0\" encoding=\"UTF-8\" ?>\n",
    "      <listin>\n",
    "        <persona sexo=\"hombre\" id=\"ricky\">\n",
    "          <nombre> Roberto Casas </nombre>\n",
    "          <email> ro.casas@direccion.com </email>\n",
    "          <relacion amigo_de=\"leire pepe\"/>\n",
    "        </persona>\n",
    "        <persona sexo=\"mujer\" id=\"leire\">\n",
    "          <nombre> Leire Garcia </nombre>\n",
    "          <email> le.garcia@direccion.com </email>\n",
    "          <email> le.garcia@hotmail.com </email>\n",
    "          <relacion amigo_de=\"ricky\"/>\n",
    "        </persona>\n",
    "        <persona sexo=\"hombre\" id=\"pepe\">\n",
    "          <nombre> José Manzaneda </nombre>\n",
    "          <email> j.manzaneda@direccion.com </email>\n",
    "          <email> jman@hotmail.com </email>\n",
    "          <relacion enemigo_de=\"leire\" amigo_de=\"ricky\"/>\n",
    "        </persona>\n",
    "     </listin>\n"
   ]
  },
  {
   "cell_type": "markdown",
   "metadata": {},
   "source": [
    "## PROCESAMIENTO DE DOCUMENTOS XML USANDO PYTHON"
   ]
  },
  {
   "cell_type": "markdown",
   "metadata": {},
   "source": [
    "* Un procesador XML permite a una aplicación acceder a los contenidos de un documento XML así como detectar posibles errores.\n",
    "* Hay dos enfoques para acceder a los contenidos:\n",
    "   * __Dirigido por eventos__. El documento se procesa secuencialmente, de manera que cada elemento reconocido activa un evento que puede dar lugar a una acción por parte de la aplicación. SAX es un estándar para este enfoque\n",
    "\n",
    "   * __Manipulación del árbol__. El documento se estructura como árbol de nodos a los que se puede acceder en cualquier orden. DOM es un estándar para este enfoque\n"
   ]
  },
  {
   "cell_type": "markdown",
   "metadata": {},
   "source": [
    "### SAX (Simple API for XML)"
   ]
  },
  {
   "cell_type": "markdown",
   "metadata": {},
   "source": [
    "Es una interfaz dirigida por eventos que permite leer el contenido como una secuencia de datos e interpretar las etiquetas según se van encontrando.\n",
    "Se caracteriza por:\n",
    " * Las partes del documento siempre se leen en orden desde el inicio al final.\n",
    " * No se crea ninguna estructura de datos para representar el documento, sino que sólo se analiza secuencialmente y se generan eventos denominados _eventos de análisis_ que corresponden con el reconocimiento de partes de un documento. \n",
    " * Por ejemplo cuando se encuentra el inicio de un elemento se genera un evento o cuando finaliza un elemento se genera otro evento.\n",
    " * Para gestionar los eventos se crean funciones controladoras para cada evento que se va a considerar  denominadas manejadores de eventos. De esta forma cuando ocurre un evento se llama al manejador correspondiente para que realice la acción definida en el manejador.\n",
    " * No es posible manipular información ya procesada, de manera que si fuera necesario entonces habría que guardarla en una estructura de datos o bien volver a llamar al procesador.\n",
    " \n",
    "\n",
    "Por ejemplo  considerar el siguiente documento XML:\n",
    "\n",
    "    <?xml version=“1.0”?>\n",
    "    <doc> \n",
    "        <par> \n",
    "            Hola Mundo \n",
    "        </par> \n",
    "        <par>\n",
    "            Adiós\n",
    "        </par>\n",
    "    </doc>\n",
    "\n",
    "El procesamiento con SAX produciría la siguiente secuencia de eventos:\n",
    "    \n",
    "1. inicio de documento\n",
    "2. inicio de elemento __doc__\n",
    "3. inicio de elemento __par__\n",
    "4. caracteres \"Hola mundo\" -- ___OJO: podrían haber sido varios eventos___ --\n",
    "5. fin de elemento __par__\n",
    "6. inicio de elemento __par__\n",
    "7. caracteres \"Adiós\"\n",
    "7. fin de elemento __par__\n",
    "6. fin de elemento __doc__\n",
    "7. fin documento\n",
    "\n",
    "\n",
    "\n",
    "\n"
   ]
  },
  {
   "cell_type": "markdown",
   "metadata": {},
   "source": [
    "### Procesamiento SAX en Python"
   ]
  },
  {
   "cell_type": "markdown",
   "metadata": {},
   "source": [
    "Para procesar usando SAX es necesario crearse un manejador propio `ContentHandler` como subclase de __xml.sax.ContentHandler__. El manejador gestionara las etiquetas y atributos que se deseen del documento XML que va a ser procesado.\n",
    "\n",
    "El manejador proporciona un conjunto de métodos para gestionar determinados eventos que se producen en el procesamiento. Podéis encontrar más detalles en la documentación de Python (https://docs.python.org/3/library/xml.sax.handler.html#contenthandler-objects):\n",
    "* Los métodos __startDocument__ y __endDocument__ son llamadas al comienzo y al final del archivo XML.\n",
    "* Los métodos __startElement__(etiqueta,atributos) y __endElement__(etiqueta) son llamados al comienzo y al final de cada elemento. En caso de utilizar espacios de nombres se utilizarían los métodos __startElementNS__ y __endElementNS.__\n",
    "* El método __characters(texto)__ es llamado cuando es una cadena de texto. \n",
    "__<font color='red'>IMPORTANTE: las cadenas de texto se pueden leer por bloques en distintos eventos consecutivos, y esto es algo totalmente dependiente de la implementación y del estado del sistema. No podéis suponer que un texto completo será devuelto por un único evento.</font>__\n",
    "* __xml.sax.make_parser([Lista de parsers])__: Crea un nuevo objeto parser. Tiene como argumento optativo una lista de parsers.\n",
    "* __xml.sax.parse(archivo XML, Manejador,[ManejadorErrores])__: Crea un parser SAX  y lo usa para procesar el documento XML. Tiene como argumento el documento XML que va a ser procesado, el manejador de eventos, y optativamente un manejador de errores.\n",
    "* __xml.sax.parseString(NombreCadenaXML, Manejador,[ManejadorErrores])__: Crea un parser SAX y lo usa para procesar la cadena XML dada. Tiene como argumento la cadena XML que va a ser procesada, el manejador de eventos, y optativamente un manejador de errores."
   ]
  },
  {
   "cell_type": "code",
   "execution_count": 1,
   "metadata": {},
   "outputs": [
    {
     "name": "stdout",
     "output_type": "stream",
     "text": [
      "1) **Inicio de documento**\n",
      "2) Inicio de etiqueta <doc> con atributos []\n",
      "    3) Inicio de etiqueta <par> con atributos [('tipo', 'saludo')]\n",
      "        4) Leyendo cadena de caracteres: \"Hola Mundo\"\n",
      "    5) Final de etiqueta <par>\n",
      "    6) Inicio de etiqueta <par> con atributos [('tipo', 'despedida')]\n",
      "        7) Leyendo cadena de caracteres: \"Adiós\"\n",
      "    8) Final de etiqueta <par>\n",
      "9) Final de etiqueta <doc>\n",
      "10) **Fin de documento**\n"
     ]
    }
   ],
   "source": [
    "import xml.sax\n",
    "\n",
    "class ManejadorSimple(xml.sax.ContentHandler):\n",
    "    \n",
    "    def __init__(self):\n",
    "        self.tabulador = \"\"\n",
    "        self.num_evento = 1\n",
    "\n",
    "    def startDocument(self):\n",
    "        print(f'{self.tabulador}{self.num_evento}) **Inicio de documento**')\n",
    "        self.num_evento += 1\n",
    "\n",
    "    def endDocument(self):\n",
    "        print(f'{self.tabulador}{self.num_evento}) **Fin de documento**')\n",
    "        self.num_evento += 1\n",
    "        \n",
    "    def startElement(self, etiqueta, atributos):\n",
    "        print(f'{self.tabulador}{self.num_evento}) Inicio de etiqueta <{etiqueta}> con atributos {atributos.items()}')\n",
    "        self.tabulador += \"    \"  # Aumenta la sangría\n",
    "        self.num_evento += 1\n",
    "\n",
    "    def characters(self, contenido):\n",
    "        print(f'{self.tabulador}{self.num_evento}) Leyendo cadena de caracteres: \"{contenido}\"')\n",
    "        self.num_evento += 1\n",
    "            \n",
    "    def endElement(self, etiqueta):\n",
    "        self.tabulador = self.tabulador[:-4]  # Reduce la sangría\n",
    "        print(f'{self.tabulador}{self.num_evento}) Final de etiqueta <{etiqueta}>')\n",
    "        self.num_evento += 1\n",
    "\n",
    "parser = xml.sax.make_parser()\n",
    "parser.setContentHandler(ManejadorSimple())\n",
    "parser.parse(\"simple_flat.xml\")"
   ]
  },
  {
   "cell_type": "code",
   "execution_count": 2,
   "metadata": {},
   "outputs": [
    {
     "name": "stdout",
     "output_type": "stream",
     "text": [
      "1) **Inicio de documento**\n",
      "2) Inicio de etiqueta <doc> con atributos []\n",
      "    3) Leyendo cadena de caracteres: \" \"\n",
      "    4) Leyendo cadena de caracteres: \"\n",
      "\"\n",
      "    5) Leyendo cadena de caracteres: \"    \"\n",
      "    6) Inicio de etiqueta <par> con atributos [('tipo', 'saludo')]\n",
      "        7) Leyendo cadena de caracteres: \" \"\n",
      "        8) Leyendo cadena de caracteres: \"\n",
      "\"\n",
      "        9) Leyendo cadena de caracteres: \"        Hola Mundo \"\n",
      "        10) Leyendo cadena de caracteres: \"\n",
      "\"\n",
      "        11) Leyendo cadena de caracteres: \"    \"\n",
      "    12) Final de etiqueta <par>\n",
      "    13) Leyendo cadena de caracteres: \" \"\n",
      "    14) Leyendo cadena de caracteres: \"\n",
      "\"\n",
      "    15) Leyendo cadena de caracteres: \"    \"\n",
      "    16) Inicio de etiqueta <par> con atributos [('tipo', 'despedida')]\n",
      "        17) Leyendo cadena de caracteres: \"\n",
      "\"\n",
      "        18) Leyendo cadena de caracteres: \"        Adiós\"\n",
      "        19) Leyendo cadena de caracteres: \"\n",
      "\"\n",
      "        20) Leyendo cadena de caracteres: \"    \"\n",
      "    21) Final de etiqueta <par>\n",
      "    22) Leyendo cadena de caracteres: \"\n",
      "\"\n",
      "23) Final de etiqueta <doc>\n",
      "24) **Fin de documento**\n"
     ]
    }
   ],
   "source": [
    "parser = xml.sax.make_parser()\n",
    "parser.setContentHandler(ManejadorSimple())\n",
    "parser.parse(\"simple.xml\")  # ¡¡Genera muchos más eventos debido a múltiples lecturas de texto!!"
   ]
  },
  {
   "cell_type": "markdown",
   "metadata": {},
   "source": [
    "Vamos a crear un manejador y luego se va a usar para procesar un documento de ejemplo que almacena un catálogo:"
   ]
  },
  {
   "cell_type": "code",
   "execution_count": 3,
   "metadata": {
    "collapsed": false,
    "jupyter": {
     "outputs_hidden": false
    }
   },
   "outputs": [],
   "source": [
    "import xml.sax\n",
    "\n",
    "class ManejadorCatalogo (xml.sax.ContentHandler):\n",
    "    \n",
    "    def __init__(self):\n",
    "        # curr_path es una lista de etiquetas representando el camino actual dentro del árbol,\n",
    "        # desde la raíz\n",
    "        self.curr_path = []\n",
    "        # 'texto' almacena el texto leído por invocaciones consecutivas a characters()\n",
    "        self.texto = \"\"\n",
    "        \n",
    "    def startElement(self, etiqueta, atributos):\n",
    "        # Cuando encontramos el inicio de elemento lo añadimos al camino actual, y si\n",
    "        # es un libro lo mostramos por pantalla junto con su ISBN\n",
    "        self.curr_path.append(etiqueta)\n",
    "        self.texto = \"\"  # Borro cualquier texto leído previamente\n",
    "        if etiqueta == \"Libro\":\n",
    "            print(\"****Libro****\")\n",
    "            print(f'isbn: {atributos[\"isbn\"]}')\n",
    "\n",
    "    def characters(self, contenido):\n",
    "        # Como se puede invocar varias veces a characters, concatenamos todos \n",
    "        # los bloques leídos\n",
    "        self.texto += contenido\n",
    "            \n",
    "    def endElement(self, etiqueta):\n",
    "        # Dependiendo de la etiqueta que se está cerrando (self.curr_path[-1]), \n",
    "        # mostramos por pantalla el texto leído en self.texto\n",
    "        if self.curr_path[-1] == \"titulo\":\n",
    "            print(f\"Titulo: {self.texto}\")\n",
    "        elif self.curr_path[-1] == \"fecha\":\n",
    "            print(f\"Fecha: {self.texto}\")\n",
    "        elif self.curr_path[-1] == \"autor\":\n",
    "            print(f\"Autor: {self.texto}\")\n",
    "\n",
    "        # Al cerrar un elemento eliminamos el elemento del camino actual\n",
    "        # y si es un libro añadimos un salto de línea adicional\n",
    "        self.curr_path = self.curr_path[:-1]\n",
    "        if etiqueta == \"Libro\":\n",
    "            print() # Salto de línea"
   ]
  },
  {
   "cell_type": "markdown",
   "metadata": {},
   "source": [
    "Una vez que se tiene definida la clase, se puede llevar a cabo el procesamiento:\n",
    "* Se crea un objeto parser XML.\n",
    "* Se fija el manejador de eventos.\n",
    "* Se procesa el documento.\n"
   ]
  },
  {
   "cell_type": "code",
   "execution_count": 4,
   "metadata": {
    "collapsed": false,
    "jupyter": {
     "outputs_hidden": false
    }
   },
   "outputs": [
    {
     "name": "stdout",
     "output_type": "stream",
     "text": [
      "****Libro****\n",
      "isbn: 0-596-00128-2\n",
      "Titulo: Python y XML\n",
      "Fecha: Diciembre 2001\n",
      "Autor: Pepito Perez\n",
      "\n",
      "****Libro****\n",
      "isbn: 0-596-15810-6\n",
      "Titulo: Programacion avanzada de XML\n",
      "Fecha: Octoubre 2010\n",
      "Autor: Juan Garcia\n",
      "\n",
      "****Libro****\n",
      "isbn: 0-596-15806-8\n",
      "Titulo: Aprendiendo Java\n",
      "Fecha: Septiembre 2009\n",
      "Autor: Juan Garcia\n",
      "\n",
      "****Libro****\n",
      "isbn: 0-596-15808-4\n",
      "Titulo: Python para moviles\n",
      "Fecha: Octubre 2009\n",
      "Autor: Pepito Perez\n",
      "\n",
      "****Libro****\n",
      "isbn: 0-596-00797-3\n",
      "Titulo: R para estadistica\n",
      "Fecha: Marzo 2005\n",
      "Autor: Juan, Pepe, Isabel\n",
      "\n",
      "****Libro****\n",
      "isbn: 0-596-10046-9\n",
      "Titulo: Python en 100 paginas\n",
      "Fecha: Julio 2006\n",
      "Autor: Julia\n",
      "\n"
     ]
    }
   ],
   "source": [
    "parser = xml.sax.make_parser()\n",
    "parser.setContentHandler(ManejadorCatalogo())\n",
    "parser.parse(\"Catalogo.xml\")"
   ]
  },
  {
   "cell_type": "markdown",
   "metadata": {},
   "source": [
    "### DOM (Document Object Model)"
   ]
  },
  {
   "cell_type": "markdown",
   "metadata": {},
   "source": [
    "Es una especificación que proporciona una API que representa los documentos como un árbol de objetos nodo en las que hay nodos con hijos y otros nodos sin hijos denominados nodos hoja. Toda la jerarquía de nodos se carga en memoria de forma que se pueda recorrer y acceder a los nodos comenzando desde la raíz.\n",
    "\n",
    "Por ejemplo considerar el siguiente documento XML:\n",
    "\n",
    "    <?xml version=“1.0” encoding=“UTF-8”?>\n",
    "        <doc>\n",
    "            <saludo> Hola <enfatico>estimados</enfatico> oyentes</saludo>\n",
    "            <aplausos tipo=“sostenido”/>\n",
    "        </doc>\n",
    "\n",
    "Su procesamiento daría lugar a la siguiente jerarquía de nodos:\n",
    "\n",
    "    documento\n",
    "    |-- Ins. Procesamiento\n",
    "    |-- comentario\n",
    "    |-- elemento doc\n",
    "        |-- elemento saludo\n",
    "        |   |-- texto\n",
    "        |   |-- elemento enfatico\n",
    "        |   |   |-- texto\n",
    "        |   |-- texto\n",
    "        |-- elemento aplausos"
   ]
  },
  {
   "cell_type": "markdown",
   "metadata": {},
   "source": [
    "### Procesamiento DOM en Python"
   ]
  },
  {
   "cell_type": "markdown",
   "metadata": {},
   "source": [
    "Para procesar un documento XML usando DOM se debe utilizar la librería __xml.dom.__  Esta librería permite crear un objeto minidom que dispone de un método que procesa un documento XML dado y genera un árbol __DOM__.\n",
    "\n",
    "En primer lugar se abre el documento XML con el método __parse__ o __parseString__ del objeto __minidom__  que proporciona un árbol __DOM__ del documento. A continuación, se puede empezar a recorrer el árbol. En primer lugar se accede a la raíz del árbol a través del atributo __documentElement.__\n",
    "\n",
    "Se puede navegar por el DOM usando los siguientes métodos:\n",
    "* __childNodes__: devuelve una lista con todos los nodos anidados del elemento actual\n",
    "* __firstChild__: devuelve el primer nodo anidado del elemento actual\n",
    "* __getAttribute(Atributo)__: Devuelve el valor del atributo proporcionado como parámetro.\n",
    "* __hasAttribute(Atributo)__: Indica si un elemento tiene el atributo proporcionado como parámetro.\n",
    "* __data__: devuelve el texto de un elemento, si se trata de un nodo de texto"
   ]
  },
  {
   "cell_type": "code",
   "execution_count": 5,
   "metadata": {},
   "outputs": [
    {
     "data": {
      "text/plain": [
       "'doc'"
      ]
     },
     "execution_count": 5,
     "metadata": {},
     "output_type": "execute_result"
    }
   ],
   "source": [
    "from xml.dom.minidom import parse\n",
    "import xml.dom.minidom\n",
    "\n",
    "raiz = xml.dom.minidom.parse(\"simple.xml\").documentElement\n",
    "raiz.tagName"
   ]
  },
  {
   "cell_type": "code",
   "execution_count": 6,
   "metadata": {},
   "outputs": [
    {
     "data": {
      "text/plain": [
       "[<DOM Text node \"' \\n    '\">,\n",
       " <DOM Element: par at 0x78d5b0786df0>,\n",
       " <DOM Text node \"' \\n    '\">,\n",
       " <DOM Element: par at 0x78d5b0786f30>,\n",
       " <DOM Text node \"'\\n'\">]"
      ]
     },
     "execution_count": 6,
     "metadata": {},
     "output_type": "execute_result"
    }
   ],
   "source": [
    "raiz.childNodes"
   ]
  },
  {
   "cell_type": "code",
   "execution_count": 7,
   "metadata": {},
   "outputs": [
    {
     "data": {
      "text/plain": [
       "(<DOM Element: par at 0x78d5b0786df0>, <DOM Element: par at 0x78d5b0786f30>)"
      ]
     },
     "execution_count": 7,
     "metadata": {},
     "output_type": "execute_result"
    }
   ],
   "source": [
    "nodo1 = raiz.childNodes[1]\n",
    "nodo2 = raiz.childNodes[3]\n",
    "nodo1, nodo2"
   ]
  },
  {
   "cell_type": "code",
   "execution_count": 8,
   "metadata": {},
   "outputs": [
    {
     "data": {
      "text/plain": [
       "[<DOM Text node \"' \\n        '...\">]"
      ]
     },
     "execution_count": 8,
     "metadata": {},
     "output_type": "execute_result"
    }
   ],
   "source": [
    "nodo1.childNodes"
   ]
  },
  {
   "cell_type": "code",
   "execution_count": 9,
   "metadata": {},
   "outputs": [
    {
     "data": {
      "text/plain": [
       "' \\n        Hola Mundo \\n    '"
      ]
     },
     "execution_count": 9,
     "metadata": {},
     "output_type": "execute_result"
    }
   ],
   "source": [
    "nodo1.childNodes[0].data"
   ]
  },
  {
   "cell_type": "code",
   "execution_count": 10,
   "metadata": {},
   "outputs": [
    {
     "data": {
      "text/plain": [
       "'Hola Mundo'"
      ]
     },
     "execution_count": 10,
     "metadata": {},
     "output_type": "execute_result"
    }
   ],
   "source": [
    "nodo1.childNodes[0].data.strip()"
   ]
  },
  {
   "cell_type": "code",
   "execution_count": 11,
   "metadata": {},
   "outputs": [
    {
     "data": {
      "text/plain": [
       "True"
      ]
     },
     "execution_count": 11,
     "metadata": {},
     "output_type": "execute_result"
    }
   ],
   "source": [
    "nodo1.hasAttribute('tipo')"
   ]
  },
  {
   "cell_type": "code",
   "execution_count": 12,
   "metadata": {},
   "outputs": [
    {
     "data": {
      "text/plain": [
       "'despedida'"
      ]
     },
     "execution_count": 12,
     "metadata": {},
     "output_type": "execute_result"
    }
   ],
   "source": [
    "nodo2.getAttribute('tipo')"
   ]
  },
  {
   "cell_type": "markdown",
   "metadata": {},
   "source": [
    "También se puede invocar a `getElementsByTagName(nombre)`, que devuelve una lista de todos los elementos que tienen la etiqueta proporcionada."
   ]
  },
  {
   "cell_type": "code",
   "execution_count": 13,
   "metadata": {},
   "outputs": [
    {
     "name": "stdout",
     "output_type": "stream",
     "text": [
      "***Libro***\n",
      "isbn: 0-596-00128-2\n",
      "Titulo: Python y XML\n",
      "Fecha: Diciembre 2001\n",
      "Titulo: Pepito Perez\n",
      "\n",
      "***Libro***\n",
      "isbn: 0-596-15810-6\n",
      "Titulo: Programacion avanzada de XML\n",
      "Fecha: Octoubre 2010\n",
      "Titulo: Juan Garcia\n",
      "\n",
      "***Libro***\n",
      "isbn: 0-596-15806-8\n",
      "Titulo: Aprendiendo Java\n",
      "Fecha: Septiembre 2009\n",
      "Titulo: Juan Garcia\n",
      "\n",
      "***Libro***\n",
      "isbn: 0-596-15808-4\n",
      "Titulo: Python para moviles\n",
      "Fecha: Octubre 2009\n",
      "Titulo: Pepito Perez\n",
      "\n",
      "***Libro***\n",
      "isbn: 0-596-00797-3\n",
      "Titulo: R para estadistica\n",
      "Fecha: Marzo 2005\n",
      "Titulo: Juan, Pepe, Isabel\n",
      "\n",
      "***Libro***\n",
      "isbn: 0-596-10046-9\n",
      "Titulo: Python en 100 paginas\n",
      "Fecha: Julio 2006\n",
      "Titulo: Julia\n",
      "\n"
     ]
    }
   ],
   "source": [
    "from xml.dom.minidom import parse\n",
    "import xml.dom.minidom\n",
    "\n",
    "ArbolDOM = xml.dom.minidom.parse(\"Catalogo.xml\")\n",
    "catalogo = ArbolDOM.documentElement\n",
    "libros = catalogo.getElementsByTagName(\"Libro\")\n",
    "\n",
    "for libro in libros:\n",
    "    print (\"***Libro***\")\n",
    "    if libro.hasAttribute(\"isbn\"):\n",
    "        print (\"isbn:\", libro.getAttribute(\"isbn\"))\n",
    "    Titulo = libro.getElementsByTagName(\"titulo\")[0]\n",
    "    print(\"Titulo:\", Titulo.childNodes[0].data)\n",
    "    Fecha = libro.getElementsByTagName(\"fecha\")[0]\n",
    "    print(\"Fecha:\", Fecha.childNodes[0].data)\n",
    "    Autor = libro.getElementsByTagName(\"autor\")[0]\n",
    "    print(\"Titulo:\", Autor.childNodes[0].data)\n",
    "    print()"
   ]
  },
  {
   "cell_type": "markdown",
   "metadata": {},
   "source": [
    "### SAX VS DOM"
   ]
  },
  {
   "cell_type": "markdown",
   "metadata": {},
   "source": [
    "* SAX es un procesador bastante eficiente que permite manejar documentos muy extensos en tiempo lineal y con una cantidad de memoria constante. Sin embargo requiere de un esfuerzo mayor por parte de los desarrolladores.\n",
    "* DOM es más fácil de usar para los desarrolladores pero aumenta el coste de memoria y tiempo.\n",
    "* Será mejor usar SAX cuando el documento a procesar no quepa en memoria o cuando las tareas son irrelevantes con respecto a la estructura del documento (contar el número de elementos, extraer contenido de un elemento determinado)\n",
    "\n"
   ]
  },
  {
   "cell_type": "markdown",
   "metadata": {},
   "source": [
    "### Procesamiento XML con ElementTree"
   ]
  },
  {
   "cell_type": "markdown",
   "metadata": {},
   "source": [
    "* Es una biblioteca estándar para procesar y crear documentos XML con características similares a DOM dado que crea un árbol de objetos representado por la clase ElementTree. Sin embargo la **navegación es más sencilla porque usa un estilo más específico de Python**.\n",
    "\n",
    "* El árbol generado esta formado por  objetos “elemento” de tipo Element  donde cada uno de ellos dispone de un conjunto de atributos: nombre, diccionario de atributos, valor textual y secuencia de elementos hijo.\n",
    "\n",
    "* Para procesar un documento basta abrir el documento con el método open() como si se tratara de un fichero y usar el método parse de ElementTree"
   ]
  },
  {
   "cell_type": "code",
   "execution_count": 14,
   "metadata": {
    "collapsed": false,
    "jupyter": {
     "outputs_hidden": false
    }
   },
   "outputs": [
    {
     "name": "stdout",
     "output_type": "stream",
     "text": [
      "<xml.etree.ElementTree.ElementTree object at 0x78d5b072ad90>\n"
     ]
    }
   ],
   "source": [
    "from xml.etree import ElementTree\n",
    "\n",
    "arbol = ElementTree.parse(\"Catalogo.xml\")\n",
    "print(arbol)"
   ]
  },
  {
   "cell_type": "markdown",
   "metadata": {},
   "source": [
    "Si se quiere visitar todo el árbol se usa el método iter() que crea un generador que itera sobre todos los nodos del árbol.\n"
   ]
  },
  {
   "cell_type": "code",
   "execution_count": 15,
   "metadata": {
    "collapsed": false,
    "jupyter": {
     "outputs_hidden": false
    }
   },
   "outputs": [
    {
     "name": "stdout",
     "output_type": "stream",
     "text": [
      "catalogo {}\n",
      "Libro {'isbn': '0-596-00128-2'}\n",
      "titulo {}\n",
      "fecha {}\n",
      "autor {}\n",
      "Libro {'isbn': '0-596-15810-6'}\n",
      "titulo {}\n",
      "fecha {}\n",
      "autor {}\n",
      "Libro {'isbn': '0-596-15806-8'}\n",
      "titulo {}\n",
      "fecha {}\n",
      "autor {}\n",
      "Libro {'isbn': '0-596-15808-4'}\n",
      "titulo {}\n",
      "fecha {}\n",
      "autor {}\n",
      "Libro {'isbn': '0-596-00797-3'}\n",
      "titulo {}\n",
      "fecha {}\n",
      "autor {}\n",
      "Libro {'isbn': '0-596-10046-9'}\n",
      "titulo {}\n",
      "fecha {}\n",
      "autor {}\n"
     ]
    }
   ],
   "source": [
    "arbol = ElementTree.parse(\"Catalogo.xml\")\n",
    "for nodo in arbol.iter():\n",
    "  print(nodo.tag, nodo.attrib)"
   ]
  },
  {
   "cell_type": "markdown",
   "metadata": {},
   "source": [
    "Puede que se esté interesado sólo en determinados elementos del árbol, y no en todos. Para ello se pasa como parámetro del método iter() el nombre del elemento de interés."
   ]
  },
  {
   "cell_type": "code",
   "execution_count": 16,
   "metadata": {
    "collapsed": false,
    "jupyter": {
     "outputs_hidden": false
    }
   },
   "outputs": [
    {
     "name": "stdout",
     "output_type": "stream",
     "text": [
      "Libro 0 con isbn  0-596-00128-2\n",
      "Libro 1 con isbn  0-596-15810-6\n",
      "Libro 2 con isbn  0-596-15806-8\n",
      "Libro 3 con isbn  0-596-15808-4\n",
      "Libro 4 con isbn  0-596-00797-3\n",
      "Libro 5 con isbn  0-596-10046-9\n"
     ]
    }
   ],
   "source": [
    "arbol = ElementTree.parse(\"Catalogo.xml\")\n",
    "for i, nodo in enumerate(arbol.iter(\"Libro\")):\n",
    "    isbn = nodo.attrib.get(\"isbn\")\n",
    "    print(nodo.tag, i, \"con isbn \", isbn)"
   ]
  },
  {
   "cell_type": "markdown",
   "metadata": {},
   "source": [
    "Otra posibilidad de iterar sobre los elementos del árbol es acceder a la raíz del árbol y desde ella iterar sobre los hijos."
   ]
  },
  {
   "cell_type": "code",
   "execution_count": 17,
   "metadata": {
    "collapsed": false,
    "jupyter": {
     "outputs_hidden": false
    }
   },
   "outputs": [
    {
     "name": "stdout",
     "output_type": "stream",
     "text": [
      "catalogo   {}\n",
      "Libro   {'isbn': '0-596-00128-2'}\n",
      "Libro   {'isbn': '0-596-15810-6'}\n",
      "Libro   {'isbn': '0-596-15806-8'}\n",
      "Libro   {'isbn': '0-596-15808-4'}\n",
      "Libro   {'isbn': '0-596-00797-3'}\n",
      "Libro   {'isbn': '0-596-10046-9'}\n"
     ]
    }
   ],
   "source": [
    "arbol = ElementTree.parse(\"Catalogo.xml\")\n",
    "raiz = arbol.getroot()\n",
    "\n",
    "print(raiz.tag, \" \", raiz.attrib)\n",
    "for hijo in raiz:\n",
    "    print(hijo.tag, \" \", hijo.attrib)"
   ]
  },
  {
   "cell_type": "markdown",
   "metadata": {},
   "source": [
    "También es posible acceder a los hijos de un elemento de forma indexada usando los corchetes:"
   ]
  },
  {
   "cell_type": "code",
   "execution_count": 18,
   "metadata": {
    "collapsed": false,
    "jupyter": {
     "outputs_hidden": false
    }
   },
   "outputs": [
    {
     "name": "stdout",
     "output_type": "stream",
     "text": [
      "<Element 'catalogo' at 0x78d5b07dc4f0>\n",
      "0-596-00128-2 --- Python y XML\n",
      "0-596-15810-6 --- Octoubre 2010\n"
     ]
    }
   ],
   "source": [
    "arbol = ElementTree.parse(\"Catalogo.xml\")\n",
    "raiz = arbol.getroot()\n",
    "print(raiz)\n",
    "\n",
    "print(raiz[0].attrib['isbn'], '---', raiz[0][0].text)\n",
    "print(raiz[1].attrib['isbn'], '---', raiz[1][1].text)"
   ]
  },
  {
   "cell_type": "markdown",
   "metadata": {},
   "source": [
    "Existe otro conjunto de métodos que permiten recorrer el árbol tomando como argumento una expresión XPath que caracteriza al elemento que se está buscando:\n",
    "  * find(): recupera el primer subelemento del elemento actual encajando con la descripción dada\n",
    "  * findall(): recupera todos los subelementos del elemento actual encajando con la descripción dada\n",
    "  * iterfind(): recupera todos los elementos encajando con la descripción dada.\n",
    "  * text:  accede al contenido textual de un elemento\n",
    "  * get(atributo): accede al atributo dado del elemento.\n",
    "\n",
    "Se van a encontrar todos los títulos de los libros usando findall()"
   ]
  },
  {
   "cell_type": "code",
   "execution_count": 19,
   "metadata": {
    "collapsed": false,
    "jupyter": {
     "outputs_hidden": false
    }
   },
   "outputs": [
    {
     "name": "stdout",
     "output_type": "stream",
     "text": [
      "Libro 0 --> Python y XML\n",
      "Libro 1 --> Programacion avanzada de XML\n",
      "Libro 2 --> Aprendiendo Java\n",
      "Libro 3 --> Python para moviles\n",
      "Libro 4 --> R para estadistica\n",
      "Libro 5 --> Python en 100 paginas\n"
     ]
    }
   ],
   "source": [
    "arbol = ElementTree.parse(\"Catalogo.xml\")\n",
    "for i, nodo in enumerate(arbol.findall(\"./Libro/titulo\")):\n",
    "    print(f\"Libro {i} --> {nodo.text}\")"
   ]
  },
  {
   "cell_type": "markdown",
   "metadata": {},
   "source": [
    "Esta API también permite realizar un procesamiento basado en eventos al estilo de SAX usando el método `iterparse()` (https://docs.python.org/3/library/xml.etree.elementtree.html#xml.etree.ElementTree.iterparse).\n",
    "\n",
    "Genera eventos “start” en las aperturas de elemento y eventos “end” en los cierres de elemento. Además los datos pueden ser extraídos del documento durante la fase de parseo.\n",
    "\n",
    "Se va a realizar un procesamiento similar al que se hizo con SAX:"
   ]
  },
  {
   "cell_type": "code",
   "execution_count": 20,
   "metadata": {
    "collapsed": false,
    "jupyter": {
     "outputs_hidden": false
    }
   },
   "outputs": [
    {
     "name": "stdout",
     "output_type": "stream",
     "text": [
      "****Libro****\n",
      "isbn 0-596-00128-2\n",
      "Titulo : Python y XML\n",
      "Fecha : Diciembre 2001\n",
      "Autor : Pepito Perez\n",
      "\n",
      "****Libro****\n",
      "isbn 0-596-15810-6\n",
      "Titulo : Programacion avanzada de XML\n",
      "Fecha : Octoubre 2010\n",
      "Autor : Juan Garcia\n",
      "\n",
      "****Libro****\n",
      "isbn 0-596-15806-8\n",
      "Titulo : Aprendiendo Java\n",
      "Fecha : Septiembre 2009\n",
      "Autor : Juan Garcia\n",
      "\n",
      "****Libro****\n",
      "isbn 0-596-15808-4\n",
      "Titulo : Python para moviles\n",
      "Fecha : Octubre 2009\n",
      "Autor : Pepito Perez\n",
      "\n",
      "****Libro****\n",
      "isbn 0-596-00797-3\n",
      "Titulo : R para estadistica\n",
      "Fecha : Marzo 2005\n",
      "Autor : Juan, Pepe, Isabel\n",
      "\n",
      "****Libro****\n",
      "isbn 0-596-10046-9\n",
      "Titulo : Python en 100 paginas\n",
      "Fecha : Julio 2006\n",
      "Autor : Julia\n",
      "\n"
     ]
    }
   ],
   "source": [
    "from xml.etree.ElementTree import iterparse\n",
    "\n",
    "for (event,element) in iterparse(\"Catalogo.xml\",(\"start\",\"end\")):\n",
    "    if event == \"start\":\n",
    "        if element.tag == \"Libro\":\n",
    "            print (\"****Libro****\")\n",
    "            print (\"isbn\", element.attrib[\"isbn\"])\n",
    "        if element.tag == \"titulo\":\n",
    "            print(\"Titulo :\", element.text)\n",
    "        if element.tag == \"fecha\":\n",
    "            print(\"Fecha :\", element.text)\n",
    "        if element.tag == \"autor\":\n",
    "            print(\"Autor :\", element.text) \n",
    "\n",
    "    elif event == 'end' and element.tag == \"Libro\":\n",
    "        print()"
   ]
  },
  {
   "cell_type": "markdown",
   "metadata": {},
   "source": [
    "También es posible procesar cadenas que representan un documento XML usando el método fromstring que toma como argumento la cadena que representa el documento XML."
   ]
  },
  {
   "cell_type": "code",
   "execution_count": 21,
   "metadata": {
    "collapsed": false,
    "jupyter": {
     "outputs_hidden": false
    }
   },
   "outputs": [
    {
     "name": "stdout",
     "output_type": "stream",
     "text": [
      "****Libro****\n",
      "isbn : 0-123-85423-42\n",
      "Titulo : El libro del mar\n",
      "Fecha : 2000\n",
      "Autor : Sirenito López\n"
     ]
    }
   ],
   "source": [
    "cadena='''\n",
    "<catalogo>\n",
    "  <Libro isbn=\"0-123-85423-42\">\n",
    "     <titulo>El libro del mar</titulo>\n",
    "     <fecha>2000</fecha>\n",
    "     <autor>Sirenito López</autor>\n",
    "  </Libro>\n",
    "</catalogo>\n",
    "'''\n",
    "doc = ElementTree.fromstring(cadena)\n",
    "\n",
    "lista = doc.findall(\"Libro\")\n",
    "for l in lista:\n",
    "    print (\"****Libro****\")\n",
    "    print (\"isbn :\", l.get(\"isbn\"))\n",
    "    print (\"Titulo :\", l.find(\"titulo\").text)\n",
    "    print (\"Fecha :\", l.find(\"fecha\").text)\n",
    "    print (\"Autor :\", l.find(\"autor\").text)"
   ]
  }
 ],
 "metadata": {
  "kernelspec": {
   "display_name": "Python 3 (ipykernel)",
   "language": "python",
   "name": "python3"
  },
  "language_info": {
   "codemirror_mode": {
    "name": "ipython",
    "version": 3
   },
   "file_extension": ".py",
   "mimetype": "text/x-python",
   "name": "python",
   "nbconvert_exporter": "python",
   "pygments_lexer": "ipython3",
   "version": "3.11.10"
  }
 },
 "nbformat": 4,
 "nbformat_minor": 4
}
