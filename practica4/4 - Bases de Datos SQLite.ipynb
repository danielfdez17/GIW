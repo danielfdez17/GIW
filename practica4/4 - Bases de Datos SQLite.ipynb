{
 "cells": [
  {
   "cell_type": "markdown",
   "metadata": {},
   "source": [
    "# Acceso a BD relacionales SQLite desde Python\n",
    "_Antonio Sarasa, Enrique Martín_"
   ]
  },
  {
   "cell_type": "markdown",
   "metadata": {},
   "source": [
    "Python tiene integrada una base de datos relacional denominada SQLite. Podéis encontrar la documentación detallada en https://docs.python.org/3/library/sqlite3.html.\n",
    "\n",
    "Para crear una base de datos:\n",
    "\n",
    "* En primer lugar hay que realizar una conexión con el servidor de la base de datos. Esto se hace mediante la función **connect**. \n",
    "* En el caso de sqlite3 sólo se necesita pasar como parámetro una cadena con la ruta al archivo en el que guardar los datos de la base de datos, o bien la cadena “:memory:” para utilizar la memoria RAM en lugar de un fichero en disco.\n",
    "\n",
    "Vamos a crear una base de datos denominada “Biblioteca”"
   ]
  },
  {
   "cell_type": "code",
   "execution_count": 1,
   "metadata": {},
   "outputs": [
    {
     "data": {
      "text/plain": [
       "<sqlite3.Connection at 0x78b3b5324a90>"
      ]
     },
     "execution_count": 1,
     "metadata": {},
     "output_type": "execute_result"
    }
   ],
   "source": [
    "import sqlite3\n",
    "\n",
    "conn = sqlite3.connect(\"biblioteca.sqlite3\")\n",
    "conn"
   ]
  },
  {
   "cell_type": "markdown",
   "metadata": {},
   "source": [
    "La función connect devuelve un objeto de tipo Connection que representa la conexión con la base de datos almacenada en el archivo biblioteca.sqlite3 del directorio actual. Si el archivo no existe, se creará nuevo. \n",
    "\n",
    "Las distintas operaciones que se pueden realizar con la base de datos se realizan a través de un objeto Cursor. Para crear este objeto se utiliza el método cursor() del objeto Connection.\n"
   ]
  },
  {
   "cell_type": "code",
   "execution_count": 2,
   "metadata": {},
   "outputs": [
    {
     "data": {
      "text/plain": [
       "<sqlite3.Cursor at 0x78b3b532ce40>"
      ]
     },
     "execution_count": 2,
     "metadata": {},
     "output_type": "execute_result"
    }
   ],
   "source": [
    "cur = conn.cursor()\n",
    "cur"
   ]
  },
  {
   "cell_type": "markdown",
   "metadata": {},
   "source": [
    "Una vez que tenemos el cursor, se pueden ejecutar comandos sobre el contenido de la base de datos, usando el método execute() que toma como argumento una cadena con el código SQL a ejecutar.\n",
    "\n",
    "Por ejemplo se va a crear una tabla llamada Libros con una columna de texto llamada “Título” y otra columna de enteros llamada “prestamos”. Además antes de crear la tabla la vamos a eliminar para asegurarse que no existe ya en la base de datos."
   ]
  },
  {
   "cell_type": "code",
   "execution_count": 3,
   "metadata": {},
   "outputs": [],
   "source": [
    "cur = conn.cursor()\n",
    "cur.execute(\"DROP TABLE IF EXISTS Libros\")\n",
    "cur.execute(\"CREATE TABLE Libros (titulo TEXT, ejemplares INTEGER)\")\n",
    "cur.close()"
   ]
  },
  {
   "cell_type": "markdown",
   "metadata": {},
   "source": [
    "__No obstante, muchos de los métodos del cursos están disponibles también en la conexión, por lo que no es necesario crear explícitamente el objeto Cursor (que muchas veces es superfluo)__"
   ]
  },
  {
   "cell_type": "code",
   "execution_count": 4,
   "metadata": {},
   "outputs": [
    {
     "data": {
      "text/plain": [
       "<sqlite3.Cursor at 0x78b3b530fdc0>"
      ]
     },
     "execution_count": 4,
     "metadata": {},
     "output_type": "execute_result"
    }
   ],
   "source": [
    "conn.execute(\"DROP TABLE IF EXISTS Libros\")\n",
    "conn.execute(\"CREATE TABLE Libros (titulo TEXT, ejemplares INTEGER)\")"
   ]
  },
  {
   "cell_type": "markdown",
   "metadata": {},
   "source": [
    "Una vez creada la tabla Libros se pueden guardar datos usando una llamada a execute() con el comando SQL INSERT. Este comando indica qué tabla se va a utilizar y luego define una fila nueva, enumerando los campos a incluir y seguidos por los valores (VALUES) que se desean colocar en esa fila. \n"
   ]
  },
  {
   "cell_type": "code",
   "execution_count": 5,
   "metadata": {
    "collapsed": false,
    "jupyter": {
     "outputs_hidden": false
    }
   },
   "outputs": [
    {
     "data": {
      "text/plain": [
       "<sqlite3.Cursor at 0x78b3b530f9c0>"
      ]
     },
     "execution_count": 5,
     "metadata": {},
     "output_type": "execute_result"
    }
   ],
   "source": [
    "conn.execute(\"INSERT INTO Libros (titulo, ejemplares) VALUES ('El Quijote', 20)\")\n",
    "conn.execute(\"INSERT INTO Libros (titulo, ejemplares) VALUES ('El Escarabajo de oro', 15)\")"
   ]
  },
  {
   "cell_type": "markdown",
   "metadata": {},
   "source": [
    "Otra forma de insertar consiste en especificar como signos de interrogación  (?,?) los valores para indicar que serán pasados como una tupla en el segundo parámetro de la llamada a execute(). Podéis encontrar más información sobre el uso de los marcadores \"?\" en https://docs.python.org/3/library/sqlite3.html#sqlite3-placeholders.\n",
    "\n",
    "\n",
    "**IMPORTANTE: lo veremos con detalle más adelante en el curso, pero es IMPRESCINDIBLE USAR MARCADORES al ejecutar sentencias SQL desde vuestro programa para mitigar las vulnerabilidades de inyección SQL.**"
   ]
  },
  {
   "cell_type": "code",
   "execution_count": 6,
   "metadata": {
    "collapsed": false,
    "jupyter": {
     "outputs_hidden": false
    }
   },
   "outputs": [
    {
     "data": {
      "text/plain": [
       "<sqlite3.Cursor at 0x78b3b532d540>"
      ]
     },
     "execution_count": 6,
     "metadata": {},
     "output_type": "execute_result"
    }
   ],
   "source": [
    "conn.execute(\"INSERT INTO Libros (titulo, ejemplares) VALUES (?,?)\", ('El Quijote', 20))\n",
    "conn.execute(\"INSERT INTO Libros (titulo, ejemplares) VALUES (?,?)\",  ('El Escarabajo de oro', 15))"
   ]
  },
  {
   "cell_type": "markdown",
   "metadata": {},
   "source": [
    "Si la base de datos soporta transacciones y están activadas, y además la característica de auto-commit está desactivada, será necesario llamar al método commit de la conexion para que se lleven a cabo las operaciones definidas en la transacción.\n",
    "\n",
    "Si en estas circunstancias se usara una herramienta externa para comprobar el contenido de la base de datos sin hacer primero el commit aparecería entonces con una base de datos vacía. Sin embargo si se consulta desde Python parecería que se han llevado a cabo los cambios, aunque no es así. "
   ]
  },
  {
   "cell_type": "code",
   "execution_count": 7,
   "metadata": {},
   "outputs": [
    {
     "name": "stdout",
     "output_type": "stream",
     "text": [
      "('El Quijote', 20)\n",
      "('El Escarabajo de oro', 15)\n",
      "('El Quijote', 20)\n",
      "('El Escarabajo de oro', 15)\n"
     ]
    }
   ],
   "source": [
    "cur = conn.execute(\"SELECT * FROM Libros\")\n",
    "for res in cur.fetchall():\n",
    "    print(res)"
   ]
  },
  {
   "cell_type": "code",
   "execution_count": 8,
   "metadata": {},
   "outputs": [],
   "source": [
    "conn.commit()"
   ]
  },
  {
   "cell_type": "markdown",
   "metadata": {},
   "source": [
    "Si la  base de datos soporta la característica de rollback  entonces se puede cancelar la transacción actual con el método rollback de la conexión. Si la base de datos no soporta rollback, entonces al llamar a este método producirá una excepción.\n",
    "\n",
    "Cuando se quieren insertar múltiples filas en una sola operación se puede usar el método executemany y proporcionar como argumento la secuencia de filas que se quieren insertar como una lista. Como resultado se llama al método execute una vez por cada fila."
   ]
  },
  {
   "cell_type": "code",
   "execution_count": 9,
   "metadata": {
    "collapsed": false,
    "jupyter": {
     "outputs_hidden": false
    }
   },
   "outputs": [
    {
     "name": "stdout",
     "output_type": "stream",
     "text": [
      "2\n"
     ]
    }
   ],
   "source": [
    "cur = conn.executemany(\"INSERT INTO Libros(titulo, ejemplares) VALUES (?,?)\", [('El Quijote',20),('El Escarabajo de oro', 15)])\n",
    "print(cur.rowcount)\n",
    "conn.commit()"
   ]
  },
  {
   "cell_type": "markdown",
   "metadata": {},
   "source": [
    "El mismo efecto se podría haber conseguido utilizando un bucle sobre una lista y el método execute()."
   ]
  },
  {
   "cell_type": "code",
   "execution_count": 10,
   "metadata": {
    "collapsed": false,
    "jupyter": {
     "outputs_hidden": false
    }
   },
   "outputs": [],
   "source": [
    "entradas = [('El Quijote',20), ('El Escarabajo de oro', 15)]\n",
    "for fila in entradas:\n",
    "    conn.execute(\"INSERT INTO Libros (titulo, ejemplares) VALUES (?,?)\", fila)\n",
    "conn.commit()"
   ]
  },
  {
   "cell_type": "code",
   "execution_count": 11,
   "metadata": {},
   "outputs": [],
   "source": [
    "def init_db(conn):\n",
    "    conn.execute(\"DROP TABLE IF EXISTS Libros\")\n",
    "    conn.execute(\"CREATE TABLE Libros (titulo TEXT, ejemplares INTEGER)\")\n",
    "    conn.execute(\"INSERT INTO Libros (titulo, ejemplares) VALUES (?,?)\", ('El Quijote', 20))\n",
    "    conn.execute(\"INSERT INTO Libros (titulo, ejemplares) VALUES (?,?)\",  ('El Escarabajo de oro', 15))\n",
    "    conn.commit()"
   ]
  },
  {
   "cell_type": "markdown",
   "metadata": {},
   "source": [
    "Para realizar consultas a la base de datos también se utiliza el método execute tomando como argumento una cadena que represente una sentencia SELECT de SQL.\n",
    "\n",
    "Cuando se realiza una consulta, el cursor no lee todos los datos de la base de datos cuando se ejecuta la sentencia SELECT sino que los datos serán leídos a medida que se pidan las filas.\n",
    "\n",
    "Para consultar las tuplas resultantes de la sentencia SQL se puede llamar a los métodos de cursor __fetchone, fetchmany o fetchall__ o usar el objeto cursor como un iterador.\n",
    "\n",
    "En los siguientes ejemplos primero se insertaran dos filas en la tabla con INSERT y luego se usará commit() para forzar que los datos sean escritos en el archivo de la base de datos. Después se usará el comando SELECT para recuperar las filas que se acaban de insertar en la tabla, y en cada ejemplo se usará una forma distinta de pedir las filas recuperadas. Al final del programa se  ejecuta el comando DELETE para borrar las filas que se acaban de crear, y por último se ejecuta un commit() para forzar a los datos a ser eliminados de la base de datos.\n",
    "\n",
    "En este ejemplo se usa fetchall que recupera una lista de las filas que hay en la tabla."
   ]
  },
  {
   "cell_type": "code",
   "execution_count": 12,
   "metadata": {
    "collapsed": false,
    "jupyter": {
     "outputs_hidden": false
    }
   },
   "outputs": [
    {
     "name": "stdout",
     "output_type": "stream",
     "text": [
      "Libros\n",
      "[('El Quijote', 20), ('El Escarabajo de oro', 15)]\n"
     ]
    }
   ],
   "source": [
    "init_db(conn)\n",
    "print(\"Libros\")\n",
    "cur = conn.execute(\"SELECT titulo, ejemplares FROM Libros\")\n",
    "print(cur.fetchall())\n",
    "conn.commit()"
   ]
  },
  {
   "cell_type": "markdown",
   "metadata": {
    "collapsed": true,
    "jupyter": {
     "outputs_hidden": true
    }
   },
   "source": [
    "También es posible iterar sobre las tuplas obtenidas con fetchall:"
   ]
  },
  {
   "cell_type": "code",
   "execution_count": 13,
   "metadata": {
    "collapsed": false,
    "jupyter": {
     "outputs_hidden": false
    }
   },
   "outputs": [
    {
     "name": "stdout",
     "output_type": "stream",
     "text": [
      "Libros\n",
      "('El Quijote', 20)\n",
      "('El Escarabajo de oro', 15)\n"
     ]
    }
   ],
   "source": [
    "init_db(conn)\n",
    "print (\"Libros\")\n",
    "cur = conn.execute(\"SELECT titulo, ejemplares FROM Libros\")\n",
    "for fila in cur.fetchall():\n",
    "    print(fila)\n",
    "conn.commit()"
   ]
  },
  {
   "cell_type": "markdown",
   "metadata": {},
   "source": [
    "También es posible recuperar los valores de las tuplas utilizando tuplas en el bucle, si conocemos el número de columnas que tiene cada fila."
   ]
  },
  {
   "cell_type": "code",
   "execution_count": 14,
   "metadata": {
    "collapsed": false,
    "jupyter": {
     "outputs_hidden": false
    }
   },
   "outputs": [
    {
     "name": "stdout",
     "output_type": "stream",
     "text": [
      "Libros\n",
      "Título: El Quijote --> 20\n",
      "Título: El Escarabajo de oro --> 15\n"
     ]
    }
   ],
   "source": [
    "init_db(conn)\n",
    "print(\"Libros\")\n",
    "cur = conn.execute(\"SELECT titulo, ejemplares FROM Libros\")\n",
    "for (titulo, ejemplares) in cur.fetchall():\n",
    "    print (f\"Título: {titulo} --> {ejemplares}\")\n",
    "conn.commit()"
   ]
  },
  {
   "cell_type": "markdown",
   "metadata": {},
   "source": [
    "En el siguiente ejemplo se recupera una única columna de la tabla y luego se usa fetchall:"
   ]
  },
  {
   "cell_type": "code",
   "execution_count": 15,
   "metadata": {
    "collapsed": false,
    "jupyter": {
     "outputs_hidden": false
    }
   },
   "outputs": [
    {
     "name": "stdout",
     "output_type": "stream",
     "text": [
      "Libros\n",
      "[('El Quijote',), ('El Escarabajo de oro',)]\n"
     ]
    }
   ],
   "source": [
    "init_db(conn)\n",
    "print(\"Libros\")\n",
    "cur = conn.execute(\"SELECT titulo FROM Libros\")\n",
    "titulos = cur.fetchall()\n",
    "print(titulos)\n",
    "conn.commit()"
   ]
  },
  {
   "cell_type": "markdown",
   "metadata": {},
   "source": [
    "En este último caso se podría formatear para que en vez de devolver una tupla con un solo valor devolviera una lista con los valores recuperados usando comprensión de listas"
   ]
  },
  {
   "cell_type": "code",
   "execution_count": 16,
   "metadata": {
    "collapsed": false,
    "jupyter": {
     "outputs_hidden": false
    }
   },
   "outputs": [
    {
     "name": "stdout",
     "output_type": "stream",
     "text": [
      "Libros\n",
      "['El Quijote', 'El Escarabajo de oro']\n"
     ]
    }
   ],
   "source": [
    "init_db(conn)\n",
    "print(\"Libros\")\n",
    "cur = conn.execute(\"SELECT * FROM Libros\")\n",
    "titulos = [rec[0] for rec in cur.fetchall()]\n",
    "print(titulos)\n",
    "conn.commit()"
   ]
  },
  {
   "cell_type": "markdown",
   "metadata": {},
   "source": [
    "Si las tablas que se usan son muy grandes es mejor no pedir todas las filas mediante fetchall, usando otros métodos alternativos como fetchone que devuelve la siguiente tupla del conjunto resultado o None si no existen más "
   ]
  },
  {
   "cell_type": "code",
   "execution_count": 17,
   "metadata": {
    "collapsed": false,
    "jupyter": {
     "outputs_hidden": false
    }
   },
   "outputs": [
    {
     "name": "stdout",
     "output_type": "stream",
     "text": [
      "Libros\n",
      "('El Quijote', 20)\n",
      "('El Escarabajo de oro', 15)\n"
     ]
    }
   ],
   "source": [
    "init_db(conn)\n",
    "print(\"Libros\")\n",
    "cur = conn.execute(\"SELECT * FROM Libros\")\n",
    "while True:\n",
    "    fila = cur.fetchone()\n",
    "    if not fila: \n",
    "        break\n",
    "    print(fila)\n",
    "conn.commit()"
   ]
  },
  {
   "cell_type": "markdown",
   "metadata": {},
   "source": [
    "Otra alternativa a fetchall es el método fetchmany que devuelve el número de tuplas indicado por el entero pasado como parámetro o bien el número indicado por el atributo Cursor.arraysize si no se pasa ningún parámetro( por defecto vale 1)."
   ]
  },
  {
   "cell_type": "code",
   "execution_count": 18,
   "metadata": {
    "collapsed": false,
    "jupyter": {
     "outputs_hidden": false
    }
   },
   "outputs": [
    {
     "name": "stdout",
     "output_type": "stream",
     "text": [
      "Libros\n",
      "('El Quijote', 20)\n",
      "('El Escarabajo de oro', 15)\n"
     ]
    }
   ],
   "source": [
    "init_db(conn)\n",
    "print(\"Libros\")\n",
    "cur = conn.execute(\"SELECT * FROM Libros\")\n",
    "while True:\n",
    "    filas = cur.fetchmany(2)\n",
    "    if not filas: \n",
    "        break\n",
    "    for fila in filas:\n",
    "        print(fila)\n",
    "conn.commit()"
   ]
  },
  {
   "cell_type": "markdown",
   "metadata": {},
   "source": [
    "Observar que una vez que se han recuperado todas las filas con fetchall, fetchone o fetchmany, si se quieren volver a recuperar las filas sería necesario realizar una nueva llamada a execute con la sentencia SELECT dado que se pierden una vez recuperadas.\n",
    "\n",
    "Alternativamente a los métodos anteriores, también es posible iterar sobre el cursor con el que se ha realizado la consulta."
   ]
  },
  {
   "cell_type": "code",
   "execution_count": 19,
   "metadata": {
    "collapsed": false,
    "jupyter": {
     "outputs_hidden": false
    }
   },
   "outputs": [
    {
     "name": "stdout",
     "output_type": "stream",
     "text": [
      "Libros\n",
      "('El Quijote', 20)\n",
      "('El Escarabajo de oro', 15)\n"
     ]
    }
   ],
   "source": [
    "init_db(conn)\n",
    "print(\"Libros\")\n",
    "cur = conn.execute(\"SELECT * FROM Libros\")\n",
    "for resultado in cur:\n",
    "    print(resultado)\n",
    "conn.commit()"
   ]
  },
  {
   "cell_type": "markdown",
   "metadata": {},
   "source": [
    "Para realizar actualizaciones o borrados también se usa el método execute del objeto cursor o la conexión. En el siguiente ejemplo se va actualizar la columna “ejemplares” de la fila correspondiente al libro con título “El quijote” y se va a rellenar con el valor 22.\n",
    "\n",
    "Si se hace la consulta para ver lo que hay en la base de datos:"
   ]
  },
  {
   "cell_type": "code",
   "execution_count": 20,
   "metadata": {
    "collapsed": false,
    "jupyter": {
     "outputs_hidden": false
    }
   },
   "outputs": [
    {
     "name": "stdout",
     "output_type": "stream",
     "text": [
      "Titulo: El Quijote\n",
      "Ejemplares: 22\n",
      "------\n",
      "Titulo: El Escarabajo de oro\n",
      "Ejemplares: 15\n",
      "------\n"
     ]
    }
   ],
   "source": [
    "init_db(conn)\n",
    "conn.execute('UPDATE Libros set ejemplares=? WHERE titulo=?',[22,\"El Quijote\"])\n",
    "conn.commit()\n",
    "cur = conn.execute(\"SELECT * FROM Libros\")\n",
    "for (titulo, ejemplar) in cur.fetchall():\n",
    "    print (\"Titulo:\", titulo)\n",
    "    print (\"Ejemplares:\", ejemplar)\n",
    "    print('------')\n",
    "conn.commit()"
   ]
  },
  {
   "cell_type": "markdown",
   "metadata": {},
   "source": [
    "En el siguiente ejemplo se va eliminar la fila correspondiente al libro con título “El quijote”."
   ]
  },
  {
   "cell_type": "code",
   "execution_count": 21,
   "metadata": {
    "collapsed": false,
    "jupyter": {
     "outputs_hidden": false
    }
   },
   "outputs": [
    {
     "name": "stdout",
     "output_type": "stream",
     "text": [
      "Titulo: El Escarabajo de oro\n",
      "Ejemplares: 15\n",
      "------\n"
     ]
    }
   ],
   "source": [
    "init_db(conn)\n",
    "conn.execute('DELETE FROM Libros WHERE titulo=?',[\"El Quijote\"])\n",
    "conn.commit()\n",
    "cur = conn.execute(\"SELECT * FROM Libros\")\n",
    "for (titulo, ejemplar) in cur.fetchall():\n",
    "    print (\"Titulo:\", titulo)\n",
    "    print (\"Ejemplares:\", ejemplar)\n",
    "    print('------')\n",
    "conn.commit()"
   ]
  },
  {
   "cell_type": "markdown",
   "metadata": {},
   "source": [
    "Se pueden realizar operaciones de columna cuando se ejecuta una sentencia SELECT. En el siguiente ejemplo se van a sumar los ejemplares de todos los libros almacenados en la base de datos."
   ]
  },
  {
   "cell_type": "code",
   "execution_count": 22,
   "metadata": {
    "collapsed": false,
    "jupyter": {
     "outputs_hidden": false
    }
   },
   "outputs": [
    {
     "name": "stdout",
     "output_type": "stream",
     "text": [
      "[(35,)]\n"
     ]
    }
   ],
   "source": [
    "init_db(conn)\n",
    "cur = conn.execute('SELECT sum(ejemplares) FROM Libros')\n",
    "print(cur.fetchall())\n",
    "conn.commit()"
   ]
  },
  {
   "cell_type": "markdown",
   "metadata": {},
   "source": [
    "## Ejemplo completo de uso de SQLite desde Python"
   ]
  },
  {
   "cell_type": "markdown",
   "metadata": {},
   "source": [
    "Se quiere implementar un programa que guarde información de los amigos que una persona tiene en Twitter y de las relaciones que tienen a su vez estos amigos entre sí. Esta información se almacenará en una base de datos.\n",
    "\n",
    "En primer lugar se fija la estructura de la base de datos que se va a utilizar:\n",
    "\n",
    "* Se creará una tabla llamada Personas que almacenará la información de las cuentas de Twitter.\n",
    "* Se creará una tabla llamada Seguimientos que almacenará las relaciones que existen entre las personas.\n",
    "\n",
    "La tabla Personas dispondrá de 3 columnas:\n",
    "\n",
    "* Un id que actuará como clave primaría de la tabla.\n",
    "* El nombre de usuario de la cuenta de Twitter."
   ]
  },
  {
   "cell_type": "code",
   "execution_count": 23,
   "metadata": {},
   "outputs": [],
   "source": [
    "import sqlite3\n",
    "conn = sqlite3.connect(\"twitter.sqlite3\")\n",
    "\n",
    "conn.execute('''DROP TABLE IF EXISTS Personas''')\n",
    "conn.execute('''CREATE TABLE Personas(\n",
    "                 id INTEGER PRIMARY KEY, \n",
    "                 nombre TEXT UNIQUE)''')\n",
    "conn.commit()"
   ]
  },
  {
   "cell_type": "markdown",
   "metadata": {},
   "source": [
    "La tabla Seguimiento dispondrá de 2 columnas que contendrán id´s de usuarios registrados en la tabla Personas y que representarán una relación de seguimiento entre ambos usuarios con un sentido definido."
   ]
  },
  {
   "cell_type": "code",
   "execution_count": 24,
   "metadata": {},
   "outputs": [
    {
     "data": {
      "text/plain": [
       "<sqlite3.Cursor at 0x78b3b530f8c0>"
      ]
     },
     "execution_count": 24,
     "metadata": {},
     "output_type": "execute_result"
    }
   ],
   "source": [
    "conn.execute('''DROP TABLE IF EXISTS Seguimientos''')\n",
    "conn.execute('''CREATE TABLE Seguimientos(\n",
    "                 desde_id INTEGER REFERENCES Personas(id), \n",
    "                 hacia_id INTEGER REFERENCES Personas(id),\n",
    "                 \n",
    "                 PRIMARY KEY(desde_id, hacia_id)\n",
    "                 CHECK (desde_id != hacia_id)\n",
    "                 )''')"
   ]
  },
  {
   "cell_type": "markdown",
   "metadata": {},
   "source": [
    "Observar que la combinación de los dos números de cada fila de la tabla Seguimientos es clave primaria, lo que evita que se cometan errores como añadir la misma relación entre las mismas personas más de una vez. Además, los id que usemos deben existir en la tabla Personas previamente."
   ]
  },
  {
   "cell_type": "code",
   "execution_count": 25,
   "metadata": {},
   "outputs": [],
   "source": [
    "personas = [ (0, 'pepe'), \n",
    "             (1, 'ana'),\n",
    "             (2, 'eva'),\n",
    "             (3, 'luis'),\n",
    "             (4, 'raquel'),  \n",
    "           ]\n",
    "conn.executemany('INSERT INTO Personas VALUES (?,?)', personas)\n",
    "conn.commit()"
   ]
  },
  {
   "cell_type": "code",
   "execution_count": 26,
   "metadata": {},
   "outputs": [],
   "source": [
    "# Esta inserción lanzaría una excepción porque se viola la clave primaria\n",
    "# conn.execute('INSERT INTO Personas VALUES (4, \"enrique\")') # IntegrityError: UNIQUE constraint failed: Personas.id"
   ]
  },
  {
   "cell_type": "code",
   "execution_count": 27,
   "metadata": {},
   "outputs": [],
   "source": [
    "personas = [ (0, 1), (0, 2), (0, 3), (0, 4),\n",
    "             (1, 0), (1, 4),\n",
    "             (2, 3),\n",
    "             (3, 0), (3, 1), (3, 4),\n",
    "           ]\n",
    "conn.executemany('INSERT INTO Seguimientos VALUES (?,?)', personas)\n",
    "conn.commit()"
   ]
  },
  {
   "cell_type": "code",
   "execution_count": 28,
   "metadata": {},
   "outputs": [],
   "source": [
    "# IntegrityError: CHECK constraint failed: desde_id != hacia_id\n",
    "# conn.execute('INSERT INTO Seguimientos VALUES (0, 0)')"
   ]
  },
  {
   "cell_type": "code",
   "execution_count": 29,
   "metadata": {},
   "outputs": [
    {
     "data": {
      "text/plain": [
       "5"
      ]
     },
     "execution_count": 29,
     "metadata": {},
     "output_type": "execute_result"
    }
   ],
   "source": [
    "# Total de personas\n",
    "cur = conn.execute('SELECT COUNT(*) FROM Personas')\n",
    "npersonas, = cur.fetchone()\n",
    "npersonas"
   ]
  },
  {
   "cell_type": "code",
   "execution_count": 30,
   "metadata": {},
   "outputs": [
    {
     "data": {
      "text/plain": [
       "10"
      ]
     },
     "execution_count": 30,
     "metadata": {},
     "output_type": "execute_result"
    }
   ],
   "source": [
    "# Total de relaciones de seguimiento\n",
    "cur = conn .execute('SELECT COUNT(*) FROM Seguimientos')\n",
    "nseg, = cur.fetchone()\n",
    "nseg"
   ]
  },
  {
   "cell_type": "code",
   "execution_count": 31,
   "metadata": {},
   "outputs": [
    {
     "data": {
      "text/plain": [
       "4"
      ]
     },
     "execution_count": 31,
     "metadata": {},
     "output_type": "execute_result"
    }
   ],
   "source": [
    "# Número de personas a las que sigue el usuario de ID=0\n",
    "cur.execute('''SELECT COUNT(*) \n",
    "               FROM Seguimientos\n",
    "               WHERE desde_id = 0''')\n",
    "namigos, = cur.fetchone()\n",
    "namigos"
   ]
  },
  {
   "cell_type": "code",
   "execution_count": 32,
   "metadata": {},
   "outputs": [
    {
     "data": {
      "text/plain": [
       "0"
      ]
     },
     "execution_count": 32,
     "metadata": {},
     "output_type": "execute_result"
    }
   ],
   "source": [
    "# Número de personas a las que sigue la usuaria 'raquel'\n",
    "cur = conn.execute('''SELECT COUNT(*) \n",
    "                      FROM Personas P JOIN Seguimientos S ON P.id = S.desde_id\n",
    "                      WHERE P.nombre = \"raquel\"''')\n",
    "namigos, = cur.fetchone()\n",
    "namigos"
   ]
  },
  {
   "cell_type": "code",
   "execution_count": 33,
   "metadata": {},
   "outputs": [
    {
     "data": {
      "text/plain": [
       "4"
      ]
     },
     "execution_count": 33,
     "metadata": {},
     "output_type": "execute_result"
    }
   ],
   "source": [
    "# Número de personas a las que sigue el usuario 'pepe'\n",
    "cur = conn.execute('''SELECT COUNT(*) \n",
    "                      FROM Personas P JOIN Seguimientos S ON P.id = S.desde_id\n",
    "                      WHERE P.nombre = \"pepe\"''')\n",
    "namigos, = cur.fetchone()\n",
    "namigos"
   ]
  },
  {
   "cell_type": "code",
   "execution_count": 34,
   "metadata": {},
   "outputs": [
    {
     "data": {
      "text/plain": [
       "[(2, 'eva', 1), (1, 'ana', 2), (3, 'luis', 3), (0, 'pepe', 4)]"
      ]
     },
     "execution_count": 34,
     "metadata": {},
     "output_type": "execute_result"
    }
   ],
   "source": [
    "# Por cada persona, número de personas a las que siguen \n",
    "query = '''\n",
    "SELECT P.id, P.nombre, COUNT(*) AS 'Num_Amigos'\n",
    "FROM Personas P JOIN Seguimientos S ON P.id = S.desde_id\n",
    "GROUP BY P.id, P.nombre\n",
    "ORDER BY COUNT(*) ASC\n",
    "'''\n",
    "\n",
    "namigos = conn.execute(query).fetchall()\n",
    "namigos"
   ]
  },
  {
   "cell_type": "code",
   "execution_count": 35,
   "metadata": {},
   "outputs": [
    {
     "data": {
      "text/plain": [
       "[(0, 'pepe', 4),\n",
       " (3, 'luis', 3),\n",
       " (1, 'ana', 2),\n",
       " (2, 'eva', 1),\n",
       " (4, 'raquel', 0)]"
      ]
     },
     "execution_count": 35,
     "metadata": {},
     "output_type": "execute_result"
    }
   ],
   "source": [
    "# Por cada persona, número de personas a las que siguen *contando también los usuarios sin seguimientos*\n",
    "query = '''\n",
    "SELECT P.id, P.nombre, COUNT(desde_id) AS 'Num_Amigos'\n",
    "FROM Personas P LEFT JOIN Seguimientos S ON P.id = S.desde_id\n",
    "GROUP BY P.id, P.nombre\n",
    "ORDER BY COUNT(desde_id) DESC\n",
    "'''\n",
    "\n",
    "namigos = conn.execute(query).fetchall()\n",
    "namigos"
   ]
  },
  {
   "cell_type": "code",
   "execution_count": 36,
   "metadata": {},
   "outputs": [
    {
     "data": {
      "text/plain": [
       "(4, 'raquel', 3)"
      ]
     },
     "execution_count": 36,
     "metadata": {},
     "output_type": "execute_result"
    }
   ],
   "source": [
    "# Usuario más seguido, en caso de empate el de ID más pequeño\n",
    "query = '''\n",
    "SELECT P.id, P.nombre, COUNT(S.hacia_id) AS 'Num_seguidores'\n",
    "FROM Personas P JOIN Seguimientos S ON P.id = S.hacia_id\n",
    "GROUP BY P.id, P.nombre\n",
    "ORDER BY COUNT(S.hacia_id) DESC, P.id ASC\n",
    "LIMIT 1'''\n",
    "\n",
    "nseguidores, = conn.execute(query).fetchall()\n",
    "nseguidores"
   ]
  },
  {
   "cell_type": "code",
   "execution_count": 37,
   "metadata": {},
   "outputs": [
    {
     "data": {
      "text/plain": [
       "(('id', None, None, None, None, None, None),\n",
       " ('nombre', None, None, None, None, None, None),\n",
       " ('Num_seguidores', None, None, None, None, None, None))"
      ]
     },
     "execution_count": 37,
     "metadata": {},
     "output_type": "execute_result"
    }
   ],
   "source": [
    "# Al realizar una consulta, cur.description incluye la descripción de las columnas\n",
    "conn.execute(query).description"
   ]
  },
  {
   "cell_type": "markdown",
   "metadata": {},
   "source": [
    "Sí, devuelve tuplas de 7 elementos aunque los últimos 6 son `None` (https://docs.python.org/3/library/sqlite3.html#sqlite3.Cursor.description). Esto es así para cumplir con la especificación Python de acceso a bases de datos **DB-API 2.0** (https://peps.python.org/pep-0249/). Según esta especificación, la descripción del cursor (https://peps.python.org/pep-0249/#description) debe devolver 7 valores: name, type_code, display_size, internal_size, precision, scale, null_ok. Pero la implementación de SQLite en Python ignora todos menos el nombre de columna."
   ]
  },
  {
   "cell_type": "code",
   "execution_count": 38,
   "metadata": {},
   "outputs": [
    {
     "name": "stdout",
     "output_type": "stream",
     "text": [
      "(('id', None, None, None, None, None, None), ('nombre', None, None, None, None, None, None))\n"
     ]
    },
    {
     "data": {
      "text/plain": [
       "[{'id': 0, 'nombre': 'pepe'},\n",
       " {'id': 1, 'nombre': 'ana'},\n",
       " {'id': 2, 'nombre': 'eva'},\n",
       " {'id': 3, 'nombre': 'luis'},\n",
       " {'id': 4, 'nombre': 'raquel'}]"
      ]
     },
     "execution_count": 38,
     "metadata": {},
     "output_type": "execute_result"
    }
   ],
   "source": [
    "# Usando cur.description se puede generar un diccionario en lugar de tuplas\n",
    "cur = conn.execute('SELECT * FROM Personas')\n",
    "print(cur.description)\n",
    "[{desc[0]: row[pos] for pos, desc in enumerate(cur.description)} for row in cur]\n",
    "# Explicación: a) genero una lista por comprensión para cada fila (row) generada por la consulta (cur)\n",
    "#              b) para cada fila, genero un diccionario por comprensión recorriendo todos sus campos según la descripción"
   ]
  }
 ],
 "metadata": {
  "kernelspec": {
   "display_name": "Python 3 (ipykernel)",
   "language": "python",
   "name": "python3"
  },
  "language_info": {
   "codemirror_mode": {
    "name": "ipython",
    "version": 3
   },
   "file_extension": ".py",
   "mimetype": "text/x-python",
   "name": "python",
   "nbconvert_exporter": "python",
   "pygments_lexer": "ipython3",
   "version": "3.11.10"
  }
 },
 "nbformat": 4,
 "nbformat_minor": 4
}
