{
 "cells": [
  {
   "cell_type": "markdown",
   "metadata": {},
   "source": [
    "# Recuperación de recursos de la web\n",
    "_Antonio Sarasa, Enrique Martín_"
   ]
  },
  {
   "cell_type": "markdown",
   "metadata": {},
   "source": [
    "Se van a mostrar varias formas de recuperar recursos que se encuentran en la web:\n",
    "\n",
    "* Recuperación con el módulo `urllib`\n",
    "* Recuperación con el módulo `requests`"
   ]
  },
  {
   "cell_type": "markdown",
   "metadata": {},
   "source": [
    "## Recuperación con el módulo `urllib`\n",
    "\n",
    "urllib es una librería que permite tratar una página web de forma parecida a la apertura de un fichero, de forma que la librería gestiona de manera transparente todo lo referente al protocolo HTTP y los detalles de la cabecera.\n",
    "\n",
    "Una vez que la página web ha sido abierta con urllib.request.urlopen, se puede tratar como un archivo y leer a través de ella usando un bucle for.\n",
    "\n",
    "Cuando se recupera la página web, sólo se accede al contenido puesto las cabeceras aunque se envián,  el código de urllib se queda con ellas y sólo devuelve los datos.\n",
    "\n",
    "En el siguiente ejemplo se recupera la información de una página web"
   ]
  },
  {
   "cell_type": "code",
   "execution_count": 1,
   "metadata": {},
   "outputs": [
    {
     "name": "stdout",
     "output_type": "stream",
     "text": [
      "<class 'http.client.HTTPResponse'>\n",
      "\n",
      "Server: nginx/1.18.0 (Ubuntu)\n",
      "Date: Fri, 04 Oct 2024 11:18:15 GMT\n",
      "Content-Type: text/html; charset=utf-8\n",
      "Content-Length: 4761\n",
      "Connection: close\n",
      "Expires: Fri, 04 Oct 2024 11:18:15 GMT\n",
      "Cache-Control: max-age=0, no-cache, no-store, must-revalidate, private\n",
      "Vary: Cookie, Accept-Language\n",
      "X-Frame-Options: DENY\n",
      "Content-Language: es\n",
      "Strict-Transport-Security: max-age=31536000; includeSubDomains; preload\n",
      "X-Content-Type-Options: nosniff\n",
      "Referrer-Policy: same-origin\n",
      "Cross-Origin-Opener-Policy: same-origin\n",
      "Set-Cookie: csrftoken=gngY94vO5k7mVwERV6SN8q5mK5FoQxiJ; expires=Fri, 03 Oct 2025 11:18:15 GMT; Max-Age=31449600; Path=/; SameSite=Lax; Secure\n",
      "X-Frame-Options: DENY\n",
      "\n",
      "\n",
      "b'\\n\\n\\n<!DOCTYPE html>\\n<html lang=\"es\">\\n<head>\\n    <title>Learn SQL</title>\\n    <meta charset=\"utf-8\">\\n    <meta name=\"viewport\" content=\"width=device-width, initial-scale=1\">\\n\\n    <link href=\"https://cdn.jsdelivr.net/npm/bootstrap@5.3.2/dist/css/bootstrap.min.css\" rel=\"stylesheet\"\\n          integrity=\"sha384-T3c6CoIi6uLrA9TneNEoa7RxnatzjcDSCmG1MXxSR1GAsXEV/Dwwykc2MPK8M2HN\" crossorigin=\"anonymous\">\\n\\n    <link rel=\"icon\" href=\"/static/judge/img/server.svg\">\\n    <link rel=\"stylesheet\" href=\"/static/judge/css/style.css\">\\n\\n    <link rel=\"stylesheet\" href=\"https://cdnjs.cloudflare.com/ajax/libs/flag-icon-css/7.1.0/css/flag-icons.min.css\"\\n          integrity=\"sha512-bZBu2H0+FGFz/stDN/L0k8J0G8qVsAL0ht1qg5kTwtAheiXwiRKyCq1frwfbSFSJN3jooR5kauE0YjtPzhZtJQ==\"\\n          crossorigin=\"anonymous\" referrerpolicy=\"no-referrer\" />\\n\\n    <link rel=\"stylesheet\" href=\"https://cdn.jsdelivr.net/npm/bootstrap-icons@1.11.3/font/bootstrap-icons.min.css\"\\n          integrity=\"sha256-9kPW/n5nn53j4WMRYAxe9c1rCY96Oogo/MKSVdKzPmI=\" crossorigin=\"anonymous\">\\n\\n    <script src=\"https://cdn.jsdelivr.net/npm/bootstrap@5.3.2/dist/js/bootstrap.bundle.min.js\"\\n            integrity=\"sha384-C6RzsynM9kWDrMNeT87bh95OGNyZPhcTNXj1NW7RuBCsyN/o0jlpcV8Qyq46cDfL\"\\n            crossorigin=\"anonymous\"></script>\\n\\n    <script src=\"https://cdn.jsdelivr.net/npm/jquery@3.7.1/dist/jquery.min.js\"\\n            integrity=\"sha256-/JqT3SQfawRcv/BIHPThkBvs0OEvtFFmqPF/lYI/Cxo=\" crossorigin=\"anonymous\"></script>\\n\\n</head>\\n<body>\\n\\n<nav class=\"navbar navbar-expand-md navbar-dark menu_bar\">\\n    <div class=\"container-fluid\">\\n        <a href=\"/sql/\" class=\"navbar-brand abs\">\\n            Learn SQL <i class=\"bi bi-server bigger-icon\"></i>\\n        </a>\\n        <button class=\"navbar-toggler ms-auto\" type=\"button\" data-bs-toggle=\"collapse\" data-bs-target=\"#collapseNavbar\">\\n            <span class=\"navbar-toggler-icon\"></span>\\n        </button>\\n        <div class=\"navbar-collapse collapse\" id=\"collapseNavbar\">\\n            <ul class=\"navbar-nav\">\\n                \\n  <button class=\"navbar-toggler\" type=\"button\" data-toggle=\"collapse\" data-target=\"#navbarSupportedContent\" aria-controls=\"navbarSupportedContent\" aria-expanded=\"false\" aria-label=\"Toggle navigation\">\\n    <span class=\"navbar-toggler-icon\"></span>\\n  </button>\\n\\n            </ul>\\n            <!-- Language selector -->\\n            <ul class=\"navbar-nav ms-auto\">\\n                \\n                \\n\\n                <li class=\"nav-link\">\\n                    <span class=\"fi fi-es d-inline-block align-bottom\" id=\"current-language\"></span>\\n                </li>\\n                <li>\\n                    \\n                    <form class=\"nav-link\" action=\"/sql/setlang/\" method=\"post\"><input type=\"hidden\" name=\"csrfmiddlewaretoken\" value=\"NMhzEdhvXXqIascBK8Z7NzQC4rwtsiq3TZnnD7C9S7nUVOGiv4HKLPLOEm1H8FyC\">\\n                        <input name=\"next\" type=\"hidden\" value=\"\">\\n                        <select class=\"form-select form-select-sm\" data-style=\"btn-primary\" name=\"language\" onchange=\"this.form.submit()\" id=\"language\">\\n                        \\n                        \\n                        \\n                        \\n                            <option value=\"en\">\\n                                English\\n                            </option>\\n                        \\n                            <option value=\"es\" selected>\\n                                espa\\xc3\\xb1ol\\n                            </option>\\n                        \\n                        </select>\\n                    </form>\\n                </li>\\n            </ul>\\n        </div>\\n    </div>\\n</nav>\\n<div class=\"container-fluid mt-4\">\\n  <div class=\"row\">\\n    <div class=\"col-12\">\\n        \\n\\n\\n  <h1>Inicio de sesi\\xc3\\xb3n</h1>\\n<form action=\"/sql/login/\" method=\"post\">\\n    <input type=\"hidden\" name=\"csrfmiddlewaretoken\" value=\"NMhzEdhvXXqIascBK8Z7NzQC4rwtsiq3TZnnD7C9S7nUVOGiv4HKLPLOEm1H8FyC\">\\n    <input type=\"hidden\" name=\"next\" value=\"/sql/collection/\">\\n\\n    <div class=\"mb-3\">\\n        <label for=\"id_username\">Nombre de usuario:</label><br/>\\n        <input type=\"text\" name=\"username\" autofocus autocapitalize=\"none\" autocomplete=\"username\" maxlength=\"150\" required id=\"id_username\">\\n        <div id=\"emailHelp\" class=\"form-text\">\\n          Es la parte de tu e-mail que precede a <code>@ucm.es</code>.\\n        </div>\\n    </div>\\n\\n    <div class=\"mb-3\">\\n        <label for=\"id_password\">Contrase\\xc3\\xb1a:</label><br/>\\n        <input type=\"password\" name=\"password\" autocomplete=\"current-password\" required id=\"id_password\">\\n      <div id=\"passwordHelp\" class=\"form-text\">\\n          Ponte en contacto con tu profesor si has olvidado tu contrase\\xc3\\xb1a.\\n      </div>\\n    </div>\\n  <button type=\"submit\" class=\"btn btn-primary\">Entrar</button>\\n</form>\\n\\n    </div>\\n  </div>\\n</div>\\n\\n</body>\\n</html>\\n'\n",
      "\n",
      "\n",
      "\n",
      "\n",
      "<!DOCTYPE html>\n",
      "<html lang=\"es\">\n",
      "<head>\n",
      "    <title>Learn SQL</title>\n",
      "    <meta charset=\"utf-8\">\n",
      "    <meta name=\"viewport\" content=\"width=device-width, initial-scale=1\">\n",
      "\n",
      "    <link href=\"https://cdn.jsdelivr.net/npm/bootstrap@5.3.2/dist/css/bootstrap.min.css\" rel=\"stylesheet\"\n",
      "          integrity=\"sha384-T3c6CoIi6uLrA9TneNEoa7RxnatzjcDSCmG1MXxSR1GAsXEV/Dwwykc2MPK8M2HN\" crossorigin=\"anonymous\">\n",
      "\n",
      "    <link rel=\"icon\" href=\"/static/judge/img/server.svg\">\n",
      "    <link rel=\"stylesheet\" href=\"/static/judge/css/style.css\">\n",
      "\n",
      "    <link rel=\"stylesheet\" href=\"https://cdnjs.cloudflare.com/ajax/libs/flag-icon-css/7.1.0/css/flag-icons.min.css\"\n",
      "          integrity=\"sha512-bZBu2H0+FGFz/stDN/L0k8J0G8qVsAL0ht1qg5kTwtAheiXwiRKyCq1frwfbSFSJN3jooR5kauE0YjtPzhZtJQ==\"\n",
      "          crossorigin=\"anonymous\" referrerpolicy=\"no-referrer\" />\n",
      "\n",
      "    <link rel=\"stylesheet\" href=\"https://cdn.jsdelivr.net/npm/bootstrap-icons@1.11.3/font/bootstrap-icons.min.css\"\n",
      "          integrity=\"sha256-9kPW/n5nn53j4WMRYAxe9c1rCY96Oogo/MKSVdKzPmI=\" crossorigin=\"anonymous\">\n",
      "\n",
      "    <script src=\"https://cdn.jsdelivr.net/npm/bootstrap@5.3.2/dist/js/bootstrap.bundle.min.js\"\n",
      "            integrity=\"sha384-C6RzsynM9kWDrMNeT87bh95OGNyZPhcTNXj1NW7RuBCsyN/o0jlpcV8Qyq46cDfL\"\n",
      "            crossorigin=\"anonymous\"></script>\n",
      "\n",
      "    <script src=\"https://cdn.jsdelivr.net/npm/jquery@3.7.1/dist/jquery.min.js\"\n",
      "            integrity=\"sha256-/JqT3SQfawRcv/BIHPThkBvs0OEvtFFmqPF/lYI/Cxo=\" crossorigin=\"anonymous\"></script>\n",
      "\n",
      "</head>\n",
      "<body>\n",
      "\n",
      "<nav class=\"navbar navbar-expand-md navbar-dark menu_bar\">\n",
      "    <div class=\"container-fluid\">\n",
      "        <a href=\"/sql/\" class=\"navbar-brand abs\">\n",
      "            Learn SQL <i class=\"bi bi-server bigger-icon\"></i>\n",
      "        </a>\n",
      "        <button class=\"navbar-toggler ms-auto\" type=\"button\" data-bs-toggle=\"collapse\" data-bs-target=\"#collapseNavbar\">\n",
      "            <span class=\"navbar-toggler-icon\"></span>\n",
      "        </button>\n",
      "        <div class=\"navbar-collapse collapse\" id=\"collapseNavbar\">\n",
      "            <ul class=\"navbar-nav\">\n",
      "                \n",
      "  <button class=\"navbar-toggler\" type=\"button\" data-toggle=\"collapse\" data-target=\"#navbarSupportedContent\" aria-controls=\"navbarSupportedContent\" aria-expanded=\"false\" aria-label=\"Toggle navigation\">\n",
      "    <span class=\"navbar-toggler-icon\"></span>\n",
      "  </button>\n",
      "\n",
      "            </ul>\n",
      "            <!-- Language selector -->\n",
      "            <ul class=\"navbar-nav ms-auto\">\n",
      "                \n",
      "                \n",
      "\n",
      "                <li class=\"nav-link\">\n",
      "                    <span class=\"fi fi-es d-inline-block align-bottom\" id=\"current-language\"></span>\n",
      "                </li>\n",
      "                <li>\n",
      "                    \n",
      "                    <form class=\"nav-link\" action=\"/sql/setlang/\" method=\"post\"><input type=\"hidden\" name=\"csrfmiddlewaretoken\" value=\"NMhzEdhvXXqIascBK8Z7NzQC4rwtsiq3TZnnD7C9S7nUVOGiv4HKLPLOEm1H8FyC\">\n",
      "                        <input name=\"next\" type=\"hidden\" value=\"\">\n",
      "                        <select class=\"form-select form-select-sm\" data-style=\"btn-primary\" name=\"language\" onchange=\"this.form.submit()\" id=\"language\">\n",
      "                        \n",
      "                        \n",
      "                        \n",
      "                        \n",
      "                            <option value=\"en\">\n",
      "                                English\n",
      "                            </option>\n",
      "                        \n",
      "                            <option value=\"es\" selected>\n",
      "                                español\n",
      "                            </option>\n",
      "                        \n",
      "                        </select>\n",
      "                    </form>\n",
      "                </li>\n",
      "            </ul>\n",
      "        </div>\n",
      "    </div>\n",
      "</nav>\n",
      "<div class=\"container-fluid mt-4\">\n",
      "  <div class=\"row\">\n",
      "    <div class=\"col-12\">\n",
      "        \n",
      "\n",
      "\n",
      "  <h1>Inicio de sesión</h1>\n",
      "<form action=\"/sql/login/\" method=\"post\">\n",
      "    <input type=\"hidden\" name=\"csrfmiddlewaretoken\" value=\"NMhzEdhvXXqIascBK8Z7NzQC4rwtsiq3TZnnD7C9S7nUVOGiv4HKLPLOEm1H8FyC\">\n",
      "    <input type=\"hidden\" name=\"next\" value=\"/sql/collection/\">\n",
      "\n",
      "    <div class=\"mb-3\">\n",
      "        <label for=\"id_username\">Nombre de usuario:</label><br/>\n",
      "        <input type=\"text\" name=\"username\" autofocus autocapitalize=\"none\" autocomplete=\"username\" maxlength=\"150\" required id=\"id_username\">\n",
      "        <div id=\"emailHelp\" class=\"form-text\">\n",
      "          Es la parte de tu e-mail que precede a <code>@ucm.es</code>.\n",
      "        </div>\n",
      "    </div>\n",
      "\n",
      "    <div class=\"mb-3\">\n",
      "        <label for=\"id_password\">Contraseña:</label><br/>\n",
      "        <input type=\"password\" name=\"password\" autocomplete=\"current-password\" required id=\"id_password\">\n",
      "      <div id=\"passwordHelp\" class=\"form-text\">\n",
      "          Ponte en contacto con tu profesor si has olvidado tu contraseña.\n",
      "      </div>\n",
      "    </div>\n",
      "  <button type=\"submit\" class=\"btn btn-primary\">Entrar</button>\n",
      "</form>\n",
      "\n",
      "    </div>\n",
      "  </div>\n",
      "</div>\n",
      "\n",
      "</body>\n",
      "</html>\n",
      "\n"
     ]
    }
   ],
   "source": [
    "from urllib.request import urlopen\n",
    "resp = urlopen('https://learn.fdi.ucm.es')\n",
    "print(type(resp))\n",
    "# 'resp' es un objeto de tipo 'http.client.HTTPResponse' \n",
    "# https://docs.python.org/3/library/http.client.html#httpresponse-objects\n",
    "\n",
    "print()\n",
    "print(resp.headers)\n",
    "\n",
    "body = resp.read()\n",
    "print(body)\n",
    "# 'read()' devuelve el contenido de la contestación como bytes\n",
    "\n",
    "print()\n",
    "print(body.decode('utf8'))\n",
    "# Los bytes pueden ser decodificados a un str"
   ]
  },
  {
   "cell_type": "markdown",
   "metadata": {
    "collapsed": true,
    "jupyter": {
     "outputs_hidden": true
    }
   },
   "source": [
    "En el siguiente programa se procesa la información de un página web y se calcula la frecuencia de cada palabra:"
   ]
  },
  {
   "cell_type": "code",
   "execution_count": 2,
   "metadata": {},
   "outputs": [
    {
     "name": "stdout",
     "output_type": "stream",
     "text": [
      "[('<div', 9),\n",
      " ('</div>', 9),\n",
      " ('<link', 5),\n",
      " ('<input', 5),\n",
      " ('rel=\"stylesheet\"', 4),\n",
      " ('type=\"hidden\"', 4),\n",
      " ('<button', 3),\n",
      " ('<span', 3),\n",
      " ('de', 3),\n",
      " ('tu', 3)]\n"
     ]
    }
   ],
   "source": [
    "from pprint import pp\n",
    "from collections import Counter\n",
    "\n",
    "manf = urlopen('http://learn.fdi.ucm.es').read().decode('utf8')\n",
    "reps = Counter(manf.split())\n",
    "pp(reps.most_common(10))"
   ]
  },
  {
   "cell_type": "markdown",
   "metadata": {},
   "source": [
    "La librería urllib también se puede utilizar para recuperar ficheros que no son de texto  como un archivo de imagen o de video, y para los que se requiere hacer una copia de la URL en un archivo local.\n",
    "\n",
    "En estos casos se usa el método read para descargar el contenido completo del documento en una variable de tipo cadena y luego escribir la información a un archivo local."
   ]
  },
  {
   "cell_type": "markdown",
   "metadata": {},
   "source": [
    "## Recuperación con el módulo `requests`\n",
    "\n",
    "El módulo requests permite bajarse archivos de la red de una forma transparente. No se encuentra instalado por defecto con Python.\n",
    "\n",
    "La función get() del módulo requests toma una cadena que representa la url que se quiere descargar. El resultado de la llamada es un objeto de tipo Response que contiene la respuesta que el servidor web devuelve como respuesta a la petición."
   ]
  },
  {
   "cell_type": "code",
   "execution_count": 3,
   "metadata": {},
   "outputs": [
    {
     "name": "stdout",
     "output_type": "stream",
     "text": [
      "4757\n",
      "\n",
      "\n",
      "\n",
      "<!DOCTYPE html>\n",
      "<html lang=\"es\">\n",
      "<head>\n",
      "    <title>Learn SQL</title>\n",
      "    <meta charset=\"utf-8\">\n",
      "    <meta name=\"viewport\" content=\"width=device-width, initial-scale=1\">\n",
      "\n",
      "    <link href=\"https://cdn.jsdelivr.net/npm/bootstrap@5.3.2/dist/css/bootstr\n"
     ]
    }
   ],
   "source": [
    "import requests\n",
    "\n",
    "res = requests.get(\"https://learn.fdi.ucm.es\")\n",
    "if res.status_code == requests.codes.ok:\n",
    "    print(len(res.text))\n",
    "    print(res.text[:250])\n",
    "\n",
    "# ¡¡res.text ya está convenientemente decodificado!!"
   ]
  },
  {
   "cell_type": "markdown",
   "metadata": {},
   "source": [
    "En el ejemplo además de recuperar la pagina descrita, se ha comprobado que la descarga se ha realizado con éxito chequeando el valor del atributo status_code del objeto Response. Si el valor que toma es requests.codes.ok significa que se ha realizado correctamente, y la descargada se ha almacenado como una cadena en la variable text del objeto Response.\n",
    "\n",
    "Otra forma de comprobar si una descarga se ha realizado con éxito consiste en utilizar el método raise_for_status() del objeto Response. Este método lanzará una excepción si se ha producido algún error en la descarga y no hará nada en caso de que la descarga se haya realizado con éxito. Es por ello que una buena práctica consiste en encerrar la llamada al método raise_for_status() entre un try/except con el objetivo de tratar los casos en que se produzca una descarga errónea."
   ]
  },
  {
   "cell_type": "code",
   "execution_count": 4,
   "metadata": {},
   "outputs": [
    {
     "name": "stdout",
     "output_type": "stream",
     "text": [
      "Todo OK\n"
     ]
    }
   ],
   "source": [
    "res = requests.get(\"http://learn.fdi.ucm.es\")\n",
    "try:\n",
    "    res.raise_for_status()\n",
    "    print(\"Todo OK\")\n",
    "except:\n",
    "    print (\"Hubo un problema\")"
   ]
  },
  {
   "cell_type": "markdown",
   "metadata": {},
   "source": [
    "Observar que es la llamada al método __raise_for_status()__ hay que realizarlo siempre después de llamar al método __requests.get()__ dado que el objetivo es asegurarse que la descarga se realizó con éxito antes de que el programa continúe su ejecución.\n",
    "\n",
    "Una vez que ha realizado la descarga, lo que interesa es guardar el contenido en un archivo. Para ello se puede utilizar la función __open()__ y el método __write()__. En este sentido lo primero que hay que hacer es abrir un fichero en modo __“wb”__(escribir un modo binario), y a continuación escribir al fichero usando un bucle for que utilice el método __iter_content__ del objeto __Response__."
   ]
  },
  {
   "cell_type": "code",
   "execution_count": 5,
   "metadata": {},
   "outputs": [],
   "source": [
    "res = requests.get(\"http://learn.fdi.ucm.es\")\n",
    "try:\n",
    "    res.raise_for_status()\n",
    "    archivo = open(\"Archivo.txt\",\"wb\")\n",
    "    for bloque in res.iter_content(10000):\n",
    "       archivo.write(bloque)\n",
    "    archivo.close()\n",
    "except:\n",
    "    print (\"Hubo un problema\")"
   ]
  },
  {
   "cell_type": "markdown",
   "metadata": {},
   "source": [
    "Observar que el método iter_content recupera bloques de contenido en cada iteración a través del bucle. Cada bloque es un conjunto de bytes de datos en un tamaño igual al especificado. Así  mismo observar que el método __write()__ retorna el número de bytes escritos al fichero."
   ]
  },
  {
   "cell_type": "markdown",
   "metadata": {},
   "source": [
    "# Web Scraping"
   ]
  },
  {
   "cell_type": "markdown",
   "metadata": {},
   "source": [
    "El “web scraping” consiste en escribir un programa que finge ser un navegador web y recupera páginas, examinando luego los datos de esas páginas para encontrar ciertos patrones.\n",
    "\n",
    "Por ejemplo los buscadores:\n",
    "\n",
    "* Buscan en el código de una página web, extraen los enlaces a otras páginas y recuperan esas páginas, extrayendo los enlaces que haya en ellas y así sucesivamente. \n",
    "* Usan la frecuencia con que las páginas que encuentra enlazan hacia una página concreta para calcular la “importancia” de esa página, y la posición en la que debe aparecer dentro de sus resultados de búsqueda.\n",
    "\n",
    "Se van a estudiar dos formas de analizar páginas web:\n",
    "\n",
    "* Mediante expresiones regulares.\n",
    "* Mediante la librería BeautifulSoup.\n",
    "\n"
   ]
  },
  {
   "cell_type": "markdown",
   "metadata": {},
   "source": [
    "## Expresiones regulares\n",
    "\n",
    "Un forma fácil de analizar HTML consiste en utilizar expresiones regulares para hacer búsquedas repetidas que extraigan subcadenas coincidentes con un modelo concreto.\n",
    "\n",
    "Considerar por ejemplo una página web que contiene enlaces y se quieren detectar dicho enlaces. Para ello se podría construir una expresión regular  que busque y extraiga los valores de los enlaces:\n",
    "\n",
    "                                  href=(\"https://.+?\")\n",
    "                  \n",
    "La expresión regular busca cadenas que comiencen por `href=\"https://`, seguido de uno o más caracteres (`.+?`), seguidos por otra comilla doble (`\"`). El signo de interrogación añadido a `.+?` indica que se busca la cadena coincidente más pequeña posible.  Por último se añaden paréntesis a la expresión regular para indicar qué parte de la cadena localizada se quiere extraer."
   ]
  },
  {
   "cell_type": "code",
   "execution_count": 6,
   "metadata": {},
   "outputs": [
    {
     "name": "stdout",
     "output_type": "stream",
     "text": [
      "w.ine.es/#WebSite\",            \n",
      "    \"name\": \"INE - Instituto Nacional de EstadÃ­stica\",\n",
      "    \"inLanguage\": \"es\",     \n",
      "    \"headline\": \"Instituto Nacional de EstadÃ­stica\",\n",
      "    \"description\" : \"El I\n",
      "\n",
      "{'Date': 'Fri, 04 Oct 2024 11:18:15 GMT',\n",
      " 'Accept-Ranges': 'bytes',\n",
      " 'Cache-Control': 'max-age=0',\n",
      " 'Expires': 'Fri, 04 Oct 2024 11:18:15 GMT',\n",
      " 'X-UA-Compatible': 'IE=edge',\n",
      " 'Keep-Alive': 'timeout=15, max=100',\n",
      " 'Connection': 'Keep-Alive',\n",
      " 'Content-Type': 'text/html',\n",
      " 'Set-Cookie': 'TS01f17082=018b1b3cc27ce080621aed638a0922c3ca578f39d38dfeb06a060533e19e594efcd3776d73bfec905619d27af3d1046f98c6758d05; '\n",
      "               'Path=/; Domain=.ine.es',\n",
      " 'Vary': 'Accept-Encoding',\n",
      " 'Content-Encoding': 'gzip',\n",
      " 'Transfer-Encoding': 'chunked'}\n",
      "\n",
      "ISO-8859-1\n",
      "utf-8\n",
      "/#WebSite\",            \n",
      "    \"name\": \"INE - Instituto Nacional de Estadística\",\n",
      "    \"inLanguage\": \"es\",     \n",
      "    \"headline\": \"Instituto Nacional de Estadística\",\n",
      "    \"description\" : \"El INE elabora\n"
     ]
    }
   ],
   "source": [
    "import requests\n",
    "from pprint import pp\n",
    "\n",
    "url = 'https://ine.es/'\n",
    "r = requests.get(url)\n",
    "print(r.text[5800:6000])\n",
    "# Vemos que no está decodificando bien. P.ej. \"INE - Instituto Nacional de EstadÃstica\"\n",
    "print()\n",
    "\n",
    "# Problema: el servidor del INE no incida el encoding en la cabecera HTTP de la contestación\n",
    "pp(dict(r.headers))\n",
    "print()\n",
    "\n",
    "# Se debe indicar el charset en el \"Content-Type\", si no se asigna ISO-8859-1\n",
    "print(r.encoding)\n",
    "\n",
    "# Afortunadamente, requests puede indagar el encoding aparente de una contestación\n",
    "print(r.apparent_encoding)\n",
    "# y podemos forzarlo, en este caso a UTF8\n",
    "r.encoding = r.apparent_encoding\n",
    "print(r.text[5800:6000])"
   ]
  },
  {
   "cell_type": "code",
   "execution_count": 7,
   "metadata": {},
   "outputs": [
    {
     "name": "stdout",
     "output_type": "stream",
     "text": [
      "['\"https://sede.ine.gob.es/ss/Satellite?c=Page&amp;cid=1254734719723&amp;pagename=SedeElectronica%2FSELayout&amp;lang=es_ES\"',\n",
      " '\"https://www.es-datalab.es/\"',\n",
      " '\"https://censo2021.csic.es/\"',\n",
      " '\"https://www.esc2024.eu/\"',\n",
      " '\"https://portal.mineco.gob.es/es-es/ministerio/participacionpublica/audienciapublica/Paginas/RD-aprueba-Clasificacion-Nacional-Actividades-Economicas-CNAE-2025.aspx\"',\n",
      " '\"https://portal.mineco.gob.es/es-es/ministerio/participacionpublica/audienciapublica/Paginas/Proyecto-Real-Decreto-aprueba-plan-estadistico-nacional-2025-2028.aspx\"',\n",
      " '\"https://sede.ine.gob.es/proyectos_investigacion\"',\n",
      " '\"https://censo2021.csic.es/\"',\n",
      " '\"https://public.tableau.com/views/EPAFlujosSankeyES_16252266850430/Dashboardccaa?:showVizHome=no&:embed=true#5\"',\n",
      " '\"https://public.tableau.com/views/CAUSASDEMUERTEactualizacin2018/Dashboard1?:showVizHome=no&:embed=true\"',\n",
      " '\"https://public.tableau.com/views/CFMSankeyES_16339576758090/Dashboard1?:showVizHome=no&:embed=true#3\"',\n",
      " '\"https://public.tableau.com/views/ticPrueba/His_TIC_es?:showVizHome=no&:embed=true\"',\n",
      " '\"https://public.tableau.com/views/infografia_cumple/Dashboard12?:showVizHome=no&:embed=true\"',\n",
      " '\"https://inespain.maps.arcgis.com/apps/MinimalGallery/index.html?appid=c8b41b2c471845afbc8f8eb20c54382e#\"',\n",
      " '\"https://public.tableau.com/views/Fenmenosdemogrficos/Fenomenosdemograficos?:showVizHome=no&:embed=true\"',\n",
      " '\"https://public.tableau.com/views/CCAA_4/Dashboard1?:showVizHome=no&:embed=true\"',\n",
      " '\"https://public.tableau.com/views/diciembredel20_16080391706460/Dashboard1?:showVizHome=no&:embed=true\"',\n",
      " '\"https://public.tableau.com/views/NombresBebesES_16221867767580/Dashboard1?:showVizHome=no&:embed=true#3\"',\n",
      " '\"https://www.youtube.com/embed/L6lqbSoDmOE\"',\n",
      " '\"https://twitter.com/es_ine\"',\n",
      " '\"https://www.youtube.com/INEDifusion\"',\n",
      " '\"https://www.instagram.com/es_ine_/\"',\n",
      " '\"https://es.linkedin.com/company/ine-es\"',\n",
      " '\"https://creativecommons.org/licenses/by/4.0/?ref=chooser-v1\"']\n"
     ]
    }
   ],
   "source": [
    "import re\n",
    "\n",
    "# Extraemos los enlaces HTTPS con una expresión regular\n",
    "html = r.text\n",
    "enlaces = re.findall('href=(\"https://.+?\")', html)\n",
    "pp(enlaces)"
   ]
  },
  {
   "cell_type": "markdown",
   "metadata": {},
   "source": [
    "El método findall de las expresiones regulares proporciona una lista de todas las cadenas que coinciden con la expresión regular, devolviendo sólo el texto del enlace situado dentro de las comillas dobles.\n",
    "\n",
    "Las expresiones regulares funcionan bien cuando el HTML está bien formado y es predecible. Sin embargo si el HTML no está bien construido, se pueden perder parte de los enlaces correctos, o terminar obteniendo datos erróneos."
   ]
  },
  {
   "cell_type": "markdown",
   "metadata": {},
   "source": [
    "## BeautifulSoup\n",
    "\n",
    "BeautifulSoup es una biblioteca para extraer información de un página web. Su documentación completa está en https://www.crummy.com/software/BeautifulSoup/bs4/doc/ y se instala simplemente con:\n",
    "\n",
    "     pip install beautifulsoup4\n",
    "\n",
    "En este ejemplo se va analizar una página web y se van a extraer todos sus enlaces. Para ello el programa solicita una dirección web, luego abre la página web usando urllib, se leen los datos y se los pasa al analizador BeautifulSoup, que recupera todas las etiquetas de anclas(a) e imprime en pantalla el atributo href de cada una de ellas."
   ]
  },
  {
   "cell_type": "code",
   "execution_count": 8,
   "metadata": {
    "scrolled": true
   },
   "outputs": [
    {
     "name": "stdout",
     "output_type": "stream",
     "text": [
      "<class 'bs4.element.Tag'> <a href=\"/\"><img alt=\"SIGLAS Instituto Nacional de Estadística\" src=\"/menus/_b/img/LogoINE.svg\"/>\n",
      "</a>\n",
      "\n",
      "<<>> --> /\n",
      "<<English>> --> /en/index.htm\n",
      "<<>> --> /indiceweb.htm\n",
      "<<Censo Electoral>> --> /dyngs/CEL/index.htm?cid=41\n",
      "<<Sede electrónica>> --> https://sede.ine.gob.es/ss/Satellite?c=Page&cid=1254734719723&pagename=SedeElectronica%2FSELayout&lang=es_ES\n",
      "<<Compartir>> --> javascript:void(0)\n",
      "<<X>> --> #shareTwitter\n",
      "<<Facebook>> --> #shareFacebook\n",
      "<<Linkedin>> --> #shareLinkedin\n",
      "<<WhatsApp>> --> #shareWhatsapp\n",
      "<<Correo Electrónico>> --> #shareMail\n",
      "<<Copiar al portapapeles>> --> #shareClipboard\n",
      "<<48.797.875\n",
      "\t\t\t\t\t\t\n",
      "Habitantes>> --> /dyngs/INEbase/es/operacion.htm?c=Estadistica_C&cid=1254736177095&menu=ultiDatos&idp=1254735572981\n",
      "<<1,5\n",
      "\t\t\t\t\t\t\n",
      "IPC>> --> /dyngs/INEbase/es/operacion.htm?c=Estadistica_C&cid=1254736176802&menu=ultiDatos&idp=1254735976607\n",
      "<<3,1\n",
      "\t\t\t\t\t\t\n",
      "PIB>> --> /dyngs/INEbase/es/operacion.htm?c=Estadistica_C&cid=1254736164439&menu=ultiDatos&idp=1254735576581\n",
      "<<11,27\n",
      "\t\t\t\t\t\t\n",
      "Tasa de paro>> --> /dyngs/INEbase/es/operacion.htm?c=Estadistica_C&cid=1254736176918&menu=ultiDatos&idp=1254735976595\n",
      "<<58,90\n",
      "\t\t\t\t\t\t\n",
      "Tasa de actividad>> --> /dyngs/INEbase/es/operacion.htm?c=Estadistica_C&cid=1254736176918&menu=ultiDatos&idp=1254735976595\n",
      "<<Más información...>> --> /esc_es/\n",
      "<<Más información...>> --> /dyngs/MYP/es/index.htm?cid=1310\n",
      "<<Más información...>> --> /padrononline/es/index.htm\n",
      "<<Accede a la publicación>> --> /infografias/medioambiente/panel_ind_medioambiente.htm\n",
      "<<Seguir leyendo...>> --> /ods/publicacion_ods_2024.pdf\n",
      "<<Datos por temas>> --> /dyngs/INEbase/listaoperaciones.htm\n",
      "<<Agricultura y medio ambiente>> --> /dyngs/INEbase/es/categoria.htm?c=Estadistica_P&cid=1254735570567\n",
      "<<Ciencia y tecnología>> --> /dyngs/INEbase/es/categoria.htm?c=Estadistica_P&cid=1254735976151\n",
      "<<Demografía y población>> --> /dyngs/INEbase/es/categoria.htm?c=Estadistica_P&cid=1254734710984\n",
      "<<Economía>> --> /dyngs/INEbase/es/categoria.htm?c=Estadistica_P&cid=1254735570541\n",
      "<<Industria, energía y construcción>> --> /dyngs/INEbase/es/categoria.htm?c=Estadistica_P&cid=1254735570688\n",
      "<<Mercado laboral>> --> /dyngs/INEbase/es/categoria.htm?c=Estadistica_P&cid=1254735976594\n",
      "<<Servicios>> --> /dyngs/INEbase/es/categoria.htm?c=Estadistica_P&cid=1254735570703\n",
      "<<Nivel y condiciones de vida (IPC)>> --> /dyngs/INEbase/es/categoria.htm?c=Estadistica_P&cid=1254735976604\n",
      "<<Sociedad>> --> /dyngs/INEbase/es/categoria.htm?c=Estadistica_P&cid=1254735971047\n",
      "<<Estadísticas Experimentales>> --> /experimental/experimental.htm\n",
      "<<Noticias>> --> /dyngs/Prensa/notasPrensa.htm\n",
      "<<Índices de Producción Industrial (IPI)>> --> /dyngs/INEbase/es/operacion.htm?c=Estadistica_C&cid=1254736145519&menu=ultiDatos&idp=1254735576715\n",
      "<<Estadística de Movimientos Turísticos en Fronteras (FRONTUR)>> --> /dyngs/INEbase/es/operacion.htm?c=Estadistica_C&cid=1254736176996&menu=ultiDatos&idp=1254735576863\n",
      "<<Encuesta de Gasto Turístico (EGATUR)>> --> /dyngs/INEbase/es/operacion.htm?c=Estadistica_C&cid=1254736177002&menu=ultiDatos&idp=1254735576863\n",
      "<<Apartamentos>> --> /dyngs/INEbase/es/operacion.htm?c=Estadistica_C&cid=1254736176962&menu=ultiDatos&idp=1254735576863\n",
      "<<Campings>> --> /dyngs/INEbase/es/operacion.htm?c=Estadistica_C&cid=1254736176961&menu=ultiDatos&idp=1254735576863\n",
      "<<Turismo rural>> --> /dyngs/INEbase/es/operacion.htm?c=Estadistica_C&cid=1254736176963&menu=ultiDatos&idp=1254735576863\n",
      "<<Albergues>> --> /dyngs/INEbase/es/operacion.htm?c=Estadistica_C&cid=1254736176964&menu=ultiDatos&idp=1254735576863\n",
      "<<Contabilidad Nacional Anual de España: agregados por rama de actividad>> --> /dyngs/INEbase/es/operacion.htm?c=Estadistica_C&cid=1254736177056&menu=ultiDatos&idp=1254735576581\n",
      "<<CNA. Cuentas anuales no Financieras de los Sectores Institucionales>> --> /dyngs/INEbase/es/operacion.htm?c=Estadistica_C&cid=1254736177054&menu=ultiDatos&idp=1254735576581\n",
      "<<>> --> https://www.es-datalab.es/\n",
      "<<>> --> /dyngs/INE/index.htm?cid=401\n",
      "<<>> --> /infografias/ODS/infografias_ODS.htm\n",
      "<<Ver más noticias>> --> /dyngs/Prensa/notasPrensa.html\n",
      "<<>> --> /padrononline/es/index.htm\n",
      "<<>> --> /dyngs/INEbase/es/operacion.htm?c=Estadistica_C&cid=1254736176992&menu=ultiDatos&idp=1254735572981 \n",
      "<<>> --> /dyngs/COL/index.htm?cid=440\n",
      "<<Aplicaciones>> --> aplicaciones.htm\n",
      "<<Actualizar una renta con el IPC>> --> /calcula/\n",
      "<<Apellidos y nombres>> --> /widgets/nombApell/index.shtml\n",
      "<<Estadísticas territoriales>> --> /dynInfo/Infografia/Territoriales/index.html\n",
      "<<ODS. Indicadores Agenda 2030>> --> /dyngs/ODS/es/index.htm\n",
      "<<Flujos de personas en el mercado laboral>> --> https://public.tableau.com/views/EPAFlujosSankeyES_16252266850430/Dashboardccaa?:showVizHome=no&:embed=true#5\n",
      "<<¿Cuántos habitantes tiene?>> --> /widgets/nomen2/index.shtml\n",
      "<<Panel de indicadores de coyuntura>> --> /covid/indicadores.htm\n",
      "<<Gente en movimiento. UE>> --> /prodyser/eumove/\n",
      "<<¿Cuántos cumplen años?>> --> /explica/infografia_cumple.html\n",
      "<<Ucranianos en España>> --> /infografias/ucranianos/ucranianos.htm\n",
      "<<EPA. Paro, actividad y empleo>> --> /infografias/tasasepa/index.html?lang=es\n",
      "<<Demografía de Europa>> --> /prodyser/demografia_UE/\n",
      "<<Ver más aplicaciones>> --> aplicaciones.htm\n",
      "<<Ver video INE>> --> https://www.youtube.com/embed/L6lqbSoDmOE\n",
      "<<Portal divulgativo del INE. Te ayudamos con la estadística>> --> /explica/explica.htm\n",
      "<<>> --> /explica/explica_infografias.htm\n",
      "<<Revista científica>> --> /sjs/\n",
      "<<>> --> /ss/Satellite?L=es_ES&pagename=masINE%2FmasLayout&cid=1254736090719\n",
      "<<Revista de estadística y sociedad>> --> http://www.revistaindice.com\n",
      "<<Contacto>> --> /infoine/\n",
      "<<Mapa web>> --> /indiceweb.htm\n",
      "<<Aviso legal>> --> /dyngs/AYU/index.htm?cid=125\n",
      "<<Accesibilidad>> --> /dyngs/AYU/index.htm?cid=127\n",
      "<<Prensa>> --> /prensa/seccion_prensa.htm\n",
      "<<Clasificaciones y estándares>> --> /dyngs/MYP/es/index.htm?cid=1\n",
      "<<Nuevos proyectos>> --> /dyngs/MYP/es/index.htm?cid=10\n",
      "<<Ver +>> --> /dyngs/MYP/es/index.htm?cid=23\n",
      "<<El INE>> --> /dyngs/INE/es/index.htm?cid=498\n",
      "<<Transparencia>> --> /dyngs/INE/index.htm?cid=401\n",
      "<<Organización Estadística en España>> --> /dyngs/INE/es/index.htm?cid=581\n",
      "<<Calidad y Código de buenas prácticas>> --> /ss/Satellite?L=es_ES&c=Page&cid=1259943453642&p=1259943453642&pagename=MetodologiaYEstandares%2FINELayout\n",
      "<<Sistema Estadístico Europeo>> --> /dyngs/INE/es/index.htm?cid=542\n",
      "<<Ver +>> --> /dyngs/INE/es/index.htm?cid=496\n",
      "<<Formación y empleo>> --> /dyngs/FYE/index.htm?cid=132\n",
      "<<Prácticas universitarias>> --> /dyngs/FYE/index.htm?cid=133\n",
      "<<Becas>> --> /dyngs/FYE/index.htm?cid=134\n",
      "<<Oposiciones>> --> /dyngs/FYE/index.htm?cid=166\n",
      "<<Explica>> --> /explica/explica.htm\n",
      "<<Ver +>> --> /dyngs/FYE/index.htm?cid=132\n",
      "<<IPC en un clic>> --> /ss/Satellite?L=0&c=Page&cid=1254735893337&p=1254735893337&pagename=ProductosYServicios%2FPYSLayout\n",
      "<<Atención al público>> --> /ss/Satellite?c=Page&cid=1254735550343&pagename=ProductosYServicios%2FPYSLayout&L=0\n",
      "<<Publicaciones>> --> /ss/Satellite?L=es_ES&c=Page&cid=1254735110606&p=1254735110606&pagename=ProductosYServicios%2FPYSLayout\n",
      "<<Datos abiertos>> --> /ss/Satellite?L=es_ES&c=Page&cid=1259942408928&p=1259942408928&pagename=ProductosYServicios%2FPYSLayout\n",
      "<<Carta de servicios>> --> /ss/Satellite?L=es_ES&c=Page&cid=1259945091334&p=1259945091334&pagename=ProductosYServicios%2FPYSLayout\n",
      "<<Ver +>> --> /ss/Satellite?c=Page&cid=1254735550343&pagename=ProductosYServicios%2FPYSLayout&L=0\n",
      "<<X>> --> https://twitter.com/es_ine\n",
      "<<Youtube>> --> https://www.youtube.com/INEDifusion\n",
      "<<Instagram>> --> https://www.instagram.com/es_ine_/\n",
      "<<LinkedIn>> --> https://es.linkedin.com/company/ine-es\n",
      "<<INE. Instituto Nacional de Estadística>> --> /\n",
      "<<>> --> https://creativecommons.org/licenses/by/4.0/?ref=chooser-v1\n"
     ]
    }
   ],
   "source": [
    "import requests \n",
    "from bs4 import BeautifulSoup\n",
    "from pprint import pp\n",
    "\n",
    "url = 'https://ine.es/'\n",
    "r = requests.get(url)\n",
    "r.encoding = r.apparent_encoding  # Corregimos el encoding\n",
    "html = r.text\n",
    "soup = BeautifulSoup(html, 'html.parser')\n",
    "\n",
    "etiquetas = soup.find_all(\"a\")\n",
    "print(type(etiquetas[0]), etiquetas[0])\n",
    "print()\n",
    "for etiqueta in etiquetas:\n",
    "    print(f\"<<{etiqueta.text.strip()}>> --> {etiqueta.get('href', None)}\")"
   ]
  },
  {
   "cell_type": "markdown",
   "metadata": {},
   "source": [
    "Observar que el método BeautifulSoup() también admite como entrada un archivo html que esté descargado en el disco duro local."
   ]
  },
  {
   "cell_type": "code",
   "execution_count": 9,
   "metadata": {},
   "outputs": [
    {
     "name": "stdout",
     "output_type": "stream",
     "text": [
      "<<Navegar identificado>> --> /login_sso/\n",
      "<<>> --> https://www.ucm.es/\n",
      "<<Facultad de Informática>> --> https://informatica.ucm.es/\n",
      "<<Facultad>> --> /facultad\n",
      "<<Presentación>> --> /presentacion\n",
      "<<Bienvenida a la FdI>> --> /bienvenida\n",
      "<<Gobierno>> --> /gobierno\n",
      "<<Organización>> --> /organizacion\n",
      "<<Eventos>> --> /eventos\n",
      "<<+>> --> /facultad\n",
      "<<Titulaciones>> --> /estudiar\n",
      "<<Grado>> --> /grado\n",
      "<<Máster>> --> /master\n",
      "<<Doctorado>> --> /doctorado\n",
      "<<Títulos propios>> --> /titulos-propios\n",
      "<<+>> --> /estudiar\n",
      "<<Estudiantes>> --> /estudiantes\n",
      "<<Programacion docente>> --> /programacion-docente\n",
      "<<Prácticas Externas>> --> /practicas-de-formacion\n",
      "<<Ofertas de Empleo>> --> /ofertas-de-empleo\n",
      "<<Secretaría de Estudiantes>> --> /secretaria\n",
      "<<Movilidad>> --> /programas-de-movilidad\n",
      "<<+>> --> /estudiantes\n",
      "<<Servicios>> --> /asistencia\n",
      "<<Infraestructuras>> --> /infraestructuras\n",
      "<<Biblioteca>> --> http://biblioteca.ucm.es/fdi\n",
      "<<Campus Virtual>> --> https://cv.ucm.es/CampusVirtual/jsp/index.jsp\n",
      "<<Sede Electrónica>> --> https://e-administracion.ucm.es/\n",
      "<<+>> --> /asistencia\n",
      "<<Investigación>> --> /investigacion\n",
      "<<Cátedras extraordinarias>> --> /catedras-extraordinarias\n",
      "<<+>> --> /investigacion\n",
      "<<Sugerencias>> --> /buzon-de-sugerencias-y-quejas\n",
      "<<calendario de matriculación de la Facultad de Ciencias Económicas y Empresariales>> --> https://economicasyempresariales.ucm.es/matricula-del-curso-academico\n",
      "<<página de matrícula para el curso 2023-24>> --> https://informatica.ucm.es/acceso-y-matriculacion-curso-2023-2024\n",
      "<<3 / 2>> --> https://informatica.ucm.es/grado-en-ingenieria-de-datos-e-inteligencia-artificial\n",
      "<<2 / 5>> --> https://informatica.ucm.es/futuros-estudiantes-1#gic\n",
      "<<4 / 5>> --> https://informatica.ucm.es/futuros-estudiantes-1#gii\n",
      "<<5 / 5>> --> https://informatica.ucm.es/futuros-estudiantes-1#gis\n",
      "<<1 / 5>> --> https://informatica.ucm.es/futuros-estudiantes-1#gdv\n",
      "<<❮>> --> None\n",
      "<<❯>> --> None\n",
      "<<Por qué estudiar en la Facultad de Informática>> --> https://informatica.ucm.es/futuros-estudiantes-1\n",
      "<<Instalaciones>> --> https://informatica.ucm.es/infraestructuras\n",
      "<<Delegación y asociaciones>> --> https://informatica.ucm.es/delegacion-y-asociaciones\n",
      "<<Museo de la Informática>> --> http://www.fdi.ucm.es/migs/\n",
      "<<Revista Sci·Fdi>> --> http://webs.ucm.es/BUCM/revcul//sci-fdi/\n",
      "<<Seminario de Historia de la Informática>> --> https://informatica.ucm.es/seminario-de-historia\n",
      "<<eSTAND FDI>> --> https://informatica.ucm.es/estand-fdi\n",
      "<<Ingeniería en Informática (con grupo bilingüe)>> --> https://informatica.ucm.es/estudios/grado-ingenieriainformatica\n",
      "<<Ingeniería de Datos e Inteligencia Artificial>> --> https://informatica.ucm.es/grado-en-ingenieria-de-datos-e-inteligencia-artificial\n",
      "<<Ingeniería del Software>> --> https://informatica.ucm.es/estudios/grado-ingenieriadelsoftware\n",
      "<<Ingeniería de Computadores>> --> https://informatica.ucm.es/estudios/grado-ingenieriadecomputadores\n",
      "<<Desarrollo de Videojuegos>> --> https://informatica.ucm.es/estudios/grado-videojuegos\n",
      "<<Ingeniería Informática y Matemáticas>> --> https://informatica.ucm.es/estudios/grado-informaticaymatematicas\n",
      "<<Informática y Administración y Dirección de empresas>> --> https://informatica.ucm.es/estudios/grado-adeinginformatica\n",
      "<<Máster en Ingeniería Informática>> --> https://informatica.ucm.es/estudios/master-ingenieriainformatica\n",
      "<<Máster en Internet de las Cosas>> --> https://informatica.ucm.es/estudios/master-internetcosas\n",
      "<<Máster en Ingeniería de Sistemas y de Control (UCM/UNED)>> --> https://informatica.ucm.es/estudios/master-ingenieriadesistemas\n",
      "<<Máster en métodos Formales en Ingeniería Informática (UCM/UAM/UPM)>> --> https://informatica.ucm.es/estudios/master-mfingenieriainf\n",
      "<<Desarrollo de Videojuegos>> --> https://informatica.ucm.es/titulos-propios#desarrolloJuegos\n",
      "<<Diseño y Desarrollo de Videojuegos>> --> https://informatica.ucm.es/titulos-propios#dise%C3%B1oJuegos\n",
      "<<Arte digital para Videojuegos>> --> https://informatica.ucm.es/titulos-propios#arteDigital\n",
      "<<Doctorado>> --> https://informatica.ucm.es/doctorado\n",
      "<<I Premios Emprendimiento>> --> https://informatica.ucm.es/i-premios-emprendimiento\n",
      "<<Grupos de investigación>> --> https://informatica.ucm.es/investigacion\n",
      "<<Instituto de Tecnología del Conocimiento>> --> https://www.ucm.es/itc\n",
      "<<Cátedras extraordinarias>> --> https://informatica.ucm.es/catedras-extraordinarias\n",
      "<<Proyectos>> --> https://informatica.ucm.es/proyectos-de-investigacion\n",
      "<<>> --> https://www.youtube.com/user/finformaticaucm\n",
      "<<>> --> https://twitter.com/informaticaucm\n",
      "<<>> --> https://www.linkedin.com/in/facultad-de-informática-9080a29b/\n",
      "<<>> --> https://www.instagram.com/informaticaucm/\n",
      "<<Sede Electrónica>> --> https://e-administracion.ucm.es/\n",
      "<<Fundación General>> --> http://www.ucm.es/fundacion\n",
      "<<Servicios UCM en línea>> --> http://www.ucm.es/ucm-en-linea\n",
      "<<Información a Profesores>> --> https://informatica.ucm.es/profesores\n",
      "<<Laboratorios FDI>> --> https://informatica.ucm.es/laboratorios-fdi\n",
      "<<Portal FDI>> --> https://www.fdi.ucm.es/Account/\n",
      "<<Sugerencias y Quejas>> --> http://Informatica.ucm.es/buzon-de-sugerencias-y-quejas\n",
      "<<>> --> https://www.ucm.es/hrs4r\n",
      "<<>> --> http://www.campusmoncloa.es/\n",
      "<<>> --> https://www.una-europa.eu/\n",
      "<<Localización y contacto>> --> /contacto\n",
      "<<Aviso Legal>> --> /aviso-legal\n",
      "<<Protección de datos>> --> https://www.ucm.es/dpd\n",
      "<<RSS>> --> https://informatica.ucm.es/rss/rss.php?weid=26\n"
     ]
    }
   ],
   "source": [
    "from bs4 import BeautifulSoup\n",
    "\n",
    "with open(\"Facultad de Informática.html\", 'r', encoding='utf8') as html:\n",
    "    soup = BeautifulSoup(html, 'html.parser')\n",
    "    etiquetas = soup.find_all(\"a\")\n",
    "    for etiqueta in etiquetas:\n",
    "        print(f\"<<{etiqueta.text.strip()}>> --> {etiqueta.get('href', None)}\")"
   ]
  },
  {
   "cell_type": "markdown",
   "metadata": {},
   "source": [
    "El método BeautifulSoup() genera un objeto de tipo BeautifulSoup que tiene un conjunto de métodos que se pueden utilizar para localizar partes específicas de un documento html.\n",
    "\n",
    "En el siguiente ejemplo se van a extraer varías partes de una etiqueta."
   ]
  },
  {
   "cell_type": "code",
   "execution_count": 10,
   "metadata": {},
   "outputs": [
    {
     "name": "stdout",
     "output_type": "stream",
     "text": [
      "Etiqueta:   a\n",
      "URL:        /\n",
      "Contenidos: [<img alt=\"SIGLAS Instituto Nacional de Estadística\" src=\"/menus/_b/img/LogoINE.svg\"/>, '\\n']\n",
      "Atributos : {'href': '/'}\n",
      "\n",
      "Etiqueta:   a\n",
      "URL:        /en/index.htm\n",
      "Contenidos: ['English']\n",
      "Atributos : {'href': '/en/index.htm', 'lang': 'en', 'title': 'English Page', 'role': 'button'}\n",
      "\n",
      "Etiqueta:   a\n",
      "URL:        /indiceweb.htm\n",
      "Contenidos: ['\\n', <i class=\"ii ii-bars\"></i>, '\\n']\n",
      "Atributos : {'href': '/indiceweb.htm', 'id': 'sidebarCollapse', 'class': ['btn', 'btn-info', 'no-events'], 'aria-label': 'Mostrar/ocultar el menú principal de navegación', 'title': 'Menú de navegación'}\n",
      "\n",
      "Etiqueta:   a\n",
      "URL:        /dyngs/CEL/index.htm?cid=41\n",
      "Contenidos: ['Censo Electoral']\n",
      "Atributos : {'class': ['tit'], 'href': '/dyngs/CEL/index.htm?cid=41', 'role': 'button', 'aria-haspopup': 'true', 'aria-expanded': 'false', 'aria-label': 'Censo Electoral', 'target': '_blank'}\n",
      "\n",
      "Etiqueta:   a\n",
      "URL:        https://sede.ine.gob.es/ss/Satellite?c=Page&cid=1254734719723&pagename=SedeElectronica%2FSELayout&lang=es_ES\n",
      "Contenidos: ['Sede electrónica']\n",
      "Atributos : {'class': ['tit'], 'href': 'https://sede.ine.gob.es/ss/Satellite?c=Page&cid=1254734719723&pagename=SedeElectronica%2FSELayout&lang=es_ES', 'role': 'button', 'aria-haspopup': 'true', 'aria-expanded': 'false', 'aria-label': 'Sede electrónica', 'target': '_blank', 'rel': ['noopener']}\n",
      "\n",
      "Etiqueta:   a\n",
      "URL:        javascript:void(0)\n",
      "Contenidos: ['\\n', <span class=\"tit\">Compartir</span>, '\\n', <i class=\"ii ii-share\"></i>, '\\n']\n",
      "Atributos : {'id': 'shareBtn', 'data-toggle': 'drop-down', 'onclick': \"this.classList.toggle('active')\", 'href': 'javascript:void(0)', 'role': 'button', 'aria-haspopup': 'true', 'aria-expanded': 'false', 'aria-label': 'Compartir'}\n",
      "\n",
      "Etiqueta:   a\n",
      "URL:        #shareTwitter\n",
      "Contenidos: ['\\n', <span class=\"tit\">X</span>, '\\n', <i class=\"ii ii-twitter-x\"></i>, '\\n']\n",
      "Atributos : {'id': 'shareTwitter', 'data-social-text': 'INE. Instituto Nacional de Estadística', 'data-social-via': 'es_ine', 'class': [], 'href': '#shareTwitter', 'target': 'SocialShared', 'title': 'Abre ventana nueva X'}\n",
      "\n",
      "Etiqueta:   a\n",
      "URL:        #shareFacebook\n",
      "Contenidos: ['\\n', <span class=\"tit\">Facebook</span>, '\\n', <i class=\"ii ii-facebook\"></i>, '\\n']\n",
      "Atributos : {'id': 'shareFacebook', 'data-social-text': 'INE. Instituto Nacional de Estadística', 'href': '#shareFacebook', 'target': 'SocialShared', 'title': 'Abre ventana nueva Facebook'}\n",
      "\n",
      "Etiqueta:   a\n",
      "URL:        #shareLinkedin\n",
      "Contenidos: ['\\n', <span class=\"tit\">Linkedin</span>, '\\n', <i class=\"ii ii-linkedin\"></i>, '\\n']\n",
      "Atributos : {'id': 'shareLinkedin', 'data-social-text': 'INE. Instituto Nacional de Estadística', 'href': '#shareLinkedin', 'target': 'SocialShared', 'title': 'Abre ventana nueva Linkedin'}\n",
      "\n",
      "Etiqueta:   a\n",
      "URL:        #shareWhatsapp\n",
      "Contenidos: ['\\n', <span class=\"tit\">WhatsApp</span>, '\\n', <i class=\"ii ii-whatsapp\"></i>, '\\n']\n",
      "Atributos : {'id': 'shareWhatsapp', 'data-social-text': 'INE. Instituto Nacional de Estadística', 'href': '#shareWhatsapp', 'target': 'SocialShared', 'title': 'Abre ventana nueva WhatsApp'}\n",
      "\n"
     ]
    }
   ],
   "source": [
    "import requests \n",
    "from bs4 import BeautifulSoup\n",
    "\n",
    "url = 'https://ine.es/'\n",
    "r = requests.get(url)\n",
    "r.encoding = r.apparent_encoding  # Corregimos el encoding\n",
    "html = r.text\n",
    "soup = BeautifulSoup(html, 'html.parser')\n",
    "# Recupera todos los enlaces\n",
    "etiquetas = soup.find_all(\"a\")\n",
    "\n",
    "# Accedemos a las partes de los nodos de etiqueta <a>\n",
    "for etiqueta in etiquetas[:10]:\n",
    "    print(\"Etiqueta:  \", etiqueta.name)\n",
    "    print(\"URL:       \", etiqueta.get(\"href\",None))\n",
    "    print(\"Contenidos:\", str(etiqueta.contents))\n",
    "    print(\"Atributos :\", etiqueta.attrs)\n",
    "    print()"
   ]
  },
  {
   "cell_type": "markdown",
   "metadata": {},
   "source": [
    "### Imprimir un documento html\n",
    "\n",
    "Existen varios métodos para imprimir un documento:\n",
    "\n",
    "* La función __str()__ muestra el documento como una cadena, pero no elimina nodos que solo tengan un espacio en blanco ni añade espacios en blanco entre los nodos.\n",
    "\n",
    "* La función __prettify()__ añade nuevas líneas y espacios para mostrar la estructura del documento html, y elimina nodos que solo contengan espacios en blanco."
   ]
  },
  {
   "cell_type": "code",
   "execution_count": 11,
   "metadata": {},
   "outputs": [
    {
     "name": "stdout",
     "output_type": "stream",
     "text": [
      "<html><h1>Cabecera</h1><p>Text</p></html>\n",
      "\n",
      "<html>\n",
      " <h1>\n",
      "  Cabecera\n",
      " </h1>\n",
      " <p>\n",
      "  Text\n",
      " </p>\n",
      "</html>\n",
      "\n"
     ]
    }
   ],
   "source": [
    "from bs4 import BeautifulSoup\n",
    "\n",
    "doc = \"<html><h1>Cabecera</h1><p>Text\"\n",
    "soup = BeautifulSoup(doc, 'html.parser')\n",
    "\n",
    "print(str(soup))\n",
    "print()\n",
    "\n",
    "print(soup.prettify())"
   ]
  },
  {
   "cell_type": "markdown",
   "metadata": {},
   "source": [
    "### Analizar un documento html\n",
    "\n",
    "BeautifulSoup toma un documento html y lo procesa a una estructura de datos en forma de árbol. Si el documento está bien formado el árbol se parece al documento original pero si no lo está entonces usa heurísticas para conseguir una estructura razonable. \n",
    "\n",
    "En este sentido se usa el siguiente conocimiento:\n",
    "\n",
    "* Las tablas y listas de etiquetas tienen un orden de anidamiento natural. Por ejemplo &lt;TD> está en el interior de &lt;TR>.\n",
    "* Los contenidos de una etiqueta &lt;SCRIPT> no deben ser parseados.\n",
    "* Una etiqueta &lt;META> puede especificar una codificación del documento."
   ]
  },
  {
   "cell_type": "markdown",
   "metadata": {},
   "source": [
    "El objeto Beautifulsoup representa un árbol de procesamiento que contiene dos tipos de objetos:\n",
    "\n",
    "* Objetos de tipo `Tag` que se corresponden con etiquetas o elementos del documento HTML\n",
    "* Objetos de tipo `NavigableString` que se corresponden con cadenas de texto. Existen subclases de NavigableString que corresponden a construcciones especiales XML tales como CData, Comment, Declaration, and ProcessingInstruction.\n",
    "\n",
    "Los elementos representados por los objetos de tipo `Tag` pueden tener asociados atributos y se puede acceder a ellos como si fuera un diccionario. Sin embargo los elementos representados por los objetos `NavigableString` no tienen asociados atributos.\n",
    "\n",
    "Considerar el siguiente ejemplo para las explicaciones siguientes:"
   ]
  },
  {
   "cell_type": "code",
   "execution_count": 12,
   "metadata": {},
   "outputs": [],
   "source": [
    "prueba = '''\n",
    "<html>\n",
    "  <head>\n",
    "    <title>\n",
    "    Título de la página\n",
    "    </title>\n",
    "    </head>\n",
    "  <body>\n",
    "    <p id=\"primerparrafo\" align=\"center\">\n",
    "      Esto es un parrafo\n",
    "      <b>\n",
    "        one\n",
    "      </b>\n",
    "      .\n",
    "    </p>\n",
    "    <p id=\"segundoparrafo\" align=\"blah\">\n",
    "      Esto es un parrafo\n",
    "      <b>\n",
    "        two\n",
    "      </b>\n",
    "      .\n",
    "    </p>\n",
    "  </body>\n",
    "</html>\n",
    "'''"
   ]
  },
  {
   "cell_type": "markdown",
   "metadata": {},
   "source": [
    "En el siguiente ejemplo se recuperan las etiquetas “p” y se accede a sus atributos como si fuera un diccionario."
   ]
  },
  {
   "cell_type": "code",
   "execution_count": 13,
   "metadata": {},
   "outputs": [
    {
     "name": "stdout",
     "output_type": "stream",
     "text": [
      "primerparrafo\n",
      "segundoparrafo\n"
     ]
    }
   ],
   "source": [
    "from bs4 import BeautifulSoup\n",
    "\n",
    "soup = BeautifulSoup(prueba, 'html.parser')\n",
    "parrafos = soup.find_all(\"p\")\n",
    "for p in parrafos:\n",
    "    print(p['id'])"
   ]
  },
  {
   "cell_type": "markdown",
   "metadata": {},
   "source": [
    "Los valores `Tag` pueden ser pasados a la función str() para mostrar las etiquetas que representan. Además los valores tag tienen un atributo llamado `attrs` que muestra todos los atributos HTML que tiene el elemento en forma de un diccionario.\n",
    "\n",
    "Los objetos `Tag y `NavigableString` disponen de un conjunto de atributos y métodos:\n",
    "\n",
    "* __parent__: Permite acceder al objeto que representa la etiqueta padre del objeto que representa a  una etiqueta. Permite navegar por el árbol de procesamiento.\n"
   ]
  },
  {
   "cell_type": "code",
   "execution_count": 14,
   "metadata": {},
   "outputs": [
    {
     "data": {
      "text/plain": [
       "'html'"
      ]
     },
     "execution_count": 14,
     "metadata": {},
     "output_type": "execute_result"
    }
   ],
   "source": [
    "soup.head.parent.name"
   ]
  },
  {
   "cell_type": "markdown",
   "metadata": {},
   "source": [
    "* __contents__: Representa una lista ordenada de los objetos `Tag` y `NavigableString` contenidos dentro de un elemento. Solo el objeto que representa al árbol y los objetos tags poseen este atributo. Los objetos `NavigableString` no tienen el atributo `contents`, pues sólo tienen cadenas.\n"
   ]
  },
  {
   "cell_type": "code",
   "execution_count": 15,
   "metadata": {},
   "outputs": [
    {
     "name": "stdout",
     "output_type": "stream",
     "text": [
      "* <class 'bs4.element.NavigableString'> -- \n",
      "      Esto es un parrafo\n",
      "      \n",
      "* <class 'bs4.element.Tag'> -- <b>\n",
      "        one\n",
      "      </b>\n",
      "* <class 'bs4.element.NavigableString'> -- \n",
      "      .\n",
      "    \n"
     ]
    }
   ],
   "source": [
    "etiquetasp = soup.p  # Primer párrafo\n",
    "for elem in etiquetasp.contents:\n",
    "    print(f\"* {type(elem)} -- {elem}\")"
   ]
  },
  {
   "cell_type": "code",
   "execution_count": 16,
   "metadata": {},
   "outputs": [
    {
     "data": {
      "text/plain": [
       "['\\n        one\\n      ']"
      ]
     },
     "execution_count": 16,
     "metadata": {},
     "output_type": "execute_result"
    }
   ],
   "source": [
    "etiquetasp.contents[1].contents"
   ]
  },
  {
   "cell_type": "code",
   "execution_count": 17,
   "metadata": {},
   "outputs": [],
   "source": [
    "# etiquetasp.contents[0].contents  # AttributeError: 'NavigableString' object has no attribute 'contents'"
   ]
  },
  {
   "cell_type": "markdown",
   "metadata": {},
   "source": [
    "* __string__: Si un tag solo tiene un nodo hijo y se trata de una cadena, entonces se puede acceder al mismo mediante `tag.string` o mediante `tag.contents[0]`. Cuando existen varios hijos, y se trata de acceder al atributo string, devuelve como resultado el valor None. Los objetos `NavigableString` no tienen este atributo."
   ]
  },
  {
   "cell_type": "code",
   "execution_count": 18,
   "metadata": {},
   "outputs": [
    {
     "data": {
      "text/plain": [
       "'\\n        one\\n      '"
      ]
     },
     "execution_count": 18,
     "metadata": {},
     "output_type": "execute_result"
    }
   ],
   "source": [
    "soup.b.string"
   ]
  },
  {
   "cell_type": "code",
   "execution_count": 19,
   "metadata": {},
   "outputs": [
    {
     "data": {
      "text/plain": [
       "'\\n        one\\n      '"
      ]
     },
     "execution_count": 19,
     "metadata": {},
     "output_type": "execute_result"
    }
   ],
   "source": [
    "soup.b.contents[0]"
   ]
  },
  {
   "cell_type": "code",
   "execution_count": 20,
   "metadata": {},
   "outputs": [
    {
     "data": {
      "text/plain": [
       "True"
      ]
     },
     "execution_count": 20,
     "metadata": {},
     "output_type": "execute_result"
    }
   ],
   "source": [
    "soup.p.string is None"
   ]
  },
  {
   "cell_type": "code",
   "execution_count": 21,
   "metadata": {},
   "outputs": [
    {
     "data": {
      "text/plain": [
       "True"
      ]
     },
     "execution_count": 21,
     "metadata": {},
     "output_type": "execute_result"
    }
   ],
   "source": [
    "soup.head.string is None"
   ]
  },
  {
   "cell_type": "markdown",
   "metadata": {},
   "source": [
    "* __next_sibling__ y __previous_sibling__: Permite recuperar el objeto anterior o posterior que se encuentra al mismo nivel del objeto considerado. En el ejemplo anterior la etiqueta `<body>` está al mismo nivel que la etiqueta `<head>` pero esta última aparece antes.\n"
   ]
  },
  {
   "cell_type": "code",
   "execution_count": 22,
   "metadata": {},
   "outputs": [
    {
     "data": {
      "text/plain": [
       "<body>\n",
       "<p align=\"center\" id=\"primerparrafo\">\n",
       "      Esto es un parrafo\n",
       "      <b>\n",
       "        one\n",
       "      </b>\n",
       "      .\n",
       "    </p>\n",
       "<p align=\"blah\" id=\"segundoparrafo\">\n",
       "      Esto es un parrafo\n",
       "      <b>\n",
       "        two\n",
       "      </b>\n",
       "      .\n",
       "    </p>\n",
       "</body>"
      ]
     },
     "execution_count": 22,
     "metadata": {},
     "output_type": "execute_result"
    }
   ],
   "source": [
    "soup.head.next_sibling.next_sibling  # head.next_sibling es un nodo de texto con un salto de línea"
   ]
  },
  {
   "cell_type": "code",
   "execution_count": 23,
   "metadata": {},
   "outputs": [
    {
     "data": {
      "text/plain": [
       "'\\n'"
      ]
     },
     "execution_count": 23,
     "metadata": {},
     "output_type": "execute_result"
    }
   ],
   "source": [
    "soup.head.previous_sibling  # Nodo de texto con salto de línea"
   ]
  },
  {
   "cell_type": "code",
   "execution_count": 24,
   "metadata": {},
   "outputs": [
    {
     "data": {
      "text/plain": [
       "True"
      ]
     },
     "execution_count": 24,
     "metadata": {},
     "output_type": "execute_result"
    }
   ],
   "source": [
    "soup.head.previous_sibling.previous_sibling is None"
   ]
  },
  {
   "cell_type": "markdown",
   "metadata": {},
   "source": [
    "* __next__ y __previous__: Permiten navegar en el árbol de procesamiento sobre los objetos en el orden en que fueron procesados en vez del orden dado por el árbol. En el ejemplo el objeto next al objeto que representa a &lt;HEAD> es el objeto que representa a &lt;TITLE> y no el objeto que representa a &lt;BODY>."
   ]
  },
  {
   "cell_type": "code",
   "execution_count": 25,
   "metadata": {},
   "outputs": [
    {
     "data": {
      "text/plain": [
       "<title>\n",
       "    Título de la página\n",
       "    </title>"
      ]
     },
     "execution_count": 25,
     "metadata": {},
     "output_type": "execute_result"
    }
   ],
   "source": [
    "soup.head.next.next"
   ]
  },
  {
   "cell_type": "code",
   "execution_count": 26,
   "metadata": {},
   "outputs": [
    {
     "data": {
      "text/plain": [
       "'title'"
      ]
     },
     "execution_count": 26,
     "metadata": {},
     "output_type": "execute_result"
    }
   ],
   "source": [
    "soup.head.next.next.name"
   ]
  },
  {
   "cell_type": "code",
   "execution_count": 27,
   "metadata": {},
   "outputs": [
    {
     "data": {
      "text/plain": [
       "'html'"
      ]
     },
     "execution_count": 27,
     "metadata": {},
     "output_type": "execute_result"
    }
   ],
   "source": [
    "soup.head.previous.previous.name"
   ]
  },
  {
   "cell_type": "markdown",
   "metadata": {},
   "source": [
    "Observaciones:\n",
    "\n",
    "* Se puede iterar sobre el atributo contents de un objeto tag y tratarlo como una lista, y de forma similar se puede obtener el número de hijos mediante len(tag) o len(tag.contents)."
   ]
  },
  {
   "cell_type": "code",
   "execution_count": 28,
   "metadata": {},
   "outputs": [
    {
     "name": "stdout",
     "output_type": "stream",
     "text": [
      "0 --> <class 'bs4.element.NavigableString'>\n",
      "<<\n",
      ">>\n",
      "\n",
      "1 --> <class 'bs4.element.Tag'>\n",
      "<<<p align=\"center\" id=\"primerparrafo\">\n",
      "      Esto es un parrafo\n",
      "      <b>\n",
      "        one\n",
      "      </b>\n",
      "      .\n",
      "    </p>>>\n",
      "\n",
      "2 --> <class 'bs4.element.NavigableString'>\n",
      "<<\n",
      ">>\n",
      "\n",
      "3 --> <class 'bs4.element.Tag'>\n",
      "<<<p align=\"blah\" id=\"segundoparrafo\">\n",
      "      Esto es un parrafo\n",
      "      <b>\n",
      "        two\n",
      "      </b>\n",
      "      .\n",
      "    </p>>>\n",
      "\n",
      "4 --> <class 'bs4.element.NavigableString'>\n",
      "<<\n",
      ">>\n",
      "\n"
     ]
    }
   ],
   "source": [
    "for pos, elem in enumerate(soup.body):\n",
    "    print(f\"{pos} --> {type(elem)}\")\n",
    "    print(f\"<<{elem}>>\")\n",
    "    print()"
   ]
  },
  {
   "cell_type": "code",
   "execution_count": 29,
   "metadata": {},
   "outputs": [
    {
     "data": {
      "text/plain": [
       "5"
      ]
     },
     "execution_count": 29,
     "metadata": {},
     "output_type": "execute_result"
    }
   ],
   "source": [
    "len(soup.body)"
   ]
  },
  {
   "cell_type": "code",
   "execution_count": 30,
   "metadata": {},
   "outputs": [
    {
     "data": {
      "text/plain": [
       "5"
      ]
     },
     "execution_count": 30,
     "metadata": {},
     "output_type": "execute_result"
    }
   ],
   "source": [
    "len(soup.body.contents)"
   ]
  },
  {
   "cell_type": "markdown",
   "metadata": {},
   "source": [
    "* Se puede usar los nombres de un objeto tag como si fueran atributos del árbol de procesamiento o de un objeto tag. Siempre que se usa de esta forma, devuelve el primer nodo hijo cuyo nombre sea el considerado o bien retorna None si no existen hijos con ese nombre. En el ejemplo anterior para acceder a la etiqueta `<title> se puede ir a partir de la etiqueta `<head>` o bien directamente.\n"
   ]
  },
  {
   "cell_type": "code",
   "execution_count": 31,
   "metadata": {},
   "outputs": [
    {
     "data": {
      "text/plain": [
       "<title>\n",
       "    Título de la página\n",
       "    </title>"
      ]
     },
     "execution_count": 31,
     "metadata": {},
     "output_type": "execute_result"
    }
   ],
   "source": [
    "soup.head.title"
   ]
  },
  {
   "cell_type": "code",
   "execution_count": 32,
   "metadata": {},
   "outputs": [
    {
     "data": {
      "text/plain": [
       "<title>\n",
       "    Título de la página\n",
       "    </title>"
      ]
     },
     "execution_count": 32,
     "metadata": {},
     "output_type": "execute_result"
    }
   ],
   "source": [
    "soup.title"
   ]
  },
  {
   "cell_type": "code",
   "execution_count": 33,
   "metadata": {},
   "outputs": [],
   "source": [
    "soup.img  # Si no existe, devuelve None"
   ]
  },
  {
   "cell_type": "markdown",
   "metadata": {},
   "source": [
    "* Ahora se van a considerar los métodos que permiten buscar en el árbol de procesamiento: find_all y find.\n",
    "* Solo se encuentran disponibles para el objeto que representa el árbol de procesamiento y en los objetos de tipo `Tag` pero no en los objetos de tipo `NavigableString`\n",
    "\n",
    "El método find_all busca todos los objetos tag y NavigableString  que coinciden con un criterio dado desde un punto dado. Sus principales argumentos son:\n",
    "\n",
    "    find_all(name, attrs, recursive, text, limit)\n",
    "\n",
    "donde:\n",
    "               \n",
    "* Un nombre que restringe el conjunto de búsqueda por el nombre de las etiquetas.\n",
    "* Pares atributo-valor que restringen el conjunto de búsqueda por los valores que toman los atributos de las etiquetas.\n",
    "* El argumento “text” permite buscar objetos NavigableString , y puede tomar como valores una cadena, una expresión regular, una lista o diccionario, True o None o bien una expresión booleana. Cuando se usa este argumento, las restricciones sobre nombre o atributo no se tienen en cuenta.\n",
    "* El argumento “recursive” que puede tomar los valores True o False que indica si busca por debajo del árbol o bien por los hijos inmediatos del árbol. Por defecto es True.\n",
    "* El argumento limit permite parar la búsqueda cuando se han conseguido un número de coincidencias dado. Por defecto no tienen límite.\n",
    "\n",
    "\n"
   ]
  },
  {
   "cell_type": "markdown",
   "metadata": {},
   "source": [
    "Algunos ejemplos de restricción por nombre:\n",
    "\n",
    "* Argumento con el nombre de una etiqueta."
   ]
  },
  {
   "cell_type": "code",
   "execution_count": 34,
   "metadata": {},
   "outputs": [
    {
     "data": {
      "text/plain": [
       "[<b>\n",
       "         one\n",
       "       </b>,\n",
       " <b>\n",
       "         two\n",
       "       </b>]"
      ]
     },
     "execution_count": 34,
     "metadata": {},
     "output_type": "execute_result"
    }
   ],
   "source": [
    "soup.find_all('b')  # Elementos de etiqueta <b>"
   ]
  },
  {
   "cell_type": "markdown",
   "metadata": {},
   "source": [
    "* Argumento con una expresión regular"
   ]
  },
  {
   "cell_type": "code",
   "execution_count": 35,
   "metadata": {},
   "outputs": [
    {
     "name": "stdout",
     "output_type": "stream",
     "text": [
      "body\n",
      "b\n",
      "b\n"
     ]
    }
   ],
   "source": [
    "import re\n",
    "\n",
    "etiquetasconb = soup.find_all(re.compile('^b'))  # Elementos de etiqueta <b*>\n",
    "for tag in etiquetasconb:\n",
    "    print(tag.name)"
   ]
  },
  {
   "cell_type": "markdown",
   "metadata": {},
   "source": [
    "* Argumento con una lista o diccionario."
   ]
  },
  {
   "cell_type": "code",
   "execution_count": 36,
   "metadata": {},
   "outputs": [
    {
     "data": {
      "text/plain": [
       "[<title>\n",
       "     Título de la página\n",
       "     </title>,\n",
       " <p align=\"center\" id=\"primerparrafo\">\n",
       "       Esto es un parrafo\n",
       "       <b>\n",
       "         one\n",
       "       </b>\n",
       "       .\n",
       "     </p>,\n",
       " <p align=\"blah\" id=\"segundoparrafo\">\n",
       "       Esto es un parrafo\n",
       "       <b>\n",
       "         two\n",
       "       </b>\n",
       "       .\n",
       "     </p>]"
      ]
     },
     "execution_count": 36,
     "metadata": {},
     "output_type": "execute_result"
    }
   ],
   "source": [
    "soup.find_all(['title', 'p'])  # Elementos <title> o <p>"
   ]
  },
  {
   "cell_type": "markdown",
   "metadata": {},
   "source": [
    "* Argumento con una expresión que evalúa a cierto o falso."
   ]
  },
  {
   "cell_type": "code",
   "execution_count": 37,
   "metadata": {},
   "outputs": [
    {
     "data": {
      "text/plain": [
       "[<p align=\"center\" id=\"primerparrafo\">\n",
       "       Esto es un parrafo\n",
       "       <b>\n",
       "         one\n",
       "       </b>\n",
       "       .\n",
       "     </p>,\n",
       " <p align=\"blah\" id=\"segundoparrafo\">\n",
       "       Esto es un parrafo\n",
       "       <b>\n",
       "         two\n",
       "       </b>\n",
       "       .\n",
       "     </p>]"
      ]
     },
     "execution_count": 37,
     "metadata": {},
     "output_type": "execute_result"
    }
   ],
   "source": [
    "soup.find_all(lambda tag: len(tag.attrs) == 2)  # Elementos con dos atributos"
   ]
  },
  {
   "cell_type": "code",
   "execution_count": 38,
   "metadata": {},
   "outputs": [
    {
     "data": {
      "text/plain": [
       "[<b>\n",
       "         one\n",
       "       </b>,\n",
       " <b>\n",
       "         two\n",
       "       </b>]"
      ]
     },
     "execution_count": 38,
     "metadata": {},
     "output_type": "execute_result"
    }
   ],
   "source": [
    "soup.find_all(lambda tag: len(tag.name)==1 and not tag.attrs)  # Elementos cuyo nombre es una única letra y no tienen atributos"
   ]
  },
  {
   "cell_type": "markdown",
   "metadata": {},
   "source": [
    "Algunos ejemplos de restricción por atributo:\n",
    "\n",
    "* Argumento que impone una condición al valor que toma un atributo."
   ]
  },
  {
   "cell_type": "code",
   "execution_count": 39,
   "metadata": {},
   "outputs": [
    {
     "data": {
      "text/plain": [
       "[<p align=\"center\" id=\"primerparrafo\">\n",
       "       Esto es un parrafo\n",
       "       <b>\n",
       "         one\n",
       "       </b>\n",
       "       .\n",
       "     </p>]"
      ]
     },
     "execution_count": 39,
     "metadata": {},
     "output_type": "execute_result"
    }
   ],
   "source": [
    "soup.find_all(align=\"center\")  # Elementos con el atributo align=\"center\""
   ]
  },
  {
   "cell_type": "markdown",
   "metadata": {},
   "source": [
    "* Argumento que impone una condición en forma de expresión regular al valor que toma un atributo."
   ]
  },
  {
   "cell_type": "code",
   "execution_count": 40,
   "metadata": {},
   "outputs": [
    {
     "data": {
      "text/plain": [
       "[<p align=\"center\" id=\"primerparrafo\">\n",
       "       Esto es un parrafo\n",
       "       <b>\n",
       "         one\n",
       "       </b>\n",
       "       .\n",
       "     </p>,\n",
       " <p align=\"blah\" id=\"segundoparrafo\">\n",
       "       Esto es un parrafo\n",
       "       <b>\n",
       "         two\n",
       "       </b>\n",
       "       .\n",
       "     </p>]"
      ]
     },
     "execution_count": 40,
     "metadata": {},
     "output_type": "execute_result"
    }
   ],
   "source": [
    "soup.find_all(id=re.compile(\"afo$\"))  # Elementos con el id terminado en \"parra\""
   ]
  },
  {
   "cell_type": "code",
   "execution_count": 41,
   "metadata": {},
   "outputs": [
    {
     "data": {
      "text/plain": [
       "[<p align=\"center\" id=\"primerparrafo\">\n",
       "       Esto es un parrafo\n",
       "       <b>\n",
       "         one\n",
       "       </b>\n",
       "       .\n",
       "     </p>]"
      ]
     },
     "execution_count": 41,
     "metadata": {},
     "output_type": "execute_result"
    }
   ],
   "source": [
    "soup.find_all(id=re.compile(\"^prim\"))  # Elementos con el id empezando en \"prim\""
   ]
  },
  {
   "cell_type": "markdown",
   "metadata": {},
   "source": [
    "* Argumento que impone una condición en forma de lista al valor que toma un atributo."
   ]
  },
  {
   "cell_type": "code",
   "execution_count": 42,
   "metadata": {},
   "outputs": [
    {
     "data": {
      "text/plain": [
       "[<p align=\"center\" id=\"primerparrafo\">\n",
       "       Esto es un parrafo\n",
       "       <b>\n",
       "         one\n",
       "       </b>\n",
       "       .\n",
       "     </p>,\n",
       " <p align=\"blah\" id=\"segundoparrafo\">\n",
       "       Esto es un parrafo\n",
       "       <b>\n",
       "         two\n",
       "       </b>\n",
       "       .\n",
       "     </p>]"
      ]
     },
     "execution_count": 42,
     "metadata": {},
     "output_type": "execute_result"
    }
   ],
   "source": [
    "soup.find_all(align=[\"center\",\"blah\"])  # Elementos cuyo atributo align toma valores \"center\" o \"blah\""
   ]
  },
  {
   "cell_type": "markdown",
   "metadata": {},
   "source": [
    "* Argumento que impone una condición en forma de una expresión booleano al valor que toma un atributo."
   ]
  },
  {
   "cell_type": "code",
   "execution_count": 43,
   "metadata": {},
   "outputs": [
    {
     "data": {
      "text/plain": [
       "[<p align=\"blah\" id=\"segundoparrafo\">\n",
       "       Esto es un parrafo\n",
       "       <b>\n",
       "         two\n",
       "       </b>\n",
       "       .\n",
       "     </p>]"
      ]
     },
     "execution_count": 43,
     "metadata": {},
     "output_type": "execute_result"
    }
   ],
   "source": [
    "soup.find_all(align=lambda value: value and len(value) <5)  # Elementos cuyo atributo align cumple la función"
   ]
  },
  {
   "cell_type": "markdown",
   "metadata": {},
   "source": [
    "* Argumento que iguala a True o None el valor de un atributo. True encaja con etiquetas que toman cualquier valor para el atributo y None encaja con etiquetas que no tienen valor para ese atributo."
   ]
  },
  {
   "cell_type": "code",
   "execution_count": 44,
   "metadata": {},
   "outputs": [
    {
     "data": {
      "text/plain": [
       "[<p align=\"center\" id=\"primerparrafo\">\n",
       "       Esto es un parrafo\n",
       "       <b>\n",
       "         one\n",
       "       </b>\n",
       "       .\n",
       "     </p>,\n",
       " <p align=\"blah\" id=\"segundoparrafo\">\n",
       "       Esto es un parrafo\n",
       "       <b>\n",
       "         two\n",
       "       </b>\n",
       "       .\n",
       "     </p>]"
      ]
     },
     "execution_count": 44,
     "metadata": {},
     "output_type": "execute_result"
    }
   ],
   "source": [
    "soup.find_all(align=True)  # Elementos con atributo align"
   ]
  },
  {
   "cell_type": "code",
   "execution_count": 45,
   "metadata": {},
   "outputs": [
    {
     "data": {
      "text/plain": [
       "['html', 'head', 'title', 'body', 'b', 'b']"
      ]
     },
     "execution_count": 45,
     "metadata": {},
     "output_type": "execute_result"
    }
   ],
   "source": [
    "etiquetas=soup.find_all(align=None) # Elementos sin atributo align\n",
    "[eti.name for eti in etiquetas]"
   ]
  },
  {
   "cell_type": "markdown",
   "metadata": {},
   "source": [
    "Algunos ejemplos del argumento text:"
   ]
  },
  {
   "cell_type": "code",
   "execution_count": 46,
   "metadata": {},
   "outputs": [
    {
     "data": {
      "text/plain": [
       "[(bs4.element.NavigableString, '\\n      Esto es un parrafo\\n      '),\n",
       " (bs4.element.NavigableString, '\\n      Esto es un parrafo\\n      ')]"
      ]
     },
     "execution_count": 46,
     "metadata": {},
     "output_type": "execute_result"
    }
   ],
   "source": [
    "# Elementos de tipo texto que contienen \"Esto\"\n",
    "elems = soup.find_all(string=re.compile(\"Esto\"))\n",
    "[(type(elem), elem) for elem in elems]"
   ]
  },
  {
   "cell_type": "code",
   "execution_count": 47,
   "metadata": {},
   "outputs": [
    {
     "data": {
      "text/plain": [
       "[(bs4.element.NavigableString, '\\n'),\n",
       " (bs4.element.NavigableString, '\\n'),\n",
       " (bs4.element.NavigableString, '\\n'),\n",
       " (bs4.element.NavigableString, '\\n    Título de la página\\n    '),\n",
       " (bs4.element.NavigableString, '\\n'),\n",
       " (bs4.element.NavigableString, '\\n'),\n",
       " (bs4.element.NavigableString, '\\n'),\n",
       " (bs4.element.NavigableString, '\\n      Esto es un parrafo\\n      '),\n",
       " (bs4.element.NavigableString, '\\n        one\\n      '),\n",
       " (bs4.element.NavigableString, '\\n      .\\n    '),\n",
       " (bs4.element.NavigableString, '\\n'),\n",
       " (bs4.element.NavigableString, '\\n      Esto es un parrafo\\n      '),\n",
       " (bs4.element.NavigableString, '\\n        two\\n      '),\n",
       " (bs4.element.NavigableString, '\\n      .\\n    '),\n",
       " (bs4.element.NavigableString, '\\n'),\n",
       " (bs4.element.NavigableString, '\\n'),\n",
       " (bs4.element.NavigableString, '\\n')]"
      ]
     },
     "execution_count": 47,
     "metadata": {},
     "output_type": "execute_result"
    }
   ],
   "source": [
    "# Todos los elementos de tipo texto\n",
    "elems = soup.find_all(string=True)\n",
    "[(type(elem), elem) for elem in elems]"
   ]
  },
  {
   "cell_type": "code",
   "execution_count": 48,
   "metadata": {},
   "outputs": [
    {
     "data": {
      "text/plain": [
       "['\\n    Título de la página\\n    ',\n",
       " '\\n      Esto es un parrafo\\n      ',\n",
       " '\\n      Esto es un parrafo\\n      ']"
      ]
     },
     "execution_count": 48,
     "metadata": {},
     "output_type": "execute_result"
    }
   ],
   "source": [
    "# Elementos de tipo texto con más de 8 letras al quitar caracteres en blanco por los lados\n",
    "soup.find_all(string=lambda x: len(x.strip()) > 8 )"
   ]
  },
  {
   "cell_type": "markdown",
   "metadata": {},
   "source": [
    "Algunos ejemplos del argumento recursive:"
   ]
  },
  {
   "cell_type": "code",
   "execution_count": 49,
   "metadata": {},
   "outputs": [
    {
     "data": {
      "text/plain": [
       "['head', 'title', 'body', 'p', 'b', 'p', 'b']"
      ]
     },
     "execution_count": 49,
     "metadata": {},
     "output_type": "execute_result"
    }
   ],
   "source": [
    "[tag.name for tag in soup.html.find_all()]"
   ]
  },
  {
   "cell_type": "code",
   "execution_count": 50,
   "metadata": {},
   "outputs": [
    {
     "data": {
      "text/plain": [
       "['head', 'body']"
      ]
     },
     "execution_count": 50,
     "metadata": {},
     "output_type": "execute_result"
    }
   ],
   "source": [
    "[tag.name for tag in soup.html.find_all(recursive=False)]"
   ]
  },
  {
   "cell_type": "markdown",
   "metadata": {},
   "source": [
    "Algunos ejemplos del argumento limit:"
   ]
  },
  {
   "cell_type": "code",
   "execution_count": 51,
   "metadata": {},
   "outputs": [
    {
     "data": {
      "text/plain": [
       "[<p align=\"center\" id=\"primerparrafo\">\n",
       "       Esto es un parrafo\n",
       "       <b>\n",
       "         one\n",
       "       </b>\n",
       "       .\n",
       "     </p>]"
      ]
     },
     "execution_count": 51,
     "metadata": {},
     "output_type": "execute_result"
    }
   ],
   "source": [
    "soup.find_all('p', limit=1)"
   ]
  },
  {
   "cell_type": "code",
   "execution_count": 52,
   "metadata": {},
   "outputs": [
    {
     "data": {
      "text/plain": [
       "[<p align=\"center\" id=\"primerparrafo\">\n",
       "       Esto es un parrafo\n",
       "       <b>\n",
       "         one\n",
       "       </b>\n",
       "       .\n",
       "     </p>,\n",
       " <p align=\"blah\" id=\"segundoparrafo\">\n",
       "       Esto es un parrafo\n",
       "       <b>\n",
       "         two\n",
       "       </b>\n",
       "       .\n",
       "     </p>]"
      ]
     },
     "execution_count": 52,
     "metadata": {},
     "output_type": "execute_result"
    }
   ],
   "source": [
    "soup.find_all('p', limit=100)"
   ]
  },
  {
   "cell_type": "markdown",
   "metadata": {},
   "source": [
    "El método find tiene una estructura similar a find_all:\n",
    "          \n",
    "    find(name, attrs, recursive, text)\n",
    "\n",
    "Es similar a find_all con la única diferencia de que en vez de recuperar todas las coincidencias, recupera sólo la primera. Tiene el mismo comportamiento que si el parámetro limit de find_all tomara el valor 1 salvo:\n",
    "* En caso de tener éxito, `find_all` devolverá una lista unitaria y `find` devolverá directamente el elmento encontrado\n",
    "* En caso de no tener éxito, `find_all` devolverá una lista vacía y `find` devolverá `None`\n"
   ]
  },
  {
   "cell_type": "code",
   "execution_count": 53,
   "metadata": {},
   "outputs": [
    {
     "data": {
      "text/plain": [
       "[<p align=\"center\" id=\"primerparrafo\">\n",
       "       Esto es un parrafo\n",
       "       <b>\n",
       "         one\n",
       "       </b>\n",
       "       .\n",
       "     </p>]"
      ]
     },
     "execution_count": 53,
     "metadata": {},
     "output_type": "execute_result"
    }
   ],
   "source": [
    "soup.find_all('p', limit=1)"
   ]
  },
  {
   "cell_type": "code",
   "execution_count": 54,
   "metadata": {},
   "outputs": [
    {
     "data": {
      "text/plain": [
       "<p align=\"center\" id=\"primerparrafo\">\n",
       "      Esto es un parrafo\n",
       "      <b>\n",
       "        one\n",
       "      </b>\n",
       "      .\n",
       "    </p>"
      ]
     },
     "execution_count": 54,
     "metadata": {},
     "output_type": "execute_result"
    }
   ],
   "source": [
    "soup.find('p')"
   ]
  },
  {
   "cell_type": "code",
   "execution_count": 55,
   "metadata": {},
   "outputs": [
    {
     "data": {
      "text/plain": [
       "<p align=\"center\" id=\"primerparrafo\">\n",
       "      Esto es un parrafo\n",
       "      <b>\n",
       "        one\n",
       "      </b>\n",
       "      .\n",
       "    </p>"
      ]
     },
     "execution_count": 55,
     "metadata": {},
     "output_type": "execute_result"
    }
   ],
   "source": [
    "soup.p"
   ]
  },
  {
   "cell_type": "code",
   "execution_count": 56,
   "metadata": {},
   "outputs": [
    {
     "data": {
      "text/plain": [
       "[]"
      ]
     },
     "execution_count": 56,
     "metadata": {},
     "output_type": "execute_result"
    }
   ],
   "source": [
    "soup.find_all('img', limit=1)"
   ]
  },
  {
   "cell_type": "code",
   "execution_count": 57,
   "metadata": {},
   "outputs": [
    {
     "data": {
      "text/plain": [
       "True"
      ]
     },
     "execution_count": 57,
     "metadata": {},
     "output_type": "execute_result"
    }
   ],
   "source": [
    "soup.find('img') is None"
   ]
  },
  {
   "cell_type": "code",
   "execution_count": 58,
   "metadata": {},
   "outputs": [
    {
     "data": {
      "text/plain": [
       "True"
      ]
     },
     "execution_count": 58,
     "metadata": {},
     "output_type": "execute_result"
    }
   ],
   "source": [
    "soup.img is None"
   ]
  },
  {
   "cell_type": "markdown",
   "metadata": {},
   "source": [
    "Observaciones:\n",
    "\n",
    "* Puede ocurrir que algún atributo de una etiqueta coincida con las palabras reservadas en BeautifulSoup. En estos casos no se puede hacer una referencia directa al atributo y es necesario usar un atributo que tienen las etiquetas denominado attrs que actúa como un diccionario que hace referencia a los atributos de una etiqueta."
   ]
  },
  {
   "cell_type": "code",
   "execution_count": 59,
   "metadata": {},
   "outputs": [
    {
     "data": {
      "text/plain": [
       "[<p align=\"center\" id=\"primerparrafo\">\n",
       "       Esto es un parrafo\n",
       "       <b>\n",
       "         one\n",
       "       </b>\n",
       "       .\n",
       "     </p>]"
      ]
     },
     "execution_count": 59,
     "metadata": {},
     "output_type": "execute_result"
    }
   ],
   "source": [
    "soup.find_all(attrs={\"id\":\"primerparrafo\"})"
   ]
  },
  {
   "cell_type": "markdown",
   "metadata": {},
   "source": [
    "* Se pueden combinar búsqueda por nombre y por atributo:"
   ]
  },
  {
   "cell_type": "code",
   "execution_count": 60,
   "metadata": {},
   "outputs": [
    {
     "data": {
      "text/plain": [
       "[<p align=\"center\" id=\"primerparrafo\">\n",
       "       Esto es un parrafo\n",
       "       <b>\n",
       "         one\n",
       "       </b>\n",
       "       .\n",
       "     </p>]"
      ]
     },
     "execution_count": 60,
     "metadata": {},
     "output_type": "execute_result"
    }
   ],
   "source": [
    "soup.find_all('p', {\"align\":\"center\"})"
   ]
  },
  {
   "cell_type": "markdown",
   "metadata": {},
   "source": [
    "* find_parents(name, attrs, limit) y find_parent(name, attrs):                                                       Devuelve los padres de la etiqueta considerada que coinciden con los criterios de búsqueda."
   ]
  },
  {
   "cell_type": "code",
   "execution_count": 61,
   "metadata": {},
   "outputs": [
    {
     "data": {
      "text/plain": [
       "['p', 'body', 'html', '[document]']"
      ]
     },
     "execution_count": 61,
     "metadata": {},
     "output_type": "execute_result"
    }
   ],
   "source": [
    "etiqueta = soup.find('b')\n",
    "[eti.name for eti in etiqueta.find_parents()]"
   ]
  },
  {
   "cell_type": "code",
   "execution_count": 62,
   "metadata": {},
   "outputs": [
    {
     "data": {
      "text/plain": [
       "'body'"
      ]
     },
     "execution_count": 62,
     "metadata": {},
     "output_type": "execute_result"
    }
   ],
   "source": [
    "etiqueta.find_parent('body').name"
   ]
  },
  {
   "cell_type": "markdown",
   "metadata": {},
   "source": [
    "### Ejemplo completo con BeautifulSoup: descargar imágenes de más de 200x200 píxeles de una web"
   ]
  },
  {
   "cell_type": "markdown",
   "metadata": {},
   "source": [
    "Se crea un árbol de procesamiento con BeautifulSoup y se recuperan todas las etiquetas `img` con de tamaño suficientemente grande:"
   ]
  },
  {
   "cell_type": "code",
   "execution_count": 63,
   "metadata": {},
   "outputs": [
    {
     "data": {
      "text/plain": [
       "50"
      ]
     },
     "execution_count": 63,
     "metadata": {},
     "output_type": "execute_result"
    }
   ],
   "source": [
    "import requests\n",
    "from bs4 import BeautifulSoup\n",
    "\n",
    "html = requests.get(\"http://trenesytiempos.blogspot.com.es/\").text\n",
    "soup = BeautifulSoup(html,\"html.parser\")\n",
    "etiquetas = soup.find_all('img', height=lambda x: int(x) > 200, width=lambda x: int(x) > 200)\n",
    "len(etiquetas)"
   ]
  },
  {
   "cell_type": "markdown",
   "metadata": {},
   "source": [
    "Recuperadas las URL de las direcciones que se quieren almacenar en el disco local, vamos una a una y las obtenemos con `requests` para escribir en un fichero diferente."
   ]
  },
  {
   "cell_type": "code",
   "execution_count": 64,
   "metadata": {},
   "outputs": [
    {
     "name": "stdout",
     "output_type": "stream",
     "text": [
      "0) Descargando foto https://blogger.googleusercontent.com/img/b/R29vZ2xl/AVvXsEhFgOtS255QY_-65I4ooM2Usj1Q_0vf-cQqkUdyTQfPHoIDoaXYnojCSpAJuI8YYnX0Z_jvdUSJpbeFDl3UtFxo8V9TRX0CKJDEGT9HkdVCck82FRWoCYMfDogO9mfoaWZuHM7ruLvwRhwm9DtqbruIG9IeNBavefdvuvqe91ptmJFNworUWb3Msu6WVxV8/w640-h460/Captura%20de%20pantalla%202024-07-21%20a%20las%2011.51.56.png\n",
      "1) Descargando foto https://blogger.googleusercontent.com/img/a/AVvXsEhSTfLylnhFZcDSvbedRgH2fxkW8iEcdMmeZw3Ybl6nZ54dPwUg64yBHG-n4aJ01LW8N8XIbSdlDgQ5bevoJr0Vyc7u3iLtt_tcbkvZmK5TzqRtz_Kq4VFy3byeqFcbEyz_zfRZ6_a_qDnnF8upYP60SvsyMh2JHJu4p3q8s55YWY4MvgcFWJcho7hZ2mVg=w640-h426\n",
      "2) Descargando foto https://blogger.googleusercontent.com/img/b/R29vZ2xl/AVvXsEgQjPx-KutB4XF53mkHHpYwY_iNfUajBVZ0F3dsLyHrw_Jh52-PYfFOZ4vSE5_jjYn9Zn1Khb8pKK4e4nP8eX_KAfETVFI9hygdVEe735tD-RcnhR869gNTWXKozHge7a5egJTH9dnNFnWwlVfITqpZkpnTSY0rDFTfJdRLbH5FO_JTucq-mxHaROtfyeHt/w640-h462/Captura%20de%20pantalla%202024-07-22%20a%20las%2011.17.14.png\n",
      "3) Descargando foto https://blogger.googleusercontent.com/img/b/R29vZ2xl/AVvXsEhcHtLUaWUjp7toyzjo_ce-q7_-Kf9c_aW3LqJqeZoMOGXvTac7fb8fqGyTrQXzYOQmbh_wYFyZsDqADIMVO93mdT7C0PuVlpfGm22j_zOlaxaebg0aF2OOsLOeOVoGajs7r0yyu_BfD8yrGqaVor2sfoyHZQDeTc-lurjNdMptnsHs2Rh2sRqQ3Q2LtO5z/w640-h480/106%20Muriedas%200823%20Jose.jpg\n",
      "4) Descargando foto https://blogger.googleusercontent.com/img/b/R29vZ2xl/AVvXsEjmvkcuy5m35QnS9GShL3F5oWGReWOJq8ArZMl0newmIQv6WN6ALmC0yu0Z7h54EKsU05OcxZNuWqxFUYc-SudTkTjOfgI-DVoanMypBh-Xx65FhBk6nrAFq1fShhwjC-MhnBQoPX27xsU4r5_Hx3eaPxwadzV44Lxwci6vKWOYlFu9YqaLMUjPQJRMc3Xe/w640-h490/Captura%20de%20pantalla%202024-06-26%20a%20las%2016.52.06.png\n",
      "5) Descargando foto https://blogger.googleusercontent.com/img/b/R29vZ2xl/AVvXsEhkKSiKJZCZsqAgwxvsalU3mMJcOq8IsGhRGzqm-JZ_M9Ghh6M8E0rxzEYuJqUBmIQ4KIIiH-l5LZGp0l7MjY8XfhiI0qNeiGtezKNRDwFFCB62wNR6YwsagOavYpaXKu9Mitx47sJ5Qg4-2muYjYeEjyybGFOcfDAGK5d09MhJRCM615yzz4fqWIzSeFGV/w640-h480/06-001%20en%20pruebas%20en%20Huesca%20en%200321%20Almuni%20Listadotren.jpeg\n",
      "6) Descargando foto https://blogger.googleusercontent.com/img/b/R29vZ2xl/AVvXsEiqFrwRUWbkw1rjjK8YRzMoIoxhyzELfLm7YWMR7KLaFWe7Teu2573Q7bs0sxcCpA5MYXjUecPqatgkDndO5czH_Fm1s0VivTefSo6GXN_zH0jT5CrlItbh4nGxi78Av3MiMJPEGeCo4xwZK2l5NBFLQQR3-so7h-GPnMhyVTCTTPd8suB6BB8wDPny7TYo/w640-h426/256-001%20saliendo%20de%20La%20Perruca%200722%20Chusin%20Garci%CC%81a_Listadotren).jpeg\n",
      "7) Descargando foto https://blogger.googleusercontent.com/img/b/R29vZ2xl/AVvXsEhY6lFbd-XJmm9RIIur_dhxMIduQKLTZDVWoiV6irgo3GAEWBdF-s_hI0mlHGip9wkfcQmWOWlqoTLBqQZ259okd-aAY5ELiM582gD5lGHUsz-aGue_TOOgF5vabstGLPxR2DXoygR6_Z61Jhrw5W-yWNIkWFfJ8lDwfvpszCipHlV8hz2ytbXfJmXepDhM/w640-h334/Locomotora-e-la-serie-256-de-Renfe-Mercancias-en-la-factoria-de-Stadler-Valencia-en-Albuixech.-C-RENFE.jpg\n",
      "8) Descargando foto https://blogger.googleusercontent.com/img/b/R29vZ2xl/AVvXsEgKH9u89UUXk0qi8dTNmwzj-GUacx0xLGh-21dExfwwMIp5bGgb2hjw0xY0j3syAbhrKaLIkj7Q_xBCsA1ripR1trxeOG-cw180PD_5EUXE67mXFkzMkK3xklqSfQxGtATXBgjHHErJlvr6ZZvIvMAogItt0vnhcVcg6nVjG9IHf5-wVR-ndXDyAF3dw9On/w640-h288/pruebas%20albacete%201122%20David%20M%20Listadotren.jpeg\n",
      "9) Descargando foto https://blogger.googleusercontent.com/img/b/R29vZ2xl/AVvXsEgzixqVtydMZkoRH7TuGSD6FiUPl-iDtb3ccSlIxtVUVmngjL6MUPHkdfABinslRqPpDsRfmwUZd2FjWyKKFFJmnXxq9VouPWCKZpot3zlEjs6gF9LrGMBqaQ_yAvdlt3hvrOTSXmjoUNasI_o1rY8mcUCJQzgF5jjOKuTTheQ9dag1dO6m4rPM5BxlxaVW/w640-h420/256.101%20pruebas%20andoain%200223%20Enaitz.jpeg\n"
     ]
    }
   ],
   "source": [
    "import requests\n",
    "\n",
    "# Descargar todas las fotos tarda un rato largo\n",
    "# Solo descargamos las 10 primeras\n",
    "for i, elem in enumerate(etiquetas[:10]):\n",
    "    with open(f\"foto{i}.jpg\", \"wb\") as archivo:\n",
    "        print(f\"{i}) Descargando foto {elem['src']}\")\n",
    "        res = requests.get(elem['src'])\n",
    "        archivo.write(res.content)"
   ]
  },
  {
   "cell_type": "markdown",
   "metadata": {},
   "source": [
    "### Ejemplo completo con BeautifulSoup: temas principales en la web del INE"
   ]
  },
  {
   "cell_type": "code",
   "execution_count": 65,
   "metadata": {},
   "outputs": [
    {
     "data": {
      "text/plain": [
       "[('Agricultura y medio ambiente',\n",
       "  'https://www.ine.es//dyngs/INEbase/es/categoria.htm?c=Estadistica_P&cid=1254735570567'),\n",
       " ('Ciencia y tecnología',\n",
       "  'https://www.ine.es//dyngs/INEbase/es/categoria.htm?c=Estadistica_P&cid=1254735976151'),\n",
       " ('Demografía y población',\n",
       "  'https://www.ine.es//dyngs/INEbase/es/categoria.htm?c=Estadistica_P&cid=1254734710984'),\n",
       " ('Economía',\n",
       "  'https://www.ine.es//dyngs/INEbase/es/categoria.htm?c=Estadistica_P&cid=1254735570541'),\n",
       " ('Industria, energía y construcción',\n",
       "  'https://www.ine.es//dyngs/INEbase/es/categoria.htm?c=Estadistica_P&cid=1254735570688'),\n",
       " ('Mercado laboral',\n",
       "  'https://www.ine.es//dyngs/INEbase/es/categoria.htm?c=Estadistica_P&cid=1254735976594'),\n",
       " ('Servicios',\n",
       "  'https://www.ine.es//dyngs/INEbase/es/categoria.htm?c=Estadistica_P&cid=1254735570703'),\n",
       " ('Nivel y condiciones de vida (IPC)',\n",
       "  'https://www.ine.es//dyngs/INEbase/es/categoria.htm?c=Estadistica_P&cid=1254735976604'),\n",
       " ('Sociedad',\n",
       "  'https://www.ine.es//dyngs/INEbase/es/categoria.htm?c=Estadistica_P&cid=1254735971047'),\n",
       " ('Estadísticas Experimentales',\n",
       "  'https://www.ine.es//experimental/experimental.htm')]"
      ]
     },
     "execution_count": 65,
     "metadata": {},
     "output_type": "execute_result"
    }
   ],
   "source": [
    "from bs4 import BeautifulSoup\n",
    "import requests\n",
    "\n",
    "BASE_URL = 'https://www.ine.es/'\n",
    "\n",
    "res = requests.get(BASE_URL)\n",
    "res.encoding = res.apparent_encoding  # Corregimos el encoding\n",
    "soup = BeautifulSoup(res.text)\n",
    "sec = soup.css.select_one(\"section#temas\")\n",
    "temas_li = sec.find_all('li')\n",
    "\n",
    "[(tema.p.text, f\"{BASE_URL}{tema.a.get('href')}\") for tema in temas_li]"
   ]
  },
  {
   "cell_type": "markdown",
   "metadata": {},
   "source": [
    "## MechanicalSoup"
   ]
  },
  {
   "cell_type": "markdown",
   "metadata": {},
   "source": [
    "MechanicalSoup es una biblioteca Python que nos permite cierta automatización con el navegador para hacer _web scraping_, por ejemplo rellenar formularios y analizar la respuesta obtenida. Se instala con:\n",
    "\n",
    "    pip install MechanicalSoup\n",
    "\n",
    "Un aspecto interesante es que te puede devolver las páginas directamente como sopas de BeautifulSoup, por lo que podemos usar todo lo que hemos visto anteriormente para analizar el HTML obtenido. \n",
    "\n",
    "Veamos un ejemplo de cómo acceder al IPC entre dos momentos temporales usando la página oficial del Instituto Nacional de Estadística (INE)."
   ]
  },
  {
   "cell_type": "code",
   "execution_count": 66,
   "metadata": {},
   "outputs": [
    {
     "name": "stdout",
     "output_type": "stream",
     "text": [
      "<select class=\"caja azul\" id=\"mesini\" name=\"idmesini\"><option value=\"1\">Enero</option>\n",
      "<option value=\"2\">Febrero</option>\n",
      "<option value=\"3\">Marzo</option>\n",
      "<option value=\"4\">Abril</option>\n",
      "<option value=\"5\">Mayo</option>\n",
      "<option value=\"6\">Junio</option>\n",
      "<option value=\"7\">Julio</option>\n",
      "<option selected=\"\" value=\"8\">Agosto</option>\n",
      "<option value=\"9\">Septiembre</option>\n",
      "<option value=\"10\">Octubre</option>\n",
      "<option value=\"11\">Noviembre</option>\n",
      "<option value=\"12\">Diciembre</option></select>\n",
      "<select class=\"caja azul\" id=\"anyoini\" name=\"anyoini\"><option value=\"1961\">1961</option>\n",
      "<option value=\"1962\">1962</option>\n",
      "<option value=\"1963\">1963</option>\n",
      "<option value=\"1964\">1964</option>\n",
      "<option value=\"1965\">1965</option>\n",
      "<option value=\"1966\">1966</option>\n",
      "<option value=\"1967\">1967</option>\n",
      "<option value=\"1968\">1968</option>\n",
      "<option value=\"1969\">1969</option>\n",
      "<option value=\"1970\">1970</option>\n",
      "<option value=\"1971\">1971</option>\n",
      "<option value=\"1972\">1972</option>\n",
      "<option value=\"1973\">1973</option>\n",
      "<option value=\"1974\">1974</option>\n",
      "<option value=\"1975\">1975</option>\n",
      "<option value=\"1976\">1976</option>\n",
      "<option value=\"1977\">1977</option>\n",
      "<option value=\"1978\">1978</option>\n",
      "<option value=\"1979\">1979</option>\n",
      "<option value=\"1980\">1980</option>\n",
      "<option value=\"1981\">1981</option>\n",
      "<option value=\"1982\">1982</option>\n",
      "<option value=\"1983\">1983</option>\n",
      "<option value=\"1984\">1984</option>\n",
      "<option value=\"1985\">1985</option>\n",
      "<option value=\"1986\">1986</option>\n",
      "<option value=\"1987\">1987</option>\n",
      "<option value=\"1988\">1988</option>\n",
      "<option value=\"1989\">1989</option>\n",
      "<option value=\"1990\">1990</option>\n",
      "<option value=\"1991\">1991</option>\n",
      "<option value=\"1992\">1992</option>\n",
      "<option value=\"1993\">1993</option>\n",
      "<option value=\"1994\">1994</option>\n",
      "<option value=\"1995\">1995</option>\n",
      "<option value=\"1996\">1996</option>\n",
      "<option value=\"1997\">1997</option>\n",
      "<option value=\"1998\">1998</option>\n",
      "<option value=\"1999\">1999</option>\n",
      "<option value=\"2000\">2000</option>\n",
      "<option value=\"2001\">2001</option>\n",
      "<option value=\"2002\">2002</option>\n",
      "<option value=\"2003\">2003</option>\n",
      "<option value=\"2004\">2004</option>\n",
      "<option value=\"2005\">2005</option>\n",
      "<option value=\"2006\">2006</option>\n",
      "<option value=\"2007\">2007</option>\n",
      "<option value=\"2008\">2008</option>\n",
      "<option value=\"2009\">2009</option>\n",
      "<option value=\"2010\">2010</option>\n",
      "<option value=\"2011\">2011</option>\n",
      "<option value=\"2012\">2012</option>\n",
      "<option value=\"2013\">2013</option>\n",
      "<option value=\"2014\">2014</option>\n",
      "<option value=\"2015\">2015</option>\n",
      "<option value=\"2016\">2016</option>\n",
      "<option value=\"2017\">2017</option>\n",
      "<option value=\"2018\">2018</option>\n",
      "<option value=\"2019\">2019</option>\n",
      "<option value=\"2020\">2020</option>\n",
      "<option value=\"2021\">2021</option>\n",
      "<option value=\"2022\">2022</option>\n",
      "<option selected=\"\" value=\"2023\">2023</option>\n",
      "<option value=\"2024\">2024</option></select>\n",
      "<select class=\"caja azul\" id=\"mesfin\" name=\"idmesfin\"><option value=\"1\">Enero</option>\n",
      "<option value=\"2\">Febrero</option>\n",
      "<option value=\"3\">Marzo</option>\n",
      "<option value=\"4\">Abril</option>\n",
      "<option value=\"5\">Mayo</option>\n",
      "<option value=\"6\">Junio</option>\n",
      "<option value=\"7\">Julio</option>\n",
      "<option selected=\"\" value=\"8\">Agosto</option>\n",
      "<option value=\"9\">Septiembre</option>\n",
      "<option value=\"10\">Octubre</option>\n",
      "<option value=\"11\">Noviembre</option>\n",
      "<option value=\"12\">Diciembre</option></select>\n",
      "<select class=\"caja azul\" id=\"anyofin\" name=\"anyofin\"><option value=\"1961\">1961</option>\n",
      "<option value=\"1962\">1962</option>\n",
      "<option value=\"1963\">1963</option>\n",
      "<option value=\"1964\">1964</option>\n",
      "<option value=\"1965\">1965</option>\n",
      "<option value=\"1966\">1966</option>\n",
      "<option value=\"1967\">1967</option>\n",
      "<option value=\"1968\">1968</option>\n",
      "<option value=\"1969\">1969</option>\n",
      "<option value=\"1970\">1970</option>\n",
      "<option value=\"1971\">1971</option>\n",
      "<option value=\"1972\">1972</option>\n",
      "<option value=\"1973\">1973</option>\n",
      "<option value=\"1974\">1974</option>\n",
      "<option value=\"1975\">1975</option>\n",
      "<option value=\"1976\">1976</option>\n",
      "<option value=\"1977\">1977</option>\n",
      "<option value=\"1978\">1978</option>\n",
      "<option value=\"1979\">1979</option>\n",
      "<option value=\"1980\">1980</option>\n",
      "<option value=\"1981\">1981</option>\n",
      "<option value=\"1982\">1982</option>\n",
      "<option value=\"1983\">1983</option>\n",
      "<option value=\"1984\">1984</option>\n",
      "<option value=\"1985\">1985</option>\n",
      "<option value=\"1986\">1986</option>\n",
      "<option value=\"1987\">1987</option>\n",
      "<option value=\"1988\">1988</option>\n",
      "<option value=\"1989\">1989</option>\n",
      "<option value=\"1990\">1990</option>\n",
      "<option value=\"1991\">1991</option>\n",
      "<option value=\"1992\">1992</option>\n",
      "<option value=\"1993\">1993</option>\n",
      "<option value=\"1994\">1994</option>\n",
      "<option value=\"1995\">1995</option>\n",
      "<option value=\"1996\">1996</option>\n",
      "<option value=\"1997\">1997</option>\n",
      "<option value=\"1998\">1998</option>\n",
      "<option value=\"1999\">1999</option>\n",
      "<option value=\"2000\">2000</option>\n",
      "<option value=\"2001\">2001</option>\n",
      "<option value=\"2002\">2002</option>\n",
      "<option value=\"2003\">2003</option>\n",
      "<option value=\"2004\">2004</option>\n",
      "<option value=\"2005\">2005</option>\n",
      "<option value=\"2006\">2006</option>\n",
      "<option value=\"2007\">2007</option>\n",
      "<option value=\"2008\">2008</option>\n",
      "<option value=\"2009\">2009</option>\n",
      "<option value=\"2010\">2010</option>\n",
      "<option value=\"2011\">2011</option>\n",
      "<option value=\"2012\">2012</option>\n",
      "<option value=\"2013\">2013</option>\n",
      "<option value=\"2014\">2014</option>\n",
      "<option value=\"2015\">2015</option>\n",
      "<option value=\"2016\">2016</option>\n",
      "<option value=\"2017\">2017</option>\n",
      "<option value=\"2018\">2018</option>\n",
      "<option value=\"2019\">2019</option>\n",
      "<option value=\"2020\">2020</option>\n",
      "<option value=\"2021\">2021</option>\n",
      "<option value=\"2022\">2022</option>\n",
      "<option value=\"2023\">2023</option>\n",
      "<option selected=\"\" value=\"2024\">2024</option></select>\n",
      "<input checked=\"checked\" id=\"tipo1\" name=\"ntipo\" type=\"radio\" value=\"1\"/>\n",
      "<input id=\"tipo2\" name=\"ntipo\" type=\"radio\" value=\"2\"/>\n",
      "<input id=\"tipo3\" name=\"ntipo\" type=\"radio\" value=\"3\"/>\n",
      "<input id=\"tipo4\" name=\"ntipo\" type=\"radio\" value=\"4\"/>\n",
      "<input id=\"tipo5\" name=\"ntipo\" type=\"radio\" value=\"5\"/>\n",
      "<input class=\"boton subt\" id=\"enviar\" name=\"enviar\" title=\"Calcular las variaciones\" type=\"submit\" value=\"Calcular\"/>\n"
     ]
    }
   ],
   "source": [
    "import mechanicalsoup\n",
    "\n",
    "url = 'https://www.ine.es/varipc/index.do'\n",
    "browser = mechanicalsoup.StatefulBrowser()\n",
    "browser.open(url)\n",
    "\n",
    "# Seleccionamos el formulario de nombre 'VarIPCFormBean'\n",
    "browser.select_form('form[name=VarIPCFormBean]')\n",
    "browser.form.print_summary()"
   ]
  },
  {
   "cell_type": "code",
   "execution_count": 67,
   "metadata": {},
   "outputs": [
    {
     "name": "stdout",
     "output_type": "stream",
     "text": [
      "<select class=\"caja azul\" id=\"mesini\" name=\"idmesini\"><option selected=\"selected\" value=\"1\">Enero</option>\n",
      "<option value=\"2\">Febrero</option>\n",
      "<option value=\"3\">Marzo</option>\n",
      "<option value=\"4\">Abril</option>\n",
      "<option value=\"5\">Mayo</option>\n",
      "<option value=\"6\">Junio</option>\n",
      "<option value=\"7\">Julio</option>\n",
      "<option value=\"8\">Agosto</option>\n",
      "<option value=\"9\">Septiembre</option>\n",
      "<option value=\"10\">Octubre</option>\n",
      "<option value=\"11\">Noviembre</option>\n",
      "<option value=\"12\">Diciembre</option></select>\n",
      "<select class=\"caja azul\" id=\"anyoini\" name=\"anyoini\"><option value=\"1961\">1961</option>\n",
      "<option value=\"1962\">1962</option>\n",
      "<option value=\"1963\">1963</option>\n",
      "<option value=\"1964\">1964</option>\n",
      "<option value=\"1965\">1965</option>\n",
      "<option value=\"1966\">1966</option>\n",
      "<option value=\"1967\">1967</option>\n",
      "<option value=\"1968\">1968</option>\n",
      "<option value=\"1969\">1969</option>\n",
      "<option value=\"1970\">1970</option>\n",
      "<option value=\"1971\">1971</option>\n",
      "<option value=\"1972\">1972</option>\n",
      "<option value=\"1973\">1973</option>\n",
      "<option value=\"1974\">1974</option>\n",
      "<option value=\"1975\">1975</option>\n",
      "<option value=\"1976\">1976</option>\n",
      "<option value=\"1977\">1977</option>\n",
      "<option value=\"1978\">1978</option>\n",
      "<option value=\"1979\">1979</option>\n",
      "<option value=\"1980\">1980</option>\n",
      "<option value=\"1981\">1981</option>\n",
      "<option value=\"1982\">1982</option>\n",
      "<option value=\"1983\">1983</option>\n",
      "<option value=\"1984\">1984</option>\n",
      "<option value=\"1985\">1985</option>\n",
      "<option value=\"1986\">1986</option>\n",
      "<option value=\"1987\">1987</option>\n",
      "<option value=\"1988\">1988</option>\n",
      "<option value=\"1989\">1989</option>\n",
      "<option value=\"1990\">1990</option>\n",
      "<option value=\"1991\">1991</option>\n",
      "<option value=\"1992\">1992</option>\n",
      "<option value=\"1993\">1993</option>\n",
      "<option value=\"1994\">1994</option>\n",
      "<option value=\"1995\">1995</option>\n",
      "<option value=\"1996\">1996</option>\n",
      "<option value=\"1997\">1997</option>\n",
      "<option value=\"1998\">1998</option>\n",
      "<option value=\"1999\">1999</option>\n",
      "<option value=\"2000\">2000</option>\n",
      "<option value=\"2001\">2001</option>\n",
      "<option value=\"2002\">2002</option>\n",
      "<option value=\"2003\">2003</option>\n",
      "<option value=\"2004\">2004</option>\n",
      "<option value=\"2005\">2005</option>\n",
      "<option value=\"2006\">2006</option>\n",
      "<option value=\"2007\">2007</option>\n",
      "<option value=\"2008\">2008</option>\n",
      "<option value=\"2009\">2009</option>\n",
      "<option value=\"2010\">2010</option>\n",
      "<option value=\"2011\">2011</option>\n",
      "<option value=\"2012\">2012</option>\n",
      "<option value=\"2013\">2013</option>\n",
      "<option value=\"2014\">2014</option>\n",
      "<option value=\"2015\">2015</option>\n",
      "<option value=\"2016\">2016</option>\n",
      "<option value=\"2017\">2017</option>\n",
      "<option value=\"2018\">2018</option>\n",
      "<option value=\"2019\">2019</option>\n",
      "<option value=\"2020\">2020</option>\n",
      "<option selected=\"selected\" value=\"2021\">2021</option>\n",
      "<option value=\"2022\">2022</option>\n",
      "<option value=\"2023\">2023</option>\n",
      "<option value=\"2024\">2024</option></select>\n",
      "<select class=\"caja azul\" id=\"mesfin\" name=\"idmesfin\"><option value=\"1\">Enero</option>\n",
      "<option value=\"2\">Febrero</option>\n",
      "<option value=\"3\">Marzo</option>\n",
      "<option value=\"4\">Abril</option>\n",
      "<option value=\"5\">Mayo</option>\n",
      "<option value=\"6\">Junio</option>\n",
      "<option value=\"7\">Julio</option>\n",
      "<option value=\"8\">Agosto</option>\n",
      "<option value=\"9\">Septiembre</option>\n",
      "<option value=\"10\">Octubre</option>\n",
      "<option value=\"11\">Noviembre</option>\n",
      "<option selected=\"selected\" value=\"12\">Diciembre</option></select>\n",
      "<select class=\"caja azul\" id=\"anyofin\" name=\"anyofin\"><option value=\"1961\">1961</option>\n",
      "<option value=\"1962\">1962</option>\n",
      "<option value=\"1963\">1963</option>\n",
      "<option value=\"1964\">1964</option>\n",
      "<option value=\"1965\">1965</option>\n",
      "<option value=\"1966\">1966</option>\n",
      "<option value=\"1967\">1967</option>\n",
      "<option value=\"1968\">1968</option>\n",
      "<option value=\"1969\">1969</option>\n",
      "<option value=\"1970\">1970</option>\n",
      "<option value=\"1971\">1971</option>\n",
      "<option value=\"1972\">1972</option>\n",
      "<option value=\"1973\">1973</option>\n",
      "<option value=\"1974\">1974</option>\n",
      "<option value=\"1975\">1975</option>\n",
      "<option value=\"1976\">1976</option>\n",
      "<option value=\"1977\">1977</option>\n",
      "<option value=\"1978\">1978</option>\n",
      "<option value=\"1979\">1979</option>\n",
      "<option value=\"1980\">1980</option>\n",
      "<option value=\"1981\">1981</option>\n",
      "<option value=\"1982\">1982</option>\n",
      "<option value=\"1983\">1983</option>\n",
      "<option value=\"1984\">1984</option>\n",
      "<option value=\"1985\">1985</option>\n",
      "<option value=\"1986\">1986</option>\n",
      "<option value=\"1987\">1987</option>\n",
      "<option value=\"1988\">1988</option>\n",
      "<option value=\"1989\">1989</option>\n",
      "<option value=\"1990\">1990</option>\n",
      "<option value=\"1991\">1991</option>\n",
      "<option value=\"1992\">1992</option>\n",
      "<option value=\"1993\">1993</option>\n",
      "<option value=\"1994\">1994</option>\n",
      "<option value=\"1995\">1995</option>\n",
      "<option value=\"1996\">1996</option>\n",
      "<option value=\"1997\">1997</option>\n",
      "<option value=\"1998\">1998</option>\n",
      "<option value=\"1999\">1999</option>\n",
      "<option value=\"2000\">2000</option>\n",
      "<option value=\"2001\">2001</option>\n",
      "<option value=\"2002\">2002</option>\n",
      "<option value=\"2003\">2003</option>\n",
      "<option value=\"2004\">2004</option>\n",
      "<option value=\"2005\">2005</option>\n",
      "<option value=\"2006\">2006</option>\n",
      "<option value=\"2007\">2007</option>\n",
      "<option value=\"2008\">2008</option>\n",
      "<option value=\"2009\">2009</option>\n",
      "<option value=\"2010\">2010</option>\n",
      "<option value=\"2011\">2011</option>\n",
      "<option value=\"2012\">2012</option>\n",
      "<option value=\"2013\">2013</option>\n",
      "<option value=\"2014\">2014</option>\n",
      "<option value=\"2015\">2015</option>\n",
      "<option value=\"2016\">2016</option>\n",
      "<option value=\"2017\">2017</option>\n",
      "<option value=\"2018\">2018</option>\n",
      "<option value=\"2019\">2019</option>\n",
      "<option value=\"2020\">2020</option>\n",
      "<option value=\"2021\">2021</option>\n",
      "<option selected=\"selected\" value=\"2022\">2022</option>\n",
      "<option value=\"2023\">2023</option>\n",
      "<option value=\"2024\">2024</option></select>\n",
      "<input checked=\"\" id=\"tipo1\" name=\"ntipo\" type=\"radio\" value=\"1\"/>\n",
      "<input id=\"tipo2\" name=\"ntipo\" type=\"radio\" value=\"2\"/>\n",
      "<input id=\"tipo3\" name=\"ntipo\" type=\"radio\" value=\"3\"/>\n",
      "<input id=\"tipo4\" name=\"ntipo\" type=\"radio\" value=\"4\"/>\n",
      "<input id=\"tipo5\" name=\"ntipo\" type=\"radio\" value=\"5\"/>\n",
      "<input class=\"boton subt\" id=\"enviar\" name=\"enviar\" title=\"Calcular las variaciones\" type=\"submit\" value=\"Calcular\"/>\n"
     ]
    }
   ],
   "source": [
    "# Rellenamos el formulario para conocer el IPC entre enero de 2021 y diciembre de 2022\n",
    "browser[\"idmesini\"] = \"Enero\"\n",
    "browser[\"anyoini\"] = \"2021\"\n",
    "browser[\"idmesfin\"] = \"Diciembre\"\n",
    "browser[\"anyofin\"] = \"2022\"\n",
    "browser[\"ntipo\"] = \"1\" # Tipo \"General Nacional (desde enero de 1961)\"\n",
    "browser.form.print_summary()"
   ]
  },
  {
   "cell_type": "code",
   "execution_count": 68,
   "metadata": {},
   "outputs": [
    {
     "name": "stdout",
     "output_type": "stream",
     "text": [
      "200\n",
      "{'Date': 'Fri, 04 Oct 2024 11:18:22 GMT',\n",
      " 'Cache-Control': 'no-store',\n",
      " 'Pragma': 'no-cache',\n",
      " 'Expires': 'Thu, 01 Jan 1970 00:00:00 GMT',\n",
      " 'Content-Type': 'text/html;charset=UTF-8',\n",
      " 'Keep-Alive': 'timeout=15, max=99',\n",
      " 'Connection': 'Keep-Alive',\n",
      " 'Set-Cookie': 'TS01c34874=018b1b3cc21de9bcdc3803e9708979faf316facfd00203ae683c552ef4e1da18013de33e21c4654d97cb8ea067d4c43ff5aab6ebfd; '\n",
      "               'Path=/; Domain=.www.ine.es',\n",
      " 'Vary': 'Accept-Encoding',\n",
      " 'Content-Encoding': 'gzip',\n",
      " 'Transfer-Encoding': 'chunked'}\n",
      "('\\r\\n'\n",
      " '\\r\\n'\n",
      " '\\r\\n'\n",
      " '\\r\\n'\n",
      " '\\r\\n'\n",
      " '\\r\\n'\n",
      " '\\r\\n'\n",
      " '\\r\\n'\n",
      " '\\r\\n'\n",
      " '\\r\\n'\n",
      " '<!DOCTYPE html>\\r\\n'\n",
      " '\\r\\n'\n",
      " '<html lang=\"es\">\\r\\n'\n",
      " '<head>\\r\\n'\n",
      " '<title>Cálculo de variaciones del Indice de Precios de Consumo</title>\\r\\n'\n",
      " '\\r\\n'\n",
      " '<meta http-equiv=\"X-UA-Compatible\" content=\"IE=edge\">\\n'\n",
      " '<meta charset=\"UTF-8\">\\n'\n",
      " '<link rel=\"shortcut icon\" href=\"/menus/img/favicon.ico\" '\n",
      " 'type=\"image/x-icon\">\\n'\n",
      " '<link href=\"/menus/img/favicon.png\" rel=\"apple-touch-icon\">\\n'\n",
      " '<link href=\"/menus/img/apple-touch-icon-57x57-precomposed.png\" '\n",
      " 'rel=\"apple-touch-icon\" sizes=\"57x57\">\\n'\n",
      " '<link href=\"/menus/img/apple-touch-icon-60x60-precomposed.png\" '\n",
      " 'rel=\"apple-touch-icon\" sizes=\"60x60\">\\n'\n",
      " '<link href=\"/menus/img/apple-touch-icon-72x72-precomposed.png\" '\n",
      " 'rel=\"apple-touch-icon\" sizes=\"76x76\">\\n'\n",
      " '<link href=\"/menus/img/apple-touch-icon-76x76-precomposed.png\" '\n",
      " 'rel=\"apple-touch-icon\" sizes=\"76x76\">\\n'\n",
      " '<link href=\"/menus/img/apple-touch-icon-114x114-precomposed.png\" '\n",
      " 'rel=\"apple-touch-icon\" sizes=\"114x114\">\\n'\n",
      " '<link href=\"/menus/img/apple-touch-icon-120x120-precomposed.png\" '\n",
      " 'rel=\"apple-touch-icon\" sizes=\"120x120\">\\n'\n",
      " '<link href=\"/menus/img/apple-touc')\n"
     ]
    },
    {
     "data": {
      "text/plain": [
       "<Response [200]>"
      ]
     },
     "execution_count": 68,
     "metadata": {},
     "output_type": "execute_result"
    }
   ],
   "source": [
    "from pprint import pp\n",
    "\n",
    "response = browser.submit_selected()\n",
    "\n",
    "print(response.status_code)\n",
    "pp(dict(response.headers))\n",
    "pp(response.text[:1000])\n",
    "response"
   ]
  },
  {
   "cell_type": "code",
   "execution_count": 69,
   "metadata": {},
   "outputs": [
    {
     "data": {
      "text/plain": [
       "'12,6'"
      ]
     },
     "execution_count": 69,
     "metadata": {},
     "output_type": "execute_result"
    }
   ],
   "source": [
    "soup = browser.page  # Devuelve directamente una sopa de BeautifulSoup\n",
    "casilla = soup.select_one(\"td.celdadato\")  # Con select_one buscamos usando un selector CSS\n",
    "ipc = casilla.contents[2].text.strip()\n",
    "ipc"
   ]
  },
  {
   "cell_type": "code",
   "execution_count": 70,
   "metadata": {},
   "outputs": [
    {
     "data": {
      "text/plain": [
       "12.6"
      ]
     },
     "execution_count": 70,
     "metadata": {},
     "output_type": "execute_result"
    }
   ],
   "source": [
    "# Ojo que devuelve el decimal con coma, si queremos convertilo a float para operar o \n",
    "# comparar con este valor deberíamos reemplazar ',' por '.'\n",
    "float(ipc.replace(',', '.'))"
   ]
  }
 ],
 "metadata": {
  "kernelspec": {
   "display_name": "Python 3 (ipykernel)",
   "language": "python",
   "name": "python3"
  },
  "language_info": {
   "codemirror_mode": {
    "name": "ipython",
    "version": 3
   },
   "file_extension": ".py",
   "mimetype": "text/x-python",
   "name": "python",
   "nbconvert_exporter": "python",
   "pygments_lexer": "ipython3",
   "version": "3.11.10"
  }
 },
 "nbformat": 4,
 "nbformat_minor": 4
}
